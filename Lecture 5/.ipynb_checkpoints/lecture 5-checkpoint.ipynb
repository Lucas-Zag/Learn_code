{
 "cells": [
  {
   "cell_type": "code",
   "execution_count": 1,
   "id": "3a63eb88-1b63-42b6-b7d6-39cabaef8a1b",
   "metadata": {},
   "outputs": [
    {
     "name": "stdout",
     "output_type": "stream",
     "text": [
      "1234567890 = 2^30 + 2^27 + 2^24 + 2^23 + 2^20 + 2^18 + 2^17 + 2^9 + 2^7 + 2^6 + 2^4 + 2^1\n"
     ]
    }
   ],
   "source": [
    "def f4(n):\n",
    "    powers = []  # 存储 2 的幂次方\n",
    "    num = n\n",
    "    power = 0  # 指数\n",
    "\n",
    "    while num > 0:\n",
    "        if num & 1:  # 检查最低位是否为 1\n",
    "            powers.append(f\"2^{power}\")  # 记录指数\n",
    "        num >>= 1  # 右移，去掉最低位\n",
    "        power += 1  # 指数 +1\n",
    "\n",
    "    # 组合输出字符串\n",
    "    result = f\"{n} = \" + \" + \".join(reversed(powers))\n",
    "    print(result)\n",
    "\n",
    "# 运行示例\n",
    "f4(1234567890)\n"
   ]
  },
  {
   "cell_type": "code",
   "execution_count": null,
   "id": "79f2b8ce-173c-4b3c-84f5-5fccf47d3d18",
   "metadata": {},
   "outputs": [],
   "source": []
  }
 ],
 "metadata": {
  "kernelspec": {
   "display_name": "Python 3 (ipykernel)",
   "language": "python",
   "name": "python3"
  },
  "language_info": {
   "codemirror_mode": {
    "name": "ipython",
    "version": 3
   },
   "file_extension": ".py",
   "mimetype": "text/x-python",
   "name": "python",
   "nbconvert_exporter": "python",
   "pygments_lexer": "ipython3",
   "version": "3.11.8"
  }
 },
 "nbformat": 4,
 "nbformat_minor": 5
}

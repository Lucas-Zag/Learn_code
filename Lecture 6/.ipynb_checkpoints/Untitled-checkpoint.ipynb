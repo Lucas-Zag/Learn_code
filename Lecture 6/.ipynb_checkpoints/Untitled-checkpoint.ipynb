{
 "cells": [
  {
   "cell_type": "code",
   "execution_count": 43,
   "id": "b9ab814e-c534-4d46-acd0-9a64d4033e44",
   "metadata": {},
   "outputs": [],
   "source": [
    "# Written by *** for COMP9021\n",
    "#\n",
    "# Implements a function display_leftmost_topmost_boundary(*grid)\n",
    "# whose argument grid is supposed to be a sequence of strings\n",
    "# all of the same length, consisting of nothing but spaces and *s,\n",
    "# that represent one or more \"full polygons\" that do not \"touch\"\n",
    "# each other.\n",
    "# The selected polygon's top boundary is as high as possible ,\n",
    "# and amongst all polygons whose top boundary is as high as possible,\n",
    "# the selected polygon's top boundary starts as much to the left\n",
    "# as possible.\n",
    "# Each line of the output has the same number of characters,\n",
    "# that of each string passed as argument.\n",
    "import numpy as np\n",
    "\n",
    "\n",
    "def display(*grid):\n",
    "    for row in grid:\n",
    "        print(' '.join(e for e in row))\n",
    "   \n",
    "def display_leftmost_topmost_boundary(*grid):\n",
    "    grid_nb = np.array([[1 if j == '*' else 0 for j in row] for row in grid])\n",
    "    size_row , size_column =grid_nb.shape\n",
    "    #grids_full = np.zeros((size_row+2) * (size_column +2), int).reshape(size_row+2, size_column+2)\n",
    "    grids_full = np.zeros((size_row+2 ,size_column +2), int)\n",
    "    grids_full[1 : -1, 1 : -1] = grid_nb\n",
    "    grids_N  = grids_full [ : -2,1 : -1]\n",
    "    grids_S = grids_full[2 : , 1 : -1]\n",
    "    grids_W = grids_full[1 : -1, : -2]\n",
    "    grids_E = grids_full[1 : -1, 2: ]\n",
    "    neighbours = grids_E + grids_W + grids_S + grids_N\n",
    "    mask = (neighbours == 4 )& (grids_full[1 : -1, 1 : -1] == 1)\n",
    "    grids_full[1 : -1, 1 : -1] [mask] = 0\n",
    "\n",
    "    grid_tl = grids_full[1 : -1, 1 : -1]\n",
    "    \n",
    "    visited_nb = np.zeros((size_row ,size_column), dtype = bool)\n",
    "    for r in range(size_row):\n",
    "        for c in range(size_column):\n",
    "            stake = [(r,c)]\n",
    "            while stake:\n",
    "                x, y= stake.pop()\n",
    "                if grid_tl[x][y] == 1 and not visited_nb[x][y]:            \n",
    "                    visited_nb[x][y] = True\n",
    "                    for dr in [-1, 0, 1]:\n",
    "                        for dc in [-1, 0, 1]:\n",
    "                            if dr != 0 or dc != 0:\n",
    "                                stake.append((x + dr, y +dc))\n",
    "    \n",
    "    new_grid = np.array([['*' if i == 1 else \" \" for i in row] for row in visited_nb])\n",
    "    \n",
    "    \n",
    "    \n",
    "    \n",
    "    display(*visited_nb)\n",
    "\n",
    "# POSSIBLY DEFINE OTHER FUNCTIONS"
   ]
  },
  {
   "cell_type": "code",
   "execution_count": 47,
   "id": "c9b02893-333a-47af-aaf0-32abf400f140",
   "metadata": {},
   "outputs": [],
   "source": [
    "grid_1 =(\n",
    "       '  *     ',  \n",
    "       ' ***    ', \n",
    "       '*****   ',  \n",
    "       '****  * ',  \n",
    "       ' **  ***',   \n",
    "       '  *   * '\n",
    ")"
   ]
  },
  {
   "cell_type": "code",
   "execution_count": 45,
   "id": "e2ab1cde-a31a-4d26-a2c1-2fa065074176",
   "metadata": {
    "scrolled": true
   },
   "outputs": [
    {
     "name": "stdout",
     "output_type": "stream",
     "text": [
      "    *          \n",
      "  * * *        \n",
      "* * * * *      \n",
      "* * * *     *  \n",
      "  * *     * * *\n",
      "    *       *  \n"
     ]
    }
   ],
   "source": [
    "display(*grid_1)"
   ]
  },
  {
   "cell_type": "code",
   "execution_count": 46,
   "id": "50cb0978-1bc9-4561-85c2-154ec4755801",
   "metadata": {},
   "outputs": [
    {
     "ename": "IndexError",
     "evalue": "index 6 is out of bounds for axis 0 with size 6",
     "output_type": "error",
     "traceback": [
      "\u001b[0;31m---------------------------------------------------------------------------\u001b[0m",
      "\u001b[0;31mIndexError\u001b[0m                                Traceback (most recent call last)",
      "Cell \u001b[0;32mIn[46], line 1\u001b[0m\n\u001b[0;32m----> 1\u001b[0m \u001b[43mdisplay_leftmost_topmost_boundary\u001b[49m\u001b[43m(\u001b[49m\u001b[38;5;241;43m*\u001b[39;49m\u001b[43mgrid_1\u001b[49m\u001b[43m)\u001b[49m\n",
      "Cell \u001b[0;32mIn[43], line 43\u001b[0m, in \u001b[0;36mdisplay_leftmost_topmost_boundary\u001b[0;34m(*grid)\u001b[0m\n\u001b[1;32m     41\u001b[0m \u001b[38;5;28;01mwhile\u001b[39;00m stake:\n\u001b[1;32m     42\u001b[0m     x, y\u001b[38;5;241m=\u001b[39m stake\u001b[38;5;241m.\u001b[39mpop()\n\u001b[0;32m---> 43\u001b[0m     \u001b[38;5;28;01mif\u001b[39;00m \u001b[43mgrid_tl\u001b[49m\u001b[43m[\u001b[49m\u001b[43mx\u001b[49m\u001b[43m]\u001b[49m[y] \u001b[38;5;241m==\u001b[39m \u001b[38;5;241m1\u001b[39m \u001b[38;5;129;01mand\u001b[39;00m \u001b[38;5;129;01mnot\u001b[39;00m visited_nb[x][y]:            \n\u001b[1;32m     44\u001b[0m         visited_nb[x][y] \u001b[38;5;241m=\u001b[39m \u001b[38;5;28;01mTrue\u001b[39;00m\n\u001b[1;32m     45\u001b[0m         \u001b[38;5;28;01mfor\u001b[39;00m dr \u001b[38;5;129;01min\u001b[39;00m [\u001b[38;5;241m-\u001b[39m\u001b[38;5;241m1\u001b[39m, \u001b[38;5;241m0\u001b[39m, \u001b[38;5;241m1\u001b[39m]:\n",
      "\u001b[0;31mIndexError\u001b[0m: index 6 is out of bounds for axis 0 with size 6"
     ]
    }
   ],
   "source": [
    "display_leftmost_topmost_boundary(*grid_1)"
   ]
  },
  {
   "cell_type": "code",
   "execution_count": 25,
   "id": "ac7e5e0d-c9ce-4444-877d-e2f34d170fc9",
   "metadata": {},
   "outputs": [
    {
     "data": {
      "text/plain": [
       "'*'"
      ]
     },
     "execution_count": 25,
     "metadata": {},
     "output_type": "execute_result"
    }
   ],
   "source": [
    "grid_1[2][0]"
   ]
  },
  {
   "cell_type": "code",
   "execution_count": 30,
   "id": "2e834e51-1f39-4aff-8128-4afa85efba3a",
   "metadata": {},
   "outputs": [
    {
     "data": {
      "text/plain": [
       "array([[False, False, False, False, False, False, False, False],\n",
       "       [False, False, False, False, False, False, False, False],\n",
       "       [False, False, False, False, False, False, False, False],\n",
       "       [False, False, False, False, False, False, False, False],\n",
       "       [False, False, False, False, False, False, False, False],\n",
       "       [False, False, False, False, False, False, False, False]])"
      ]
     },
     "execution_count": 30,
     "metadata": {},
     "output_type": "execute_result"
    }
   ],
   "source": [
    "grid_nb = np.array([[1 if j == '*' else 0 for j in row] for row in grid_1])\n",
    "size_row , size_column =grid_nb.shape\n",
    "\n",
    "\n",
    "visited_nb = np.zeros((size_row ,size_column ), dtype = bool)\n",
    "for r in range(size_row):\n",
    "    for c in range(size_column):\n",
    "        stake = ([r,c])\n",
    "        while stake:\n",
    "            x, y= stake.pop()\n",
    "            if new_grid[r][c] == '*' and not visited[r][c]:            \n",
    "                visited[r][c] = True\n",
    "                for dr in [-1, 0, 1]:\n",
    "                    for dc in [-1, 0, 1]:\n",
    "                        if dr != 0 or dc != 0:\n",
    "                            stake.append((x + dr, y +dc))\n",
    "                        "
   ]
  },
  {
   "cell_type": "code",
   "execution_count": 63,
   "id": "1cbd4db9-9f78-44b1-8bac-9ad40af462d5",
   "metadata": {},
   "outputs": [],
   "source": [
    "import numpy as np\n",
    "\n",
    "\n",
    "def display(*grid):\n",
    "    for row in grid:\n",
    "        print(' '.join(e for e in row))\n",
    "   \n",
    "def display_leftmost_topmost_boundary(*grid):\n",
    "    grid_nb = np.array([[1 if j == '*' else 0 for j in row] for row in grid])\n",
    "    size_row , size_column =grid_nb.shape\n",
    "    #grids_full = np.zeros((size_row+2) * (size_column +2), int).reshape(size_row+2, size_column+2)\n",
    "    grids_full = np.zeros((size_row+2 ,size_column +2), int)\n",
    "    grids_full[1 : -1, 1 : -1] = grid_nb\n",
    "    grids_N  = grids_full [ : -2,1 : -1]\n",
    "    grids_S = grids_full[2 : , 1 : -1]\n",
    "    grids_W = grids_full[1 : -1, : -2]\n",
    "    grids_E = grids_full[1 : -1, 2: ]\n",
    "    neighbours = grids_E + grids_W + grids_S + grids_N\n",
    "    mask = (neighbours == 4 )& (grids_full[1 : -1, 1 : -1] == 1)\n",
    "    grids_full[1 : -1, 1 : -1] [mask] = 0\n",
    "\n",
    "    grid_tl = grids_full[1 : -1, 1 : -1]\n",
    "    visited_nb = np.zeros((size_row ,size_column), dtype = bool)\n",
    "    for r in range(size_row):\n",
    "        for c in range(size_column):\n",
    "            stack = [(r,c)]\n",
    "            while stack:\n",
    "                x, y = stack.pop()\n",
    "                if grid_tl[x][y] == 1 and not visited_nb[x][y]:\n",
    "                    visited_nb[x][y] = True\n",
    "                    for dr in [-1, 0, 1]:\n",
    "                        for dc in [-1, 0, 1]:\n",
    "                            if dr != 0 or dc != 0:\n",
    "                                stack.append((x + dr, y +dc))\n",
    "    new_grid = np.array([['*' if i == 1 else \" \" for i in row] for row in visited_nb])\n",
    "\n",
    "    display(*new_grid)"
   ]
  },
  {
   "cell_type": "code",
   "execution_count": 64,
   "id": "59a81372-7c45-4eab-919b-70193510ea12",
   "metadata": {},
   "outputs": [],
   "source": [
    "grid_1 =(\n",
    "       '  *     ',  \n",
    "       ' ***    ', \n",
    "       '*****   ',  \n",
    "       '****  * ',  \n",
    "       ' **  ***',   \n",
    "       '  *   * '\n",
    ")"
   ]
  },
  {
   "cell_type": "code",
   "execution_count": 65,
   "id": "02f7c618-f4ac-4050-9481-e44ea252a1f6",
   "metadata": {},
   "outputs": [
    {
     "ename": "IndexError",
     "evalue": "index 6 is out of bounds for axis 0 with size 6",
     "output_type": "error",
     "traceback": [
      "\u001b[0;31m---------------------------------------------------------------------------\u001b[0m",
      "\u001b[0;31mIndexError\u001b[0m                                Traceback (most recent call last)",
      "Cell \u001b[0;32mIn[65], line 1\u001b[0m\n\u001b[0;32m----> 1\u001b[0m \u001b[43mdisplay_leftmost_topmost_boundary\u001b[49m\u001b[43m(\u001b[49m\u001b[38;5;241;43m*\u001b[39;49m\u001b[43mgrid_1\u001b[49m\u001b[43m)\u001b[49m\n",
      "Cell \u001b[0;32mIn[63], line 29\u001b[0m, in \u001b[0;36mdisplay_leftmost_topmost_boundary\u001b[0;34m(*grid)\u001b[0m\n\u001b[1;32m     27\u001b[0m \u001b[38;5;28;01mwhile\u001b[39;00m stack:\n\u001b[1;32m     28\u001b[0m     x, y \u001b[38;5;241m=\u001b[39m stack\u001b[38;5;241m.\u001b[39mpop()\n\u001b[0;32m---> 29\u001b[0m     \u001b[38;5;28;01mif\u001b[39;00m \u001b[43mgrid_tl\u001b[49m\u001b[43m[\u001b[49m\u001b[43mx\u001b[49m\u001b[43m]\u001b[49m[y] \u001b[38;5;241m==\u001b[39m \u001b[38;5;241m1\u001b[39m \u001b[38;5;129;01mand\u001b[39;00m \u001b[38;5;129;01mnot\u001b[39;00m visited_nb[x][y]:\n\u001b[1;32m     30\u001b[0m         visited_nb[x][y] \u001b[38;5;241m=\u001b[39m \u001b[38;5;28;01mTrue\u001b[39;00m\n\u001b[1;32m     31\u001b[0m         \u001b[38;5;28;01mfor\u001b[39;00m dr \u001b[38;5;129;01min\u001b[39;00m [\u001b[38;5;241m-\u001b[39m\u001b[38;5;241m1\u001b[39m, \u001b[38;5;241m0\u001b[39m, \u001b[38;5;241m1\u001b[39m]:\n",
      "\u001b[0;31mIndexError\u001b[0m: index 6 is out of bounds for axis 0 with size 6"
     ]
    }
   ],
   "source": [
    "display_leftmost_topmost_boundary(*grid_1)"
   ]
  },
  {
   "cell_type": "code",
   "execution_count": 66,
   "id": "6609a6ff-938f-45de-ace6-5e54092e03a5",
   "metadata": {},
   "outputs": [
    {
     "name": "stdout",
     "output_type": "stream",
     "text": [
      "0\n",
      "1\n",
      "2\n",
      "3\n",
      "4\n",
      "5\n"
     ]
    }
   ],
   "source": [
    "for i in range(6):\n",
    "    print(i)"
   ]
  },
  {
   "cell_type": "code",
   "execution_count": null,
   "id": "00556cb4-e354-46ad-89a5-a4e83957faba",
   "metadata": {},
   "outputs": [],
   "source": []
  }
 ],
 "metadata": {
  "kernelspec": {
   "display_name": "Python 3 (ipykernel)",
   "language": "python",
   "name": "python3"
  },
  "language_info": {
   "codemirror_mode": {
    "name": "ipython",
    "version": 3
   },
   "file_extension": ".py",
   "mimetype": "text/x-python",
   "name": "python",
   "nbconvert_exporter": "python",
   "pygments_lexer": "ipython3",
   "version": "3.11.8"
  }
 },
 "nbformat": 4,
 "nbformat_minor": 5
}

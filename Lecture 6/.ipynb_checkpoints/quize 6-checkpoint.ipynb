{
 "cells": [
  {
   "cell_type": "code",
   "execution_count": 155,
   "id": "45f9dcae-f4a5-4b73-914b-6edeee114afd",
   "metadata": {},
   "outputs": [],
   "source": [
    "import numpy as np\n",
    "\n",
    "# def display(*grid):\n",
    "#     for row in grid:\n",
    "#         print(''.join(e for e in row))\n",
    "def display(*grid):\n",
    "    for row in grid:\n",
    "        print(e for e in row)\n",
    "        \n",
    "def display_leftmost_topmost_boundary(*grid):\n",
    "    pass\n",
    "\n",
    "    "
   ]
  },
  {
   "cell_type": "code",
   "execution_count": null,
   "id": "b813e157-f8b9-4267-bb7b-3532c29adc5e",
   "metadata": {},
   "outputs": [],
   "source": []
  },
  {
   "cell_type": "code",
   "execution_count": null,
   "id": "39d47d76-7ecc-4afd-b625-90e8fa4eb5bd",
   "metadata": {},
   "outputs": [],
   "source": []
  },
  {
   "cell_type": "code",
   "execution_count": null,
   "id": "ddb03e64-9c3d-4943-b492-fce1adb098a4",
   "metadata": {},
   "outputs": [],
   "source": []
  },
  {
   "cell_type": "code",
   "execution_count": 156,
   "id": "4d7f5634-f121-413a-8947-774a154d1a54",
   "metadata": {},
   "outputs": [],
   "source": [
    "grid_1 =(\n",
    "       '  *     ',  \n",
    "       ' ***    ', \n",
    "       '*****   ',  \n",
    "       '****  * ',  \n",
    "       ' **  ***',   \n",
    "       '  *   * '\n",
    ")"
   ]
  },
  {
   "cell_type": "code",
   "execution_count": 157,
   "id": "240da345-5467-4b24-98f1-b4b495c53a94",
   "metadata": {},
   "outputs": [
    {
     "data": {
      "text/plain": [
       "' ***    '"
      ]
     },
     "execution_count": 157,
     "metadata": {},
     "output_type": "execute_result"
    }
   ],
   "source": [
    "grid_1[1]"
   ]
  },
  {
   "cell_type": "code",
   "execution_count": 158,
   "id": "1f3d1520-f430-4c4e-838b-4a961025567e",
   "metadata": {},
   "outputs": [
    {
     "name": "stdout",
     "output_type": "stream",
     "text": [
      "<generator object display.<locals>.<genexpr> at 0x110954c70>\n",
      "<generator object display.<locals>.<genexpr> at 0x110954c70>\n",
      "<generator object display.<locals>.<genexpr> at 0x110954c70>\n",
      "<generator object display.<locals>.<genexpr> at 0x110954c70>\n",
      "<generator object display.<locals>.<genexpr> at 0x110954c70>\n",
      "<generator object display.<locals>.<genexpr> at 0x110954c70>\n"
     ]
    }
   ],
   "source": [
    "display(*grid_1)"
   ]
  },
  {
   "cell_type": "code",
   "execution_count": null,
   "id": "1eb6c867-3996-4fce-a126-ecc0ea22dced",
   "metadata": {},
   "outputs": [],
   "source": [
    "\n"
   ]
  },
  {
   "cell_type": "code",
   "execution_count": 131,
   "id": "59c4b9e3-97b3-4862-8667-b05dc2d633d6",
   "metadata": {},
   "outputs": [],
   "source": [
    "\n",
    "grid_np = np.array([list(row) for row in grid_1])\n"
   ]
  },
  {
   "cell_type": "code",
   "execution_count": 132,
   "id": "16b8eb3a-60ba-4e88-b568-fc574e221ed9",
   "metadata": {},
   "outputs": [
    {
     "data": {
      "text/plain": [
       "array([[' ', ' ', '*', ' ', ' ', ' ', ' ', ' '],\n",
       "       [' ', '*', '*', '*', ' ', ' ', ' ', ' '],\n",
       "       ['*', '*', '*', '*', '*', ' ', ' ', ' '],\n",
       "       ['*', '*', '*', '*', ' ', ' ', '*', ' '],\n",
       "       [' ', '*', '*', ' ', ' ', '*', '*', '*'],\n",
       "       [' ', ' ', '*', ' ', ' ', ' ', '*', ' ']], dtype='<U1')"
      ]
     },
     "execution_count": 132,
     "metadata": {},
     "output_type": "execute_result"
    }
   ],
   "source": [
    "grid_np"
   ]
  },
  {
   "cell_type": "code",
   "execution_count": 133,
   "id": "d2bdbbce-d49f-41f0-893e-3ea84ad72b95",
   "metadata": {},
   "outputs": [
    {
     "data": {
      "text/plain": [
       "array([[0, 0, 1, 0, 0, 0, 0, 0],\n",
       "       [0, 1, 1, 1, 0, 0, 0, 0],\n",
       "       [1, 1, 1, 1, 1, 0, 0, 0],\n",
       "       [1, 1, 1, 1, 0, 0, 1, 0],\n",
       "       [0, 1, 1, 0, 0, 1, 1, 1],\n",
       "       [0, 0, 1, 0, 0, 0, 1, 0]])"
      ]
     },
     "execution_count": 133,
     "metadata": {},
     "output_type": "execute_result"
    }
   ],
   "source": [
    "\n",
    "grid_nb = np.array([[1 if j == '*' else 0 for j in row] for row in grid_np])\n",
    "grid_nb"
   ]
  },
  {
   "cell_type": "code",
   "execution_count": 134,
   "id": "e9b3b368-2801-41bc-8bb2-4b882ceebd3c",
   "metadata": {},
   "outputs": [
    {
     "data": {
      "text/plain": [
       "6"
      ]
     },
     "execution_count": 134,
     "metadata": {},
     "output_type": "execute_result"
    }
   ],
   "source": [
    "size_row , size_column =grid_nb.shape\n",
    "size_row"
   ]
  },
  {
   "cell_type": "code",
   "execution_count": 135,
   "id": "d6161a78-ca8c-4844-abf3-9a90a40193cb",
   "metadata": {},
   "outputs": [
    {
     "data": {
      "text/plain": [
       "array([[0, 0, 0, 0, 0, 0, 0, 0, 0, 0],\n",
       "       [0, 0, 0, 0, 0, 0, 0, 0, 0, 0],\n",
       "       [0, 0, 0, 0, 0, 0, 0, 0, 0, 0],\n",
       "       [0, 0, 0, 0, 0, 0, 0, 0, 0, 0],\n",
       "       [0, 0, 0, 0, 0, 0, 0, 0, 0, 0],\n",
       "       [0, 0, 0, 0, 0, 0, 0, 0, 0, 0],\n",
       "       [0, 0, 0, 0, 0, 0, 0, 0, 0, 0],\n",
       "       [0, 0, 0, 0, 0, 0, 0, 0, 0, 0]])"
      ]
     },
     "execution_count": 135,
     "metadata": {},
     "output_type": "execute_result"
    }
   ],
   "source": [
    "grids_full = np.zeros((size_row+2) * (size_column +2), int).reshape(size_row+2, size_column+2)\n",
    "grids_full\n"
   ]
  },
  {
   "cell_type": "code",
   "execution_count": 136,
   "id": "e3b23588-4d55-45f9-9db9-adb6ed19d691",
   "metadata": {},
   "outputs": [
    {
     "data": {
      "text/plain": [
       "array([[0, 0, 0, 0, 0, 0, 0, 0, 0, 0],\n",
       "       [0, 0, 0, 0, 0, 0, 0, 0, 0, 0],\n",
       "       [0, 0, 0, 0, 0, 0, 0, 0, 0, 0],\n",
       "       [0, 0, 0, 0, 0, 0, 0, 0, 0, 0],\n",
       "       [0, 0, 0, 0, 0, 0, 0, 0, 0, 0],\n",
       "       [0, 0, 0, 0, 0, 0, 0, 0, 0, 0],\n",
       "       [0, 0, 0, 0, 0, 0, 0, 0, 0, 0],\n",
       "       [0, 0, 0, 0, 0, 0, 0, 0, 0, 0]])"
      ]
     },
     "execution_count": 136,
     "metadata": {},
     "output_type": "execute_result"
    }
   ],
   "source": [
    "grids_full = np.zeros((size_row+2 ,size_column +2), int)\n",
    "grids_full"
   ]
  },
  {
   "cell_type": "code",
   "execution_count": 137,
   "id": "d40f921e-aa4d-467f-90c6-1177aba98f2c",
   "metadata": {},
   "outputs": [
    {
     "data": {
      "text/plain": [
       "array([[0, 0, 0, 0, 0, 0, 0, 0, 0, 0],\n",
       "       [0, 0, 0, 1, 0, 0, 0, 0, 0, 0],\n",
       "       [0, 0, 1, 1, 1, 0, 0, 0, 0, 0],\n",
       "       [0, 1, 1, 1, 1, 1, 0, 0, 0, 0],\n",
       "       [0, 1, 1, 1, 1, 0, 0, 1, 0, 0],\n",
       "       [0, 0, 1, 1, 0, 0, 1, 1, 1, 0],\n",
       "       [0, 0, 0, 1, 0, 0, 0, 1, 0, 0],\n",
       "       [0, 0, 0, 0, 0, 0, 0, 0, 0, 0]])"
      ]
     },
     "execution_count": 137,
     "metadata": {},
     "output_type": "execute_result"
    }
   ],
   "source": [
    "grids_full[1 : -1, 1 : -1] = grid_nb\n",
    "grids_full"
   ]
  },
  {
   "cell_type": "code",
   "execution_count": 138,
   "id": "dd24cad9-039f-4c2b-9a62-5147bd098c87",
   "metadata": {},
   "outputs": [
    {
     "data": {
      "text/plain": [
       "array([[0, 0, 0, 0, 0, 0, 0, 0],\n",
       "       [0, 0, 1, 0, 0, 0, 0, 0],\n",
       "       [0, 1, 1, 1, 0, 0, 0, 0],\n",
       "       [1, 1, 1, 1, 1, 0, 0, 0],\n",
       "       [1, 1, 1, 1, 0, 0, 1, 0],\n",
       "       [0, 1, 1, 0, 0, 1, 1, 1]])"
      ]
     },
     "execution_count": 138,
     "metadata": {},
     "output_type": "execute_result"
    }
   ],
   "source": [
    "grids_N  = grids_full [ : -2,1 : -1]\n",
    "grids_N"
   ]
  },
  {
   "cell_type": "code",
   "execution_count": 139,
   "id": "af0fd0da-efe6-441a-86ac-1817e43acdc3",
   "metadata": {},
   "outputs": [
    {
     "data": {
      "text/plain": [
       "array([[0, 1, 1, 1, 0, 0, 0, 0],\n",
       "       [1, 1, 1, 1, 1, 0, 0, 0],\n",
       "       [1, 1, 1, 1, 0, 0, 1, 0],\n",
       "       [0, 1, 1, 0, 0, 1, 1, 1],\n",
       "       [0, 0, 1, 0, 0, 0, 1, 0],\n",
       "       [0, 0, 0, 0, 0, 0, 0, 0]])"
      ]
     },
     "execution_count": 139,
     "metadata": {},
     "output_type": "execute_result"
    }
   ],
   "source": [
    "grids_S = grids_full[2 : , 1 : -1]\n",
    "grids_S"
   ]
  },
  {
   "cell_type": "code",
   "execution_count": 140,
   "id": "352c43ad-db6e-4474-a8e7-5d81ba11e87a",
   "metadata": {},
   "outputs": [
    {
     "data": {
      "text/plain": [
       "array([[0, 0, 0, 1, 0, 0, 0, 0],\n",
       "       [0, 0, 1, 1, 1, 0, 0, 0],\n",
       "       [0, 1, 1, 1, 1, 1, 0, 0],\n",
       "       [0, 1, 1, 1, 1, 0, 0, 1],\n",
       "       [0, 0, 1, 1, 0, 0, 1, 1],\n",
       "       [0, 0, 0, 1, 0, 0, 0, 1]])"
      ]
     },
     "execution_count": 140,
     "metadata": {},
     "output_type": "execute_result"
    }
   ],
   "source": [
    "grids_W = grids_full[1 : -1, : -2]\n",
    "grids_W"
   ]
  },
  {
   "cell_type": "code",
   "execution_count": 141,
   "id": "94ff3cbc-1f61-4130-975b-c7d9c0bf7885",
   "metadata": {},
   "outputs": [
    {
     "data": {
      "text/plain": [
       "array([[0, 1, 0, 0, 0, 0, 0, 0],\n",
       "       [1, 1, 1, 0, 0, 0, 0, 0],\n",
       "       [1, 1, 1, 1, 0, 0, 0, 0],\n",
       "       [1, 1, 1, 0, 0, 1, 0, 0],\n",
       "       [1, 1, 0, 0, 1, 1, 1, 0],\n",
       "       [0, 1, 0, 0, 0, 1, 0, 0]])"
      ]
     },
     "execution_count": 141,
     "metadata": {},
     "output_type": "execute_result"
    }
   ],
   "source": [
    "grids_E = grids_full[1 : -1, 2: ]\n",
    "grids_E "
   ]
  },
  {
   "cell_type": "code",
   "execution_count": 142,
   "id": "e011bc4f-559f-49c2-8dbe-336163b39a73",
   "metadata": {},
   "outputs": [
    {
     "data": {
      "text/plain": [
       "array([[0, 2, 1, 2, 0, 0, 0, 0],\n",
       "       [2, 2, 4, 2, 2, 0, 0, 0],\n",
       "       [2, 4, 4, 4, 1, 1, 1, 0],\n",
       "       [2, 4, 4, 2, 2, 2, 1, 2],\n",
       "       [2, 2, 3, 2, 1, 1, 4, 1],\n",
       "       [0, 2, 1, 1, 0, 2, 1, 2]])"
      ]
     },
     "execution_count": 142,
     "metadata": {},
     "output_type": "execute_result"
    }
   ],
   "source": [
    "neighbours = grids_E + grids_W + grids_S + grids_N\n",
    "neighbours"
   ]
  },
  {
   "cell_type": "code",
   "execution_count": 143,
   "id": "e6737054-eff8-4488-8799-4202f9d250f8",
   "metadata": {},
   "outputs": [
    {
     "name": "stdout",
     "output_type": "stream",
     "text": [
      "[[False False False False False False False False]\n",
      " [False False  True False False False False False]\n",
      " [False  True  True  True False False False False]\n",
      " [False  True  True False False False False False]\n",
      " [False False False False False False  True False]\n",
      " [False False False False False False False False]]\n"
     ]
    }
   ],
   "source": [
    "mask = (neighbours == 4 )& (grids_full[1 : -1, 1 : -1] == 1)\n",
    "print(mask)"
   ]
  },
  {
   "cell_type": "code",
   "execution_count": 144,
   "id": "10f1a25e-00e0-466c-bad3-cea446429748",
   "metadata": {},
   "outputs": [
    {
     "data": {
      "text/plain": [
       "array([[0, 0, 0, 0, 0, 0, 0, 0, 0, 0],\n",
       "       [0, 0, 0, 1, 0, 0, 0, 0, 0, 0],\n",
       "       [0, 0, 1, 0, 1, 0, 0, 0, 0, 0],\n",
       "       [0, 1, 0, 0, 0, 1, 0, 0, 0, 0],\n",
       "       [0, 1, 0, 0, 1, 0, 0, 1, 0, 0],\n",
       "       [0, 0, 1, 1, 0, 0, 1, 0, 1, 0],\n",
       "       [0, 0, 0, 1, 0, 0, 0, 1, 0, 0],\n",
       "       [0, 0, 0, 0, 0, 0, 0, 0, 0, 0]])"
      ]
     },
     "execution_count": 144,
     "metadata": {},
     "output_type": "execute_result"
    }
   ],
   "source": [
    "grids_full[1 : -1, 1 : -1] [mask] = 0\n",
    "grids_full"
   ]
  },
  {
   "cell_type": "code",
   "execution_count": 153,
   "id": "b35faa88-1e00-4cbb-a9f3-cb04a11d2df5",
   "metadata": {},
   "outputs": [
    {
     "data": {
      "text/plain": [
       "array([[' ', ' ', ' ', ' ', ' ', ' ', ' ', ' ', ' ', ' '],\n",
       "       [' ', ' ', ' ', '*', ' ', ' ', ' ', ' ', ' ', ' '],\n",
       "       [' ', ' ', '*', ' ', '*', ' ', ' ', ' ', ' ', ' '],\n",
       "       [' ', '*', ' ', ' ', ' ', '*', ' ', ' ', ' ', ' '],\n",
       "       [' ', '*', ' ', ' ', '*', ' ', ' ', '*', ' ', ' '],\n",
       "       [' ', ' ', '*', '*', ' ', ' ', '*', ' ', '*', ' '],\n",
       "       [' ', ' ', ' ', '*', ' ', ' ', ' ', '*', ' ', ' '],\n",
       "       [' ', ' ', ' ', ' ', ' ', ' ', ' ', ' ', ' ', ' ']], dtype='<U1')"
      ]
     },
     "execution_count": 153,
     "metadata": {},
     "output_type": "execute_result"
    }
   ],
   "source": [
    "new_grid = np.array([['*' if i == 1 else \" \" for i in row] for row in grids_full])\n",
    "new_grid"
   ]
  },
  {
   "cell_type": "code",
   "execution_count": null,
   "id": "359b7837-0dcd-495c-8821-892db8de09fe",
   "metadata": {},
   "outputs": [],
   "source": []
  },
  {
   "cell_type": "code",
   "execution_count": null,
   "id": "7a8c3326-257f-4e21-bad7-ffbfa7900097",
   "metadata": {},
   "outputs": [],
   "source": []
  },
  {
   "cell_type": "code",
   "execution_count": 154,
   "id": "848b91e5-cf13-4319-9a56-c48e7fcb0c66",
   "metadata": {},
   "outputs": [
    {
     "name": "stdout",
     "output_type": "stream",
     "text": [
      "                   \n",
      "      *            \n",
      "    *   *          \n",
      "  *       *        \n",
      "  *     *     *    \n",
      "    * *     *   *  \n",
      "      *       *    \n",
      "                   \n"
     ]
    }
   ],
   "source": [
    "display(*new_grid)"
   ]
  },
  {
   "cell_type": "code",
   "execution_count": 160,
   "id": "07f7beb5-696a-49f7-866f-34a52384113d",
   "metadata": {},
   "outputs": [
    {
     "name": "stdout",
     "output_type": "stream",
     "text": [
      "1\n",
      "2\n",
      "3\n",
      "4\n",
      "5\n",
      "6\n",
      "7\n",
      "8\n"
     ]
    }
   ],
   "source": [
    "for i in range(1,9):\n",
    "    print(i)"
   ]
  },
  {
   "cell_type": "code",
   "execution_count": 161,
   "id": "02de9a4e-024b-4e63-b5b7-cf07b003c0aa",
   "metadata": {},
   "outputs": [],
   "source": [
    "accounts = [[1,2,3],[3,2,1]]"
   ]
  },
  {
   "cell_type": "code",
   "execution_count": 180,
   "id": "202b33e2-1b74-4c2f-817b-eacbb17a134b",
   "metadata": {},
   "outputs": [
    {
     "name": "stdout",
     "output_type": "stream",
     "text": [
      "6\n"
     ]
    }
   ],
   "source": [
    "max_wealth = []\n",
    "for i in accounts:\n",
    "    max_wealth.append(sum(i))\n",
    "z = max(max_wealth)\n",
    "print(z)"
   ]
  },
  {
   "cell_type": "code",
   "execution_count": 176,
   "id": "96e4e113-3aa0-401b-b97c-c5ca42ab4b9f",
   "metadata": {},
   "outputs": [
    {
     "name": "stdout",
     "output_type": "stream",
     "text": [
      "4\n",
      "4\n",
      "4\n"
     ]
    }
   ],
   "source": [
    "for col in range(len(accounts[0])):\n",
    "    col_sum = sum(accounts[row][col] for row in range(len(accounts)))\n",
    "    print(col_sum)"
   ]
  },
  {
   "cell_type": "code",
   "execution_count": 182,
   "id": "996955d5-94bc-46f0-8838-b24d7525ca65",
   "metadata": {},
   "outputs": [
    {
     "data": {
      "text/plain": [
       "12"
      ]
     },
     "execution_count": 182,
     "metadata": {},
     "output_type": "execute_result"
    }
   ],
   "source": [
    "total = sum(sum(row) for row in accounts)\n",
    "total"
   ]
  },
  {
   "cell_type": "code",
   "execution_count": 192,
   "id": "cc9c37d2-8a01-41a1-bbb1-ce68423189f2",
   "metadata": {},
   "outputs": [
    {
     "ename": "TypeError",
     "evalue": "'zip' object is not subscriptable",
     "output_type": "error",
     "traceback": [
      "\u001b[0;31m---------------------------------------------------------------------------\u001b[0m",
      "\u001b[0;31mTypeError\u001b[0m                                 Traceback (most recent call last)",
      "Cell \u001b[0;32mIn[192], line 1\u001b[0m\n\u001b[0;32m----> 1\u001b[0m accounts\u001b[38;5;241m=\u001b[39m\u001b[38;5;28mlist\u001b[39m(\u001b[38;5;28mzip\u001b[39m(\u001b[38;5;241m*\u001b[39m\u001b[43maccounts\u001b[49m\u001b[43m[\u001b[49m\u001b[43m:\u001b[49m\u001b[43m:\u001b[49m\u001b[38;5;241;43m-\u001b[39;49m\u001b[38;5;241;43m1\u001b[39;49m\u001b[43m]\u001b[49m))\n\u001b[1;32m      2\u001b[0m \u001b[38;5;28mprint\u001b[39m(accounts)\n",
      "\u001b[0;31mTypeError\u001b[0m: 'zip' object is not subscriptable"
     ]
    }
   ],
   "source": [
    "accounts=list(zip(*accounts[::-1]))\n",
    "print(accounts)"
   ]
  },
  {
   "cell_type": "code",
   "execution_count": 226,
   "id": "ec5c4e96-c420-4114-a40b-fd745b67e5b4",
   "metadata": {},
   "outputs": [
    {
     "ename": "SyntaxError",
     "evalue": "'return' outside function (1255080834.py, line 3)",
     "output_type": "error",
     "traceback": [
      "\u001b[0;36m  Cell \u001b[0;32mIn[226], line 3\u001b[0;36m\u001b[0m\n\u001b[0;31m    return head[middle+1]\u001b[0m\n\u001b[0m    ^\u001b[0m\n\u001b[0;31mSyntaxError\u001b[0m\u001b[0;31m:\u001b[0m 'return' outside function\n"
     ]
    }
   ],
   "source": [
    "if len(head) % 2 == 0:\n",
    "    middle = len(head)//2\n",
    "    return head[middle+1]\n",
    "else :\n",
    "    middle = (len(head)-1)/2 +1\n",
    "    return head[middle]"
   ]
  },
  {
   "cell_type": "code",
   "execution_count": 229,
   "id": "5c40bec7-64ef-40ff-9d25-3cb9f87ebbb2",
   "metadata": {},
   "outputs": [],
   "source": [
    "class MyList:\n",
    "    def __init__(self, data):\n",
    "        self.data = data\n",
    "\n",
    "    def __len__(self):\n",
    "        return len(self.data)\n",
    "\n",
    "    def __getitem__(self, index):\n",
    "        print(f\"正在访问索引 {index}\")\n",
    "        return self.data[index]\n"
   ]
  },
  {
   "cell_type": "code",
   "execution_count": 230,
   "id": "ed167364-7d94-4c89-9568-4821db6c9399",
   "metadata": {},
   "outputs": [
    {
     "name": "stdout",
     "output_type": "stream",
     "text": [
      "3\n",
      "正在访问索引 1\n",
      "20\n",
      "正在访问索引 1\n",
      "20\n"
     ]
    }
   ],
   "source": [
    "l = MyList([10, 20, 30])\n",
    "print(len(l))     # 3\n",
    "print(l[1])       # 20\n",
    "print(l[1]) "
   ]
  },
  {
   "cell_type": "code",
   "execution_count": 231,
   "id": "194d13aa-f7ae-472c-995f-199a10047c5a",
   "metadata": {},
   "outputs": [
    {
     "name": "stdout",
     "output_type": "stream",
     "text": [
      "['__add__', '__class__', '__class_getitem__', '__contains__', '__delattr__', '__delitem__', '__dir__', '__doc__', '__eq__', '__format__', '__ge__', '__getattribute__', '__getitem__', '__getstate__', '__gt__', '__hash__', '__iadd__', '__imul__', '__init__', '__init_subclass__', '__iter__', '__le__', '__len__', '__lt__', '__mul__', '__ne__', '__new__', '__reduce__', '__reduce_ex__', '__repr__', '__reversed__', '__rmul__', '__setattr__', '__setitem__', '__sizeof__', '__str__', '__subclasshook__', 'append', 'clear', 'copy', 'count', 'extend', 'index', 'insert', 'pop', 'remove', 'reverse', 'sort']\n"
     ]
    }
   ],
   "source": [
    "print(dir([]))"
   ]
  },
  {
   "cell_type": "code",
   "execution_count": 242,
   "id": "59744daf-42f0-40fa-b2f7-1dbfcbaa98af",
   "metadata": {},
   "outputs": [
    {
     "ename": "ImportError",
     "evalue": "cannot import name 'Counters' from 'collections' (/opt/anaconda3/envs/d2l-env/lib/python3.11/collections/__init__.py)",
     "output_type": "error",
     "traceback": [
      "\u001b[0;31m---------------------------------------------------------------------------\u001b[0m",
      "\u001b[0;31mImportError\u001b[0m                               Traceback (most recent call last)",
      "Cell \u001b[0;32mIn[242], line 1\u001b[0m\n\u001b[0;32m----> 1\u001b[0m \u001b[38;5;28;01mfrom\u001b[39;00m \u001b[38;5;21;01mcollections\u001b[39;00m \u001b[38;5;28;01mimport\u001b[39;00m Counters\n",
      "\u001b[0;31mImportError\u001b[0m: cannot import name 'Counters' from 'collections' (/opt/anaconda3/envs/d2l-env/lib/python3.11/collections/__init__.py)"
     ]
    }
   ],
   "source": [
    "from collections import Counters\n",
    "a = counter(ransomNote)\n",
    "b = counter(magazine)\n",
    "for ch in a:\n",
    "    if a[ch]> b.get(ch,0):\n",
    "        return false\n",
    "return true\n",
    "\n"
   ]
  },
  {
   "cell_type": "code",
   "execution_count": 244,
   "id": "b0028dcc-6491-4f5e-bdbc-18a07bbc504e",
   "metadata": {},
   "outputs": [
    {
     "name": "stdout",
     "output_type": "stream",
     "text": [
      "[0, 1]\n",
      "[0, 1, 3]\n",
      "[0, 1, 3, 6]\n",
      "[0, 1, 3, 6, 10]\n"
     ]
    }
   ],
   "source": [
    "cost = [0]\n",
    "for i in range(1, 5):\n",
    "    pre = cost[-1]\n",
    "    cost.append(pre + i)\n",
    "    print(cost)"
   ]
  },
  {
   "cell_type": "code",
   "execution_count": null,
   "id": "77f26889-593c-49a3-a6de-9c45be42354d",
   "metadata": {},
   "outputs": [],
   "source": []
  },
  {
   "cell_type": "code",
   "execution_count": 245,
   "id": "bd4f785f-229c-4108-a962-48e6410e981e",
   "metadata": {},
   "outputs": [
    {
     "ename": "SyntaxError",
     "evalue": "invalid decimal literal (744057040.py, line 1)",
     "output_type": "error",
     "traceback": [
      "\u001b[0;36m  Cell \u001b[0;32mIn[245], line 1\u001b[0;36m\u001b[0m\n\u001b[0;31m    Pasting as normal text: https://cutt.ly/2R4NUoT\u001b[0m\n\u001b[0m                                            ^\u001b[0m\n\u001b[0;31mSyntaxError\u001b[0m\u001b[0;31m:\u001b[0m invalid decimal literal\n"
     ]
    }
   ],
   "source": []
  },
  {
   "cell_type": "code",
   "execution_count": null,
   "id": "35ab8ad5-016a-42e8-b3b4-674103145365",
   "metadata": {},
   "outputs": [],
   "source": []
  }
 ],
 "metadata": {
  "kernelspec": {
   "display_name": "Python 3 (ipykernel)",
   "language": "python",
   "name": "python3"
  },
  "language_info": {
   "codemirror_mode": {
    "name": "ipython",
    "version": 3
   },
   "file_extension": ".py",
   "mimetype": "text/x-python",
   "name": "python",
   "nbconvert_exporter": "python",
   "pygments_lexer": "ipython3",
   "version": "3.11.8"
  }
 },
 "nbformat": 4,
 "nbformat_minor": 5
}

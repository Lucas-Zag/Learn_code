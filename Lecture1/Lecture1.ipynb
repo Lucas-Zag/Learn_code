{
 "cells": [
  {
   "cell_type": "code",
   "execution_count": 7,
   "id": "705208df-d659-47fc-b61e-ac1b6dee8b70",
   "metadata": {},
   "outputs": [],
   "source": [
    "def say_hi(name):\n",
    "    print('Hi ', name, '!',sep='')"
   ]
  },
  {
   "cell_type": "code",
   "execution_count": 9,
   "id": "33ac3b38-ce27-4222-bc10-c4e9704185ce",
   "metadata": {},
   "outputs": [
    {
     "name": "stdout",
     "output_type": "stream",
     "text": [
      "Hi Lucas!\n"
     ]
    }
   ],
   "source": [
    "say_hi('Lucas')"
   ]
  },
  {
   "cell_type": "code",
   "execution_count": 13,
   "id": "723e3cee-0349-45b2-9fd6-8691f0149341",
   "metadata": {},
   "outputs": [],
   "source": [
    "def say_hi(name):\n",
    "    print('Hi ', name, '!',sep='')\n",
    "    return 10"
   ]
  },
  {
   "cell_type": "code",
   "execution_count": 15,
   "id": "cfe4ac52-773d-4f45-b30b-d3d2e83e50e8",
   "metadata": {},
   "outputs": [
    {
     "name": "stdout",
     "output_type": "stream",
     "text": [
      "Hi Lucas!\n"
     ]
    },
    {
     "data": {
      "text/plain": [
       "10"
      ]
     },
     "execution_count": 15,
     "metadata": {},
     "output_type": "execute_result"
    }
   ],
   "source": [
    "say_hi('Lucas')"
   ]
  },
  {
   "cell_type": "code",
   "execution_count": 20,
   "id": "811cd86c-7550-4647-9b72-655274f89034",
   "metadata": {},
   "outputs": [
    {
     "data": {
      "text/plain": [
       "'/Users/luzhang/COMP9021/Lecture1'"
      ]
     },
     "execution_count": 20,
     "metadata": {},
     "output_type": "execute_result"
    }
   ],
   "source": [
    "pwd"
   ]
  },
  {
   "cell_type": "code",
   "execution_count": 4,
   "id": "6b858a98-6ded-46a3-b45a-54aaca93e5ca",
   "metadata": {},
   "outputs": [
    {
     "name": "stdout",
     "output_type": "stream",
     "text": [
      "Welcome to COMP9021\n",
      "I am Lucans\n"
     ]
    }
   ],
   "source": [
    "# %load my_first_program.py\n",
    "print('Welcome to COMP9021')\n",
    "print('I am Lucans')"
   ]
  },
  {
   "cell_type": "code",
   "execution_count": 6,
   "id": "d08d9c49-8f19-4cb5-b36f-149ba21c67c5",
   "metadata": {},
   "outputs": [
    {
     "name": "stdout",
     "output_type": "stream",
     "text": [
      "Welcome to COMP9021\n",
      "I am Lucans\n"
     ]
    }
   ],
   "source": [
    "%run my_first_program.py"
   ]
  },
  {
   "cell_type": "code",
   "execution_count": 9,
   "id": "d497d9e8-0ef2-4ad5-9659-c78b06592933",
   "metadata": {},
   "outputs": [
    {
     "name": "stdout",
     "output_type": "stream",
     "text": [
      "Writing my_third_program.py\n"
     ]
    }
   ],
   "source": [
    "%%writefile my_third_program.py\n",
    "print('Welcome to COMP9021')\n",
    "print('I am Lucans')\n",
    "print('Yes, really!')"
   ]
  },
  {
   "cell_type": "code",
   "execution_count": 7,
   "id": "c82dc294-f452-4640-9293-3fee260e9502",
   "metadata": {},
   "outputs": [
    {
     "name": "stdout",
     "output_type": "stream",
     "text": [
      "10\n",
      "20\n",
      "30\n",
      "40\n",
      "50\n"
     ]
    }
   ],
   "source": [
    "min_value = 10\n",
    "max_value = 51\n",
    "step = 10\n",
    "for value in range(min_value, max_value, step):\n",
    "    print(value)"
   ]
  },
  {
   "cell_type": "code",
   "execution_count": 1,
   "id": "03d27a2b-89e2-488a-8eb5-74b26d60fc6f",
   "metadata": {},
   "outputs": [
    {
     "data": {
      "text/plain": [
       "36501"
      ]
     },
     "execution_count": 1,
     "metadata": {},
     "output_type": "execute_result"
    }
   ],
   "source": [
    "3*(23**3)"
   ]
  },
  {
   "cell_type": "code",
   "execution_count": 6,
   "id": "d4b818e8-f6fb-4b5c-9ee8-32bd2ee2a46c",
   "metadata": {},
   "outputs": [
    {
     "data": {
      "text/plain": [
       "1465474882624"
      ]
     },
     "execution_count": 6,
     "metadata": {},
     "output_type": "execute_result"
    }
   ],
   "source": [
    "4*778**4"
   ]
  },
  {
   "cell_type": "code",
   "execution_count": 8,
   "id": "401dedbf-e2c9-4749-a807-84365e0a8126",
   "metadata": {},
   "outputs": [
    {
     "data": {
      "text/plain": [
       "[0, 0, 0, 0, 1, 1, 1, 1, 1, 0, 0]"
      ]
     },
     "execution_count": 8,
     "metadata": {},
     "output_type": "execute_result"
    }
   ],
   "source": [
    "[0,0,0,0,1,1,1,1,1,0,0]"
   ]
  },
  {
   "cell_type": "code",
   "execution_count": 10,
   "id": "ab531e91-76b9-4710-bd52-f75cd6463731",
   "metadata": {},
   "outputs": [],
   "source": [
    "L= [0,0,0,0,1,1,1,1,1,0,0]"
   ]
  },
  {
   "cell_type": "code",
   "execution_count": 12,
   "id": "7297cc71-0314-4443-ae28-73344359dcde",
   "metadata": {},
   "outputs": [
    {
     "data": {
      "text/plain": [
       "[0, 0, 0, 0, 1, 1, 1, 1, 1, 0, 0]"
      ]
     },
     "execution_count": 12,
     "metadata": {},
     "output_type": "execute_result"
    }
   ],
   "source": [
    "L"
   ]
  },
  {
   "cell_type": "code",
   "execution_count": 14,
   "id": "be319f93-7c66-4077-8445-5e4d37219395",
   "metadata": {},
   "outputs": [
    {
     "data": {
      "text/plain": [
       "list"
      ]
     },
     "execution_count": 14,
     "metadata": {},
     "output_type": "execute_result"
    }
   ],
   "source": [
    "type(L)"
   ]
  },
  {
   "cell_type": "code",
   "execution_count": 16,
   "id": "21e20da1-02d9-4def-b083-e2edcaf40920",
   "metadata": {},
   "outputs": [
    {
     "data": {
      "text/plain": [
       "11"
      ]
     },
     "execution_count": 16,
     "metadata": {},
     "output_type": "execute_result"
    }
   ],
   "source": [
    "len(L)"
   ]
  },
  {
   "cell_type": "code",
   "execution_count": 12,
   "id": "5e36e5da-da6c-4daa-84cc-2c37e407c2bd",
   "metadata": {},
   "outputs": [],
   "source": [
    "L=['come','t',2015]"
   ]
  },
  {
   "cell_type": "code",
   "execution_count": 20,
   "id": "c2082f78-72a9-420b-9dd2-2567f072fa37",
   "metadata": {},
   "outputs": [
    {
     "data": {
      "text/plain": [
       "'t'"
      ]
     },
     "execution_count": 20,
     "metadata": {},
     "output_type": "execute_result"
    }
   ],
   "source": [
    "L[1]"
   ]
  },
  {
   "cell_type": "code",
   "execution_count": 22,
   "id": "cadb2d58-2bff-4e2b-9e53-8ee08027e798",
   "metadata": {},
   "outputs": [
    {
     "data": {
      "text/plain": [
       "'t'"
      ]
     },
     "execution_count": 22,
     "metadata": {},
     "output_type": "execute_result"
    }
   ],
   "source": [
    "L[-2]"
   ]
  },
  {
   "cell_type": "code",
   "execution_count": 4,
   "id": "98823cf5-8852-46f0-b8ba-66f109bc8302",
   "metadata": {},
   "outputs": [],
   "source": [
    "TAPE= [0,0,0,0,1,1,1,1,1,0,0]"
   ]
  },
  {
   "cell_type": "code",
   "execution_count": 26,
   "id": "5f316310-4e1e-4bc2-ad3a-93382976c52e",
   "metadata": {},
   "outputs": [
    {
     "data": {
      "text/plain": [
       "[1, 3, 1, 3]"
      ]
     },
     "execution_count": 26,
     "metadata": {},
     "output_type": "execute_result"
    }
   ],
   "source": [
    "[1,3]*2"
   ]
  },
  {
   "cell_type": "code",
   "execution_count": 28,
   "id": "f84ed85c-b1eb-4043-a14c-135d304e1c6a",
   "metadata": {},
   "outputs": [
    {
     "data": {
      "text/plain": [
       "[1, 1, 1]"
      ]
     },
     "execution_count": 28,
     "metadata": {},
     "output_type": "execute_result"
    }
   ],
   "source": [
    "[1]*3"
   ]
  },
  {
   "cell_type": "code",
   "execution_count": 30,
   "id": "ad64b761-8813-4701-8ba8-09b3ee208a5d",
   "metadata": {},
   "outputs": [
    {
     "data": {
      "text/plain": [
       "[1, 3, 1, 3, 1, 1, 1]"
      ]
     },
     "execution_count": 30,
     "metadata": {},
     "output_type": "execute_result"
    }
   ],
   "source": [
    "[1, 3, 1, 3]+ [1, 1, 1]"
   ]
  },
  {
   "cell_type": "code",
   "execution_count": 34,
   "id": "bd22149a-abb1-4d5c-be1b-ab0b79c24577",
   "metadata": {},
   "outputs": [],
   "source": [
    "tape=[1]*4+[4]*4"
   ]
  },
  {
   "cell_type": "code",
   "execution_count": 38,
   "id": "83ab680d-6834-4233-a654-846215e86e53",
   "metadata": {},
   "outputs": [],
   "source": [
    "def display_tape():\n",
    "    #display top boundary\n",
    "    #display tape contents, with | as separators\n",
    "    #display bottom boundary\n",
    "    pass"
   ]
  },
  {
   "cell_type": "code",
   "execution_count": null,
   "id": "35464898-e0ae-4960-a46e-a0e0517f7c83",
   "metadata": {},
   "outputs": [],
   "source": []
  },
  {
   "cell_type": "code",
   "execution_count": null,
   "id": "9ff62a0d-4c39-4d33-8997-6f20f0403a69",
   "metadata": {},
   "outputs": [],
   "source": []
  },
  {
   "cell_type": "code",
   "execution_count": 40,
   "id": "3a2a4bec-6060-468b-b70e-e6297dd2df42",
   "metadata": {},
   "outputs": [
    {
     "data": {
      "text/plain": [
       "'ABCDEABCDEABCDEABCDE'"
      ]
     },
     "execution_count": 40,
     "metadata": {},
     "output_type": "execute_result"
    }
   ],
   "source": [
    "len('ABC')\n",
    "('ABC'+'DE')*4"
   ]
  },
  {
   "cell_type": "code",
   "execution_count": 32,
   "id": "8fec81de-d85c-453b-a2d3-78809036ff06",
   "metadata": {},
   "outputs": [],
   "source": [
    "def display_boundary():\n",
    "    print('-'*(2*len(TAPE)+1))\n",
    "    "
   ]
  },
  {
   "cell_type": "code",
   "execution_count": 33,
   "id": "d9e30e5b-1299-42d8-8e08-dcb4b7e79d53",
   "metadata": {},
   "outputs": [
    {
     "name": "stdout",
     "output_type": "stream",
     "text": [
      "-----------------------\n"
     ]
    }
   ],
   "source": [
    "display_boundary()"
   ]
  },
  {
   "cell_type": "code",
   "execution_count": 34,
   "id": "c4e5dfa5-9541-4cf0-b747-b845e77af4b0",
   "metadata": {},
   "outputs": [
    {
     "ename": "NameError",
     "evalue": "name 'display_TAPE' is not defined",
     "output_type": "error",
     "traceback": [
      "\u001b[0;31m---------------------------------------------------------------------------\u001b[0m",
      "\u001b[0;31mNameError\u001b[0m                                 Traceback (most recent call last)",
      "Cell \u001b[0;32mIn[34], line 1\u001b[0m\n\u001b[0;32m----> 1\u001b[0m \u001b[43mdisplay_TAPE\u001b[49m()\n",
      "\u001b[0;31mNameError\u001b[0m: name 'display_TAPE' is not defined"
     ]
    }
   ],
   "source": [
    "display_TAPE()"
   ]
  },
  {
   "cell_type": "code",
   "execution_count": 50,
   "id": "d3587098-0830-4380-a09d-ff5759860230",
   "metadata": {},
   "outputs": [
    {
     "data": {
      "text/plain": [
       "23"
      ]
     },
     "execution_count": 50,
     "metadata": {},
     "output_type": "execute_result"
    }
   ],
   "source": [
    "int('23')"
   ]
  },
  {
   "cell_type": "code",
   "execution_count": null,
   "id": "ce6ae513-7d61-4645-8a8a-6c417f455b06",
   "metadata": {},
   "outputs": [],
   "source": []
  },
  {
   "cell_type": "code",
   "execution_count": 52,
   "id": "175dda7d-4ec3-4503-978b-a227580dde62",
   "metadata": {},
   "outputs": [
    {
     "data": {
      "text/plain": [
       "'23'"
      ]
     },
     "execution_count": 52,
     "metadata": {},
     "output_type": "execute_result"
    }
   ],
   "source": [
    "str(23)"
   ]
  },
  {
   "cell_type": "code",
   "execution_count": 6,
   "id": "95a45846-282e-4e72-9e6f-c08edde8fd9d",
   "metadata": {},
   "outputs": [
    {
     "data": {
      "text/plain": [
       "[0, 0, 0, 0, 1, 1, 1, 1, 1, 0, 0]"
      ]
     },
     "execution_count": 6,
     "metadata": {},
     "output_type": "execute_result"
    }
   ],
   "source": [
    "TAPE"
   ]
  },
  {
   "cell_type": "code",
   "execution_count": 58,
   "id": "4dfa2790-1cca-4739-a1b8-7affc92377a8",
   "metadata": {},
   "outputs": [
    {
     "data": {
      "text/plain": [
       "['0', '0', '0', '0', '1', '1', '1', '1', '1', '0', '0']"
      ]
     },
     "execution_count": 58,
     "metadata": {},
     "output_type": "execute_result"
    }
   ],
   "source": [
    "[str(e) for e in TAPE]"
   ]
  },
  {
   "cell_type": "code",
   "execution_count": 60,
   "id": "8c8b056b-ca46-4ea3-9641-84bf52399194",
   "metadata": {},
   "outputs": [
    {
     "data": {
      "text/plain": [
       "['__add__',\n",
       " '__class__',\n",
       " '__contains__',\n",
       " '__delattr__',\n",
       " '__dir__',\n",
       " '__doc__',\n",
       " '__eq__',\n",
       " '__format__',\n",
       " '__ge__',\n",
       " '__getattribute__',\n",
       " '__getitem__',\n",
       " '__getnewargs__',\n",
       " '__getstate__',\n",
       " '__gt__',\n",
       " '__hash__',\n",
       " '__init__',\n",
       " '__init_subclass__',\n",
       " '__iter__',\n",
       " '__le__',\n",
       " '__len__',\n",
       " '__lt__',\n",
       " '__mod__',\n",
       " '__mul__',\n",
       " '__ne__',\n",
       " '__new__',\n",
       " '__reduce__',\n",
       " '__reduce_ex__',\n",
       " '__repr__',\n",
       " '__rmod__',\n",
       " '__rmul__',\n",
       " '__setattr__',\n",
       " '__sizeof__',\n",
       " '__str__',\n",
       " '__subclasshook__',\n",
       " 'capitalize',\n",
       " 'casefold',\n",
       " 'center',\n",
       " 'count',\n",
       " 'encode',\n",
       " 'endswith',\n",
       " 'expandtabs',\n",
       " 'find',\n",
       " 'format',\n",
       " 'format_map',\n",
       " 'index',\n",
       " 'isalnum',\n",
       " 'isalpha',\n",
       " 'isascii',\n",
       " 'isdecimal',\n",
       " 'isdigit',\n",
       " 'isidentifier',\n",
       " 'islower',\n",
       " 'isnumeric',\n",
       " 'isprintable',\n",
       " 'isspace',\n",
       " 'istitle',\n",
       " 'isupper',\n",
       " 'join',\n",
       " 'ljust',\n",
       " 'lower',\n",
       " 'lstrip',\n",
       " 'maketrans',\n",
       " 'partition',\n",
       " 'removeprefix',\n",
       " 'removesuffix',\n",
       " 'replace',\n",
       " 'rfind',\n",
       " 'rindex',\n",
       " 'rjust',\n",
       " 'rpartition',\n",
       " 'rsplit',\n",
       " 'rstrip',\n",
       " 'split',\n",
       " 'splitlines',\n",
       " 'startswith',\n",
       " 'strip',\n",
       " 'swapcase',\n",
       " 'title',\n",
       " 'translate',\n",
       " 'upper',\n",
       " 'zfill']"
      ]
     },
     "execution_count": 60,
     "metadata": {},
     "output_type": "execute_result"
    }
   ],
   "source": [
    "dir(str)"
   ]
  },
  {
   "cell_type": "code",
   "execution_count": 62,
   "id": "ca7f9ab0-5a78-463e-ae53-200ec5974313",
   "metadata": {},
   "outputs": [
    {
     "name": "stdout",
     "output_type": "stream",
     "text": [
      "Help on method_descriptor:\n",
      "\n",
      "join(self, iterable, /)\n",
      "    Concatenate any number of strings.\n",
      "    \n",
      "    The string whose method is called is inserted in between each given string.\n",
      "    The result is returned as a new string.\n",
      "    \n",
      "    Example: '.'.join(['ab', 'pq', 'rs']) -> 'ab.pq.rs'\n",
      "\n"
     ]
    }
   ],
   "source": [
    "help(str.join)"
   ]
  },
  {
   "cell_type": "code",
   "execution_count": 7,
   "id": "10066544-c493-4049-993c-8dec4264ce03",
   "metadata": {},
   "outputs": [
    {
     "ename": "TypeError",
     "evalue": "sequence item 0: expected str instance, int found",
     "output_type": "error",
     "traceback": [
      "\u001b[0;31m---------------------------------------------------------------------------\u001b[0m",
      "\u001b[0;31mTypeError\u001b[0m                                 Traceback (most recent call last)",
      "Cell \u001b[0;32mIn[7], line 1\u001b[0m\n\u001b[0;32m----> 1\u001b[0m \u001b[38;5;124;43m'\u001b[39;49m\u001b[38;5;124;43mABC\u001b[39;49m\u001b[38;5;124;43m'\u001b[39;49m\u001b[38;5;241;43m.\u001b[39;49m\u001b[43mjoin\u001b[49m\u001b[43m(\u001b[49m\u001b[43mTAPE\u001b[49m\u001b[43m)\u001b[49m\n",
      "\u001b[0;31mTypeError\u001b[0m: sequence item 0: expected str instance, int found"
     ]
    }
   ],
   "source": [
    "'ABC'.join(TAPE)"
   ]
  },
  {
   "cell_type": "code",
   "execution_count": null,
   "id": "e26ee212-e707-481c-a990-8f9744f920c6",
   "metadata": {},
   "outputs": [],
   "source": []
  },
  {
   "cell_type": "code",
   "execution_count": 8,
   "id": "5d1b56e9-fc1c-42aa-8271-1ec25e567d20",
   "metadata": {},
   "outputs": [
    {
     "data": {
      "text/plain": [
       "'0ABC0ABC0ABC0ABC1ABC1ABC1ABC1ABC1ABC0ABC0'"
      ]
     },
     "execution_count": 8,
     "metadata": {},
     "output_type": "execute_result"
    }
   ],
   "source": [
    "'ABC'.join([str(e) for e in TAPE])"
   ]
  },
  {
   "cell_type": "code",
   "execution_count": 68,
   "id": "86529f9d-fa92-4ae3-a919-e623c5e7eac7",
   "metadata": {},
   "outputs": [
    {
     "data": {
      "text/plain": [
       "'0     0     0     0     1     1     1     1     1     0     0'"
      ]
     },
     "execution_count": 68,
     "metadata": {},
     "output_type": "execute_result"
    }
   ],
   "source": [
    "'     '.join([str(e) for e in TAPE])"
   ]
  },
  {
   "cell_type": "code",
   "execution_count": 70,
   "id": "3fc2cf02-26e9-40e9-8ee3-495e207612e0",
   "metadata": {},
   "outputs": [
    {
     "data": {
      "text/plain": [
       "'0   |  0   |  0   |  0   |  1   |  1   |  1   |  1   |  1   |  0   |  0'"
      ]
     },
     "execution_count": 70,
     "metadata": {},
     "output_type": "execute_result"
    }
   ],
   "source": [
    "'   |  '.join([str(e) for e in TAPE])"
   ]
  },
  {
   "cell_type": "code",
   "execution_count": 9,
   "id": "50d8e503-cf2c-418c-b234-8cadfb8eb05f",
   "metadata": {},
   "outputs": [
    {
     "data": {
      "text/plain": [
       "'0     0     0     0     1     1     1     1     1     0     0'"
      ]
     },
     "execution_count": 9,
     "metadata": {},
     "output_type": "execute_result"
    }
   ],
   "source": [
    "'     '.join([str(e) for e in TAPE])"
   ]
  },
  {
   "cell_type": "code",
   "execution_count": null,
   "id": "661e15c5-1dc9-4268-a5ea-f19073c01a27",
   "metadata": {},
   "outputs": [],
   "source": []
  },
  {
   "cell_type": "code",
   "execution_count": 72,
   "id": "1f40b6d0-fa1f-457a-a7b8-30e729099d23",
   "metadata": {},
   "outputs": [
    {
     "data": {
      "text/plain": [
       "'|0|0|0|0|1|1|1|1|1|0|0|'"
      ]
     },
     "execution_count": 72,
     "metadata": {},
     "output_type": "execute_result"
    }
   ],
   "source": [
    "'|' + '|'.join([str(e) for e in TAPE])+'|'"
   ]
  },
  {
   "cell_type": "code",
   "execution_count": 13,
   "id": "f3892441-33e1-4f2c-884d-a96640a0f4e9",
   "metadata": {},
   "outputs": [
    {
     "data": {
      "text/plain": [
       "['come', 't', '2015']"
      ]
     },
     "execution_count": 13,
     "metadata": {},
     "output_type": "execute_result"
    }
   ],
   "source": [
    "[str(e)for e in L]"
   ]
  },
  {
   "cell_type": "code",
   "execution_count": 14,
   "id": "ca93b1cf-5bc6-4dc3-8fa1-c20da0962cb1",
   "metadata": {},
   "outputs": [
    {
     "data": {
      "text/plain": [
       "'|come|t|2015'"
      ]
     },
     "execution_count": 14,
     "metadata": {},
     "output_type": "execute_result"
    }
   ],
   "source": [
    "'|' + '|'.join([str(I)for I in L])"
   ]
  },
  {
   "cell_type": "code",
   "execution_count": 15,
   "id": "6c52f832-2e58-4d7f-a5ca-cd9064031a89",
   "metadata": {},
   "outputs": [
    {
     "data": {
      "text/plain": [
       "<generator object <genexpr> at 0x106861d20>"
      ]
     },
     "execution_count": 15,
     "metadata": {},
     "output_type": "execute_result"
    }
   ],
   "source": [
    "(str(e)for e in L)"
   ]
  },
  {
   "cell_type": "code",
   "execution_count": 16,
   "id": "9cf03777-bcb4-482f-8021-6686ff1fd36f",
   "metadata": {},
   "outputs": [],
   "source": [
    "E = (str(e)for e in L)"
   ]
  },
  {
   "cell_type": "code",
   "execution_count": 21,
   "id": "f25a7452-c3f3-4432-8346-901da137bc4b",
   "metadata": {},
   "outputs": [
    {
     "ename": "StopIteration",
     "evalue": "",
     "output_type": "error",
     "traceback": [
      "\u001b[0;31m---------------------------------------------------------------------------\u001b[0m",
      "\u001b[0;31mStopIteration\u001b[0m                             Traceback (most recent call last)",
      "Cell \u001b[0;32mIn[21], line 1\u001b[0m\n\u001b[0;32m----> 1\u001b[0m \u001b[38;5;28;43mnext\u001b[39;49m\u001b[43m(\u001b[49m\u001b[43mE\u001b[49m\u001b[43m)\u001b[49m\n",
      "\u001b[0;31mStopIteration\u001b[0m: "
     ]
    }
   ],
   "source": [
    "next(E)"
   ]
  },
  {
   "cell_type": "code",
   "execution_count": 22,
   "id": "388f208f-3569-42c5-82cd-df483fc583bb",
   "metadata": {},
   "outputs": [],
   "source": [
    "L = [10, 20 ,30, 40]"
   ]
  },
  {
   "cell_type": "code",
   "execution_count": 23,
   "id": "c2a8fa82-22c1-4db0-b0f9-0acb4e065555",
   "metadata": {},
   "outputs": [
    {
     "data": {
      "text/plain": [
       "<generator object <genexpr> at 0x1068634c0>"
      ]
     },
     "execution_count": 23,
     "metadata": {},
     "output_type": "execute_result"
    }
   ],
   "source": [
    "(str(e)for e in L)"
   ]
  },
  {
   "cell_type": "code",
   "execution_count": 24,
   "id": "5e436fc6-2f89-4166-b954-0825674eb243",
   "metadata": {},
   "outputs": [],
   "source": [
    "E = (str(e)for e in L)"
   ]
  },
  {
   "cell_type": "code",
   "execution_count": 25,
   "id": "d36a1a72-111f-41aa-8c71-a6c390aa2d4e",
   "metadata": {},
   "outputs": [
    {
     "data": {
      "text/plain": [
       "'10'"
      ]
     },
     "execution_count": 25,
     "metadata": {},
     "output_type": "execute_result"
    }
   ],
   "source": [
    "next(E)"
   ]
  },
  {
   "cell_type": "code",
   "execution_count": 26,
   "id": "393980da-02ac-4e09-8524-92aac341f536",
   "metadata": {},
   "outputs": [
    {
     "data": {
      "text/plain": [
       "'40'"
      ]
     },
     "execution_count": 26,
     "metadata": {},
     "output_type": "execute_result"
    }
   ],
   "source": [
    "next(E)\n",
    "next(E)\n",
    "next(E)"
   ]
  },
  {
   "cell_type": "code",
   "execution_count": 27,
   "id": "c0ac457e-a280-4e19-9bbd-de10f23f91ec",
   "metadata": {},
   "outputs": [
    {
     "data": {
      "text/plain": [
       "'0|0|0|0|1|1|1|1|1|0|0'"
      ]
     },
     "execution_count": 27,
     "metadata": {},
     "output_type": "execute_result"
    }
   ],
   "source": [
    "'|'.join([str(e) for e in TAPE])"
   ]
  },
  {
   "cell_type": "code",
   "execution_count": 28,
   "id": "1a9058ad-a5e2-4d08-8517-e7052d45139c",
   "metadata": {},
   "outputs": [
    {
     "data": {
      "text/plain": [
       "['0', '0', '0', '0', '1', '1', '1', '1', '1', '0', '0']"
      ]
     },
     "execution_count": 28,
     "metadata": {},
     "output_type": "execute_result"
    }
   ],
   "source": [
    "[str(e) for e in TAPE]"
   ]
  },
  {
   "cell_type": "code",
   "execution_count": 35,
   "id": "92a90e6d-67fd-4df4-8468-69ec45c813cb",
   "metadata": {},
   "outputs": [],
   "source": [
    "def display_tape():\n",
    "    display_boundary()\n",
    "    print('|'.join([str(e) for e in TAPE]))\n",
    "    display_boundary()"
   ]
  },
  {
   "cell_type": "code",
   "execution_count": 36,
   "id": "1476124b-c57f-40b7-b8ae-e84226f9cd68",
   "metadata": {},
   "outputs": [
    {
     "name": "stdout",
     "output_type": "stream",
     "text": [
      "-----------------------\n",
      "0|0|0|0|1|1|1|1|1|0|0\n",
      "-----------------------\n"
     ]
    }
   ],
   "source": [
    "display_tape()"
   ]
  },
  {
   "cell_type": "code",
   "execution_count": 37,
   "id": "1f98a857-608d-49f3-b970-da6becf882e3",
   "metadata": {},
   "outputs": [],
   "source": [
    "def display_tape():\n",
    "    display_boundary()\n",
    "    print('|'+'|'.join([str(e) for e in TAPE]))\n",
    "    display_boundary()"
   ]
  },
  {
   "cell_type": "code",
   "execution_count": 38,
   "id": "ebc4fb91-fa80-4862-bdae-1db5d24214f7",
   "metadata": {},
   "outputs": [
    {
     "name": "stdout",
     "output_type": "stream",
     "text": [
      "-----------------------\n",
      "|0|0|0|0|1|1|1|1|1|0|0\n",
      "-----------------------\n"
     ]
    }
   ],
   "source": [
    "display_tape()"
   ]
  },
  {
   "cell_type": "code",
   "execution_count": 39,
   "id": "e3008dea-d188-47eb-86ea-10621a409fa2",
   "metadata": {},
   "outputs": [],
   "source": [
    "def display_tape():\n",
    "    display_boundary()\n",
    "    print('|','|'.join([str(e) for e in TAPE]),sep='')\n",
    "    display_boundary()"
   ]
  },
  {
   "cell_type": "code",
   "execution_count": 40,
   "id": "3f9e4756-69ab-4f9d-85c7-dcda9edb09a8",
   "metadata": {},
   "outputs": [
    {
     "name": "stdout",
     "output_type": "stream",
     "text": [
      "-----------------------\n",
      "|0|0|0|0|1|1|1|1|1|0|0\n",
      "-----------------------\n"
     ]
    }
   ],
   "source": [
    "display_tape()"
   ]
  },
  {
   "cell_type": "code",
   "execution_count": 41,
   "id": "bf8d0701-e829-4bea-94cb-99bbdb31ebe3",
   "metadata": {},
   "outputs": [],
   "source": [
    "state = 'del1'"
   ]
  },
  {
   "cell_type": "code",
   "execution_count": 42,
   "id": "9202026b-3604-46e3-80a6-1d2a3bd05436",
   "metadata": {},
   "outputs": [
    {
     "ename": "FileNotFoundError",
     "evalue": "[Errno 2] No such file or directory: 'division_by_.txt'",
     "output_type": "error",
     "traceback": [
      "\u001b[0;31m---------------------------------------------------------------------------\u001b[0m",
      "\u001b[0;31mFileNotFoundError\u001b[0m                         Traceback (most recent call last)",
      "Cell \u001b[0;32mIn[42], line 1\u001b[0m\n\u001b[0;32m----> 1\u001b[0m \u001b[38;5;28;01mwith\u001b[39;00m \u001b[38;5;28;43mopen\u001b[39;49m\u001b[43m(\u001b[49m\u001b[38;5;124;43m'\u001b[39;49m\u001b[38;5;124;43mdivision_by_.txt\u001b[39;49m\u001b[38;5;124;43m'\u001b[39;49m\u001b[43m)\u001b[49m \u001b[38;5;28;01mas\u001b[39;00m file:\n\u001b[1;32m      2\u001b[0m     file\n",
      "File \u001b[0;32m/opt/anaconda3/envs/d2l-env/lib/python3.11/site-packages/IPython/core/interactiveshell.py:324\u001b[0m, in \u001b[0;36m_modified_open\u001b[0;34m(file, *args, **kwargs)\u001b[0m\n\u001b[1;32m    317\u001b[0m \u001b[38;5;28;01mif\u001b[39;00m file \u001b[38;5;129;01min\u001b[39;00m {\u001b[38;5;241m0\u001b[39m, \u001b[38;5;241m1\u001b[39m, \u001b[38;5;241m2\u001b[39m}:\n\u001b[1;32m    318\u001b[0m     \u001b[38;5;28;01mraise\u001b[39;00m \u001b[38;5;167;01mValueError\u001b[39;00m(\n\u001b[1;32m    319\u001b[0m         \u001b[38;5;124mf\u001b[39m\u001b[38;5;124m\"\u001b[39m\u001b[38;5;124mIPython won\u001b[39m\u001b[38;5;124m'\u001b[39m\u001b[38;5;124mt let you open fd=\u001b[39m\u001b[38;5;132;01m{\u001b[39;00mfile\u001b[38;5;132;01m}\u001b[39;00m\u001b[38;5;124m by default \u001b[39m\u001b[38;5;124m\"\u001b[39m\n\u001b[1;32m    320\u001b[0m         \u001b[38;5;124m\"\u001b[39m\u001b[38;5;124mas it is likely to crash IPython. If you know what you are doing, \u001b[39m\u001b[38;5;124m\"\u001b[39m\n\u001b[1;32m    321\u001b[0m         \u001b[38;5;124m\"\u001b[39m\u001b[38;5;124myou can use builtins\u001b[39m\u001b[38;5;124m'\u001b[39m\u001b[38;5;124m open.\u001b[39m\u001b[38;5;124m\"\u001b[39m\n\u001b[1;32m    322\u001b[0m     )\n\u001b[0;32m--> 324\u001b[0m \u001b[38;5;28;01mreturn\u001b[39;00m \u001b[43mio_open\u001b[49m\u001b[43m(\u001b[49m\u001b[43mfile\u001b[49m\u001b[43m,\u001b[49m\u001b[43m \u001b[49m\u001b[38;5;241;43m*\u001b[39;49m\u001b[43margs\u001b[49m\u001b[43m,\u001b[49m\u001b[43m \u001b[49m\u001b[38;5;241;43m*\u001b[39;49m\u001b[38;5;241;43m*\u001b[39;49m\u001b[43mkwargs\u001b[49m\u001b[43m)\u001b[49m\n",
      "\u001b[0;31mFileNotFoundError\u001b[0m: [Errno 2] No such file or directory: 'division_by_.txt'"
     ]
    }
   ],
   "source": [
    "with open('division_by_.txt') as file:\n",
    "    file"
   ]
  },
  {
   "cell_type": "code",
   "execution_count": 134,
   "id": "37981bb3-070c-49ca-8db8-94fab7b0db00",
   "metadata": {},
   "outputs": [
    {
     "ename": "FileNotFoundError",
     "evalue": "[Errno 2] No such file or directory: 'division_by_.txt'",
     "output_type": "error",
     "traceback": [
      "\u001b[0;31m---------------------------------------------------------------------------\u001b[0m",
      "\u001b[0;31mFileNotFoundError\u001b[0m                         Traceback (most recent call last)",
      "Cell \u001b[0;32mIn[134], line 1\u001b[0m\n\u001b[0;32m----> 1\u001b[0m \u001b[38;5;28;01mwith\u001b[39;00m \u001b[38;5;28;43mopen\u001b[39;49m\u001b[43m(\u001b[49m\u001b[38;5;124;43m'\u001b[39;49m\u001b[38;5;124;43mdivision_by_.txt\u001b[39;49m\u001b[38;5;124;43m'\u001b[39;49m\u001b[43m)\u001b[49m \u001b[38;5;28;01mas\u001b[39;00m file:\n\u001b[1;32m      2\u001b[0m     file\u001b[38;5;241m.\u001b[39mreadlines()\n",
      "File \u001b[0;32m/opt/anaconda3/envs/d2l-env/lib/python3.11/site-packages/IPython/core/interactiveshell.py:324\u001b[0m, in \u001b[0;36m_modified_open\u001b[0;34m(file, *args, **kwargs)\u001b[0m\n\u001b[1;32m    317\u001b[0m \u001b[38;5;28;01mif\u001b[39;00m file \u001b[38;5;129;01min\u001b[39;00m {\u001b[38;5;241m0\u001b[39m, \u001b[38;5;241m1\u001b[39m, \u001b[38;5;241m2\u001b[39m}:\n\u001b[1;32m    318\u001b[0m     \u001b[38;5;28;01mraise\u001b[39;00m \u001b[38;5;167;01mValueError\u001b[39;00m(\n\u001b[1;32m    319\u001b[0m         \u001b[38;5;124mf\u001b[39m\u001b[38;5;124m\"\u001b[39m\u001b[38;5;124mIPython won\u001b[39m\u001b[38;5;124m'\u001b[39m\u001b[38;5;124mt let you open fd=\u001b[39m\u001b[38;5;132;01m{\u001b[39;00mfile\u001b[38;5;132;01m}\u001b[39;00m\u001b[38;5;124m by default \u001b[39m\u001b[38;5;124m\"\u001b[39m\n\u001b[1;32m    320\u001b[0m         \u001b[38;5;124m\"\u001b[39m\u001b[38;5;124mas it is likely to crash IPython. If you know what you are doing, \u001b[39m\u001b[38;5;124m\"\u001b[39m\n\u001b[1;32m    321\u001b[0m         \u001b[38;5;124m\"\u001b[39m\u001b[38;5;124myou can use builtins\u001b[39m\u001b[38;5;124m'\u001b[39m\u001b[38;5;124m open.\u001b[39m\u001b[38;5;124m\"\u001b[39m\n\u001b[1;32m    322\u001b[0m     )\n\u001b[0;32m--> 324\u001b[0m \u001b[38;5;28;01mreturn\u001b[39;00m \u001b[43mio_open\u001b[49m\u001b[43m(\u001b[49m\u001b[43mfile\u001b[49m\u001b[43m,\u001b[49m\u001b[43m \u001b[49m\u001b[38;5;241;43m*\u001b[39;49m\u001b[43margs\u001b[49m\u001b[43m,\u001b[49m\u001b[43m \u001b[49m\u001b[38;5;241;43m*\u001b[39;49m\u001b[38;5;241;43m*\u001b[39;49m\u001b[43mkwargs\u001b[49m\u001b[43m)\u001b[49m\n",
      "\u001b[0;31mFileNotFoundError\u001b[0m: [Errno 2] No such file or directory: 'division_by_.txt'"
     ]
    }
   ],
   "source": [
    "with open('division_by_.txt') as file:\n",
    "    file.readlines()"
   ]
  },
  {
   "cell_type": "code",
   "execution_count": 43,
   "id": "a716851e-68b1-446c-bd26-83968e7724f1",
   "metadata": {},
   "outputs": [
    {
     "ename": "FileNotFoundError",
     "evalue": "[Errno 2] No such file or directory: 'division_by_.txt'",
     "output_type": "error",
     "traceback": [
      "\u001b[0;31m---------------------------------------------------------------------------\u001b[0m",
      "\u001b[0;31mFileNotFoundError\u001b[0m                         Traceback (most recent call last)",
      "Cell \u001b[0;32mIn[43], line 1\u001b[0m\n\u001b[0;32m----> 1\u001b[0m \u001b[38;5;28;01mwith\u001b[39;00m \u001b[38;5;28;43mopen\u001b[39;49m\u001b[43m(\u001b[49m\u001b[38;5;124;43m'\u001b[39;49m\u001b[38;5;124;43mdivision_by_.txt\u001b[39;49m\u001b[38;5;124;43m'\u001b[39;49m\u001b[43m)\u001b[49m \u001b[38;5;28;01mas\u001b[39;00m file:\n\u001b[1;32m      2\u001b[0m     file\u001b[38;5;241m.\u001b[39mreadlines()\n\u001b[1;32m      3\u001b[0m     file\u001b[38;5;241m.\u001b[39mreadlines()\n",
      "File \u001b[0;32m/opt/anaconda3/envs/d2l-env/lib/python3.11/site-packages/IPython/core/interactiveshell.py:324\u001b[0m, in \u001b[0;36m_modified_open\u001b[0;34m(file, *args, **kwargs)\u001b[0m\n\u001b[1;32m    317\u001b[0m \u001b[38;5;28;01mif\u001b[39;00m file \u001b[38;5;129;01min\u001b[39;00m {\u001b[38;5;241m0\u001b[39m, \u001b[38;5;241m1\u001b[39m, \u001b[38;5;241m2\u001b[39m}:\n\u001b[1;32m    318\u001b[0m     \u001b[38;5;28;01mraise\u001b[39;00m \u001b[38;5;167;01mValueError\u001b[39;00m(\n\u001b[1;32m    319\u001b[0m         \u001b[38;5;124mf\u001b[39m\u001b[38;5;124m\"\u001b[39m\u001b[38;5;124mIPython won\u001b[39m\u001b[38;5;124m'\u001b[39m\u001b[38;5;124mt let you open fd=\u001b[39m\u001b[38;5;132;01m{\u001b[39;00mfile\u001b[38;5;132;01m}\u001b[39;00m\u001b[38;5;124m by default \u001b[39m\u001b[38;5;124m\"\u001b[39m\n\u001b[1;32m    320\u001b[0m         \u001b[38;5;124m\"\u001b[39m\u001b[38;5;124mas it is likely to crash IPython. If you know what you are doing, \u001b[39m\u001b[38;5;124m\"\u001b[39m\n\u001b[1;32m    321\u001b[0m         \u001b[38;5;124m\"\u001b[39m\u001b[38;5;124myou can use builtins\u001b[39m\u001b[38;5;124m'\u001b[39m\u001b[38;5;124m open.\u001b[39m\u001b[38;5;124m\"\u001b[39m\n\u001b[1;32m    322\u001b[0m     )\n\u001b[0;32m--> 324\u001b[0m \u001b[38;5;28;01mreturn\u001b[39;00m \u001b[43mio_open\u001b[49m\u001b[43m(\u001b[49m\u001b[43mfile\u001b[49m\u001b[43m,\u001b[49m\u001b[43m \u001b[49m\u001b[38;5;241;43m*\u001b[39;49m\u001b[43margs\u001b[49m\u001b[43m,\u001b[49m\u001b[43m \u001b[49m\u001b[38;5;241;43m*\u001b[39;49m\u001b[38;5;241;43m*\u001b[39;49m\u001b[43mkwargs\u001b[49m\u001b[43m)\u001b[49m\n",
      "\u001b[0;31mFileNotFoundError\u001b[0m: [Errno 2] No such file or directory: 'division_by_.txt'"
     ]
    }
   ],
   "source": [
    "with open('division_by_.txt') as file:\n",
    "    file.readlines()\n",
    "    file.readlines()\n",
    "    file.readlines()\n",
    "    file.readlines()"
   ]
  },
  {
   "cell_type": "code",
   "execution_count": null,
   "id": "70bd1120-ddc4-4f73-a083-4baf5a7d8297",
   "metadata": {},
   "outputs": [],
   "source": []
  },
  {
   "cell_type": "code",
   "execution_count": null,
   "id": "b1110a70-c349-4429-bd97-1109b42674ff",
   "metadata": {},
   "outputs": [],
   "source": []
  },
  {
   "cell_type": "code",
   "execution_count": null,
   "id": "f068c8a4-dcfc-47e9-ae6d-5600a0c13cdc",
   "metadata": {},
   "outputs": [],
   "source": [
    "with open('division_by_.txt') as file:\n",
    "    next(file)\n",
    "    next(file)\n",
    "    next(file)\n",
    "    next(file)"
   ]
  },
  {
   "cell_type": "code",
   "execution_count": null,
   "id": "34659527-f225-4616-b65b-0818d500f86c",
   "metadata": {},
   "outputs": [],
   "source": [
    "with open('division_by_.txt') as file:\n",
    "    for line in file:\n",
    "        print(line, end='')"
   ]
  },
  {
   "cell_type": "code",
   "execution_count": 44,
   "id": "c1dae521-b9b9-48a7-80a1-2a496b3f4987",
   "metadata": {},
   "outputs": [
    {
     "data": {
      "text/plain": [
       "['delt1', '1', 'delt2', '0', 'R']"
      ]
     },
     "execution_count": 44,
     "metadata": {},
     "output_type": "execute_result"
    }
   ],
   "source": [
    "'delt1 1 delt2 0 R\\n'.split()"
   ]
  },
  {
   "cell_type": "code",
   "execution_count": 45,
   "id": "79e76bad-ae04-47dc-a115-965427ac39a1",
   "metadata": {},
   "outputs": [
    {
     "data": {
      "text/plain": [
       "20"
      ]
     },
     "execution_count": 45,
     "metadata": {},
     "output_type": "execute_result"
    }
   ],
   "source": [
    "L[1]"
   ]
  },
  {
   "cell_type": "code",
   "execution_count": 46,
   "id": "87a1b860-7969-46fd-b70b-9d8906a693ac",
   "metadata": {},
   "outputs": [],
   "source": [
    "L ='delt1 1 delt2 0 R\\n'.split()"
   ]
  },
  {
   "cell_type": "code",
   "execution_count": 47,
   "id": "9412c345-3331-4788-afc5-c7e9c6b2712d",
   "metadata": {},
   "outputs": [
    {
     "data": {
      "text/plain": [
       "'1'"
      ]
     },
     "execution_count": 47,
     "metadata": {},
     "output_type": "execute_result"
    }
   ],
   "source": [
    "L[1]"
   ]
  },
  {
   "cell_type": "code",
   "execution_count": 48,
   "id": "b1a1c615-9703-4bc9-a505-f735072f506b",
   "metadata": {},
   "outputs": [],
   "source": [
    "[a, b, c, d, e] ='delt1 1 delt2 0 R\\n'.split()"
   ]
  },
  {
   "cell_type": "code",
   "execution_count": 49,
   "id": "3c253fb3-446f-49fb-b6fc-55ffe1081791",
   "metadata": {},
   "outputs": [
    {
     "data": {
      "text/plain": [
       "'R'"
      ]
     },
     "execution_count": 49,
     "metadata": {},
     "output_type": "execute_result"
    }
   ],
   "source": [
    "a\n",
    "e"
   ]
  },
  {
   "cell_type": "code",
   "execution_count": 50,
   "id": "998b009a-5b60-4755-a5c6-83f083538d82",
   "metadata": {},
   "outputs": [
    {
     "data": {
      "text/plain": [
       "'delt1'"
      ]
     },
     "execution_count": 50,
     "metadata": {},
     "output_type": "execute_result"
    }
   ],
   "source": [
    "a"
   ]
  },
  {
   "cell_type": "code",
   "execution_count": 51,
   "id": "07b12db5-cb89-4b59-8dd4-6778aa170ba6",
   "metadata": {},
   "outputs": [],
   "source": [
    "[a, b, c, d, e] ='delt1 1 delt2 0 R\\n'.split() "
   ]
  },
  {
   "cell_type": "code",
   "execution_count": 52,
   "id": "4015144a-1773-4277-bda1-91b541845d0c",
   "metadata": {},
   "outputs": [
    {
     "data": {
      "text/plain": [
       "False"
      ]
     },
     "execution_count": 52,
     "metadata": {},
     "output_type": "execute_result"
    }
   ],
   "source": [
    "'COMP9021'.istitle() "
   ]
  },
  {
   "cell_type": "code",
   "execution_count": null,
   "id": "ec1e7b55-4143-4b4c-8351-40db2fdc0540",
   "metadata": {},
   "outputs": [],
   "source": [
    "while True:\n",
    "    try:\n",
    "        switch_or_ont = input('Do you want switch?')\n",
    "        if switch_or_ont.istitle():\n",
    "            switch_or_ont = switch_or_ont.lower()\n",
    "            print(switch_or_ont)\n",
    "            break\n",
    "    except ValueError:\n",
    "        print('Bad input, try again!')"
   ]
  },
  {
   "cell_type": "code",
   "execution_count": null,
   "id": "4d8e213d-a1fc-4aef-b7f1-34df19f7ef92",
   "metadata": {},
   "outputs": [],
   "source": [
    "while True:\n",
    "    try:\n",
    "        switch_or_ont = input('Do you want switch?')\n",
    "        if switch_or_ont.istitle():\n",
    "            switch_or_ont = switch_or_ont.lower()\n",
    "            print(switch_or_ont)\n",
    "            break\n",
    "    except ValueError:\n",
    "        print('Bad input, try again!')"
   ]
  },
  {
   "cell_type": "code",
   "execution_count": null,
   "id": "342ca7a2-7b41-4793-b968-f34b9d3b77c7",
   "metadata": {},
   "outputs": [],
   "source": [
    "with open('division_by_2.txt') as file:\n",
    "    for line in file:\n",
    "        if not line.startswith('#') and not line.isspace():\n",
    "            print(line, end='')"
   ]
  },
  {
   "cell_type": "code",
   "execution_count": null,
   "id": "45222b9b-7631-4807-a913-2d1394d24aa3",
   "metadata": {},
   "outputs": [],
   "source": [
    "with open('division_by_2.txt') as file:\n",
    "    for line in file:\n",
    "        if not line.startswith('#') and not line.isspace():\n",
    "            print(line, end='')"
   ]
  },
  {
   "cell_type": "code",
   "execution_count": null,
   "id": "e1146776-1061-4c28-ab9a-be0bf5603ce8",
   "metadata": {},
   "outputs": [],
   "source": [
    "list_1 = [0,2,12,3,4,6,1,9,7,10,8,11,5]"
   ]
  },
  {
   "cell_type": "code",
   "execution_count": null,
   "id": "46994a26-e7a8-4c6d-a1f2-8c1c5167ed2f",
   "metadata": {},
   "outputs": [],
   "source": [
    "TM_program = {}\n",
    "with open('division_by_2.txt') as file:\n",
    "    for line in file:\n",
    "        if line.startswith('#') or line.isspace():\n",
    "            continue\n",
    "        instruction = line.split()\n",
    "        TM_program[instruction[0], instruction[1]] =\\\n",
    "               instruction[2], instruction[3], instruction[4]\n",
    "TM_program"
   ]
  },
  {
   "cell_type": "code",
   "execution_count": null,
   "id": "dd56594d-815d-495b-b119-5da4b3f4c089",
   "metadata": {},
   "outputs": [],
   "source": []
  },
  {
   "cell_type": "code",
   "execution_count": null,
   "id": "dc43c58f-4c34-4547-852f-26a6d13fa4b3",
   "metadata": {},
   "outputs": [],
   "source": []
  },
  {
   "cell_type": "code",
   "execution_count": null,
   "id": "a0413d32-b41b-476a-bcac-028a1dcbf7f5",
   "metadata": {},
   "outputs": [],
   "source": [
    "list_2 =[0,1,2,3,4,5,6,7,8,9,10,11,12]\n",
    "list_3 =[8,9,2,6,4,5,3,1,10,7]\n",
    "def f():\n",
    "    for i in list_3"
   ]
  },
  {
   "cell_type": "code",
   "execution_count": null,
   "id": "643df573-ed6e-4da7-877b-b294c9255015",
   "metadata": {},
   "outputs": [],
   "source": [
    "def simulate():\n",
    "    nb_of_game, switch = set_simulation()\n",
    "    nb_of_wins = 0\n",
    "    for i in range (nb_of_name):\n",
    "        doors = ['A', 'B','C']\n",
    "        winning_door = choice(doors)\n",
    "        first_choice = door.pop(randrange(len(doors)))\n",
    "        second_choice = firste_choice\n",
    "        if first_choice == winning_door:\n",
    "            door_opened = doors.pop(randrange(2))\n",
    "            if switch:\n",
    "                second_choice = doors(0)\n",
    "            else:\n",
    "                nb_of_wins +=1\n",
    "        else:\n",
    "            door.remove(winning_door)\n",
    "            door_opened = doors[0]\n",
    "            if switch:\n",
    "                second_choice= winning_door\n",
    "                nb_of_wins +=1\n",
    "        print('Not know to contestant, but know to host, winning door is',winning_door)\n",
    "        print('contestant is first choice',first_choice)\n",
    "        print('door opened by host',door_opened)\n",
    "\n",
    "    print('chance of winning',f'{nb_of_wins/nb_of_games})\n",
    "        "
   ]
  },
  {
   "cell_type": "code",
   "execution_count": null,
   "id": "f93b7a3e-10e7-4b1e-a7ea-bff55add0455",
   "metadata": {},
   "outputs": [],
   "source": [
    "def f(a,b,c,d):\n",
    "    print(a,b,c,d)"
   ]
  },
  {
   "cell_type": "code",
   "execution_count": null,
   "id": "3f57edfa-9656-400c-828d-53612d27a90f",
   "metadata": {},
   "outputs": [],
   "source": [
    "f(2,4,5,78)"
   ]
  },
  {
   "cell_type": "code",
   "execution_count": 1,
   "id": "a4b128cd-b417-402c-a815-b1792b80aca3",
   "metadata": {},
   "outputs": [],
   "source": [
    "def f(a, b, c=58,d=100):\n",
    "    print(a, b, c, d)"
   ]
  },
  {
   "cell_type": "code",
   "execution_count": 2,
   "id": "d46cf941-a2fc-42cf-8e08-9253d9b6e0ab",
   "metadata": {},
   "outputs": [
    {
     "name": "stdout",
     "output_type": "stream",
     "text": [
      "2 4 5 100\n"
     ]
    }
   ],
   "source": [
    "f(2, 4,5)"
   ]
  },
  {
   "cell_type": "code",
   "execution_count": 4,
   "id": "23af3d1f-8477-49d2-9c4c-26db9987d749",
   "metadata": {},
   "outputs": [
    {
     "name": "stdout",
     "output_type": "stream",
     "text": [
      "2 2 58 100\n"
     ]
    }
   ],
   "source": [
    "f(2,2)"
   ]
  },
  {
   "cell_type": "code",
   "execution_count": 5,
   "id": "7acdfcec-0657-4cbe-97d4-f03d8a51ae47",
   "metadata": {},
   "outputs": [
    {
     "name": "stdout",
     "output_type": "stream",
     "text": [
      "2 4 58 200\n"
     ]
    }
   ],
   "source": [
    "f(2,4,d=200)"
   ]
  },
  {
   "cell_type": "code",
   "execution_count": 6,
   "id": "2e396956-5ad3-47c5-af78-fa67f267fb42",
   "metadata": {},
   "outputs": [
    {
     "ename": "TypeError",
     "evalue": "f() got multiple values for argument 'a'",
     "output_type": "error",
     "traceback": [
      "\u001b[0;31m---------------------------------------------------------------------------\u001b[0m",
      "\u001b[0;31mTypeError\u001b[0m                                 Traceback (most recent call last)",
      "Cell \u001b[0;32mIn[6], line 1\u001b[0m\n\u001b[0;32m----> 1\u001b[0m \u001b[43mf\u001b[49m\u001b[43m(\u001b[49m\u001b[38;5;241;43m2\u001b[39;49m\u001b[43m,\u001b[49m\u001b[43m \u001b[49m\u001b[38;5;241;43m4\u001b[39;49m\u001b[43m,\u001b[49m\u001b[43m \u001b[49m\u001b[43mc\u001b[49m\u001b[38;5;241;43m=\u001b[39;49m\u001b[38;5;241;43m200\u001b[39;49m\u001b[43m \u001b[49m\u001b[43m,\u001b[49m\u001b[43ma\u001b[49m\u001b[38;5;241;43m=\u001b[39;49m\u001b[38;5;241;43m500\u001b[39;49m\u001b[43m)\u001b[49m\n",
      "\u001b[0;31mTypeError\u001b[0m: f() got multiple values for argument 'a'"
     ]
    }
   ],
   "source": [
    "f(2, 4, c=200 ,a=500)"
   ]
  },
  {
   "cell_type": "code",
   "execution_count": 12,
   "id": "52559bed-0fac-471b-99f5-48c425493d8f",
   "metadata": {},
   "outputs": [],
   "source": [
    "def set_simulation():\n",
    "    while True:\n",
    "        try:\n",
    "            nb_of_games = int(input('How many times do you want to play?'))\n",
    "            if nb_of_games < 1:\n",
    "                raise ValueError\n",
    "            break\n",
    "        except ValueError:\n",
    "            print('Bad input, try again!') \n",
    "    while True:\n",
    "        switch_or_not = input('Do you want to switch?')\n",
    "        if switch_or_not.istitle():\n",
    "            switch_or_not = switch_or_not.lower()\n",
    "        if switch_or_not in {'yes', 'y'}:\n",
    "            print('Ok, you want to switch!')\n",
    "            switch = True\n",
    "            break\n",
    "        elif switch_or_not in {'no', 'n'}:\n",
    "            print('Ok, you do not want to switch!')\n",
    "            switch = False\n",
    "            break\n",
    "        else:\n",
    "            print('Bad input, try again!')\n",
    "    return nb_of_games, switch"
   ]
  },
  {
   "cell_type": "code",
   "execution_count": 13,
   "id": "026815de-594e-40c9-91fb-b34aa666ae10",
   "metadata": {},
   "outputs": [],
   "source": [
    "def simulate():#nb_of_games_with_details=6\n",
    "    nb_of_games, switch = set_simulation()\n",
    "    nb_of_wins = 0\n",
    "    for i in range (nb_of_games):\n",
    "        doors = ['A', 'B','C']\n",
    "        winning_door = choice(doors)\n",
    "        first_choice = door.pop(randrange(len(doors)))\n",
    "        second_choice = firste_choice\n",
    "        if first_choice == winning_door:\n",
    "            door_opened = doors.pop(randrange(2))\n",
    "            if switch:\n",
    "                second_choice = doors(0)\n",
    "            else:\n",
    "                nb_of_wins +=1\n",
    "        else:\n",
    "            door.remove(winning_door)\n",
    "            door_opened = doors[0]\n",
    "            if switch:\n",
    "                second_choice= winning_door\n",
    "                nb_of_wins +=1\n",
    "        print('Not know to contestant, but know to host, winning door is',winning_door)\n",
    "        print('contestant is first choice',first_choice)\n",
    "        print('door opened by host',door_opened)\n",
    "        print('contestant is second choice',second_choice)\n",
    "\n",
    "    print('chance of winning',f'{nb_of_wins/nb_of_games*100:2f}%')\n",
    "        "
   ]
  },
  {
   "cell_type": "code",
   "execution_count": 14,
   "id": "6008cd1d-1788-448b-a8ea-7870fe9b26e8",
   "metadata": {},
   "outputs": [
    {
     "name": "stdin",
     "output_type": "stream",
     "text": [
      "How many times do you want to play? 10_00\n",
      "Do you want to switch? a\n"
     ]
    },
    {
     "name": "stdout",
     "output_type": "stream",
     "text": [
      "Bad input, try again!\n"
     ]
    },
    {
     "name": "stdin",
     "output_type": "stream",
     "text": [
      "Do you want to switch? yes\n"
     ]
    },
    {
     "name": "stdout",
     "output_type": "stream",
     "text": [
      "Ok, you want to switch!\n"
     ]
    },
    {
     "ename": "NameError",
     "evalue": "name 'choice' is not defined",
     "output_type": "error",
     "traceback": [
      "\u001b[0;31m---------------------------------------------------------------------------\u001b[0m",
      "\u001b[0;31mNameError\u001b[0m                                 Traceback (most recent call last)",
      "Cell \u001b[0;32mIn[14], line 1\u001b[0m\n\u001b[0;32m----> 1\u001b[0m \u001b[43msimulate\u001b[49m\u001b[43m(\u001b[49m\u001b[43m)\u001b[49m\n",
      "Cell \u001b[0;32mIn[13], line 6\u001b[0m, in \u001b[0;36msimulate\u001b[0;34m()\u001b[0m\n\u001b[1;32m      4\u001b[0m \u001b[38;5;28;01mfor\u001b[39;00m i \u001b[38;5;129;01min\u001b[39;00m \u001b[38;5;28mrange\u001b[39m (nb_of_games):\n\u001b[1;32m      5\u001b[0m     doors \u001b[38;5;241m=\u001b[39m [\u001b[38;5;124m'\u001b[39m\u001b[38;5;124mA\u001b[39m\u001b[38;5;124m'\u001b[39m, \u001b[38;5;124m'\u001b[39m\u001b[38;5;124mB\u001b[39m\u001b[38;5;124m'\u001b[39m,\u001b[38;5;124m'\u001b[39m\u001b[38;5;124mC\u001b[39m\u001b[38;5;124m'\u001b[39m]\n\u001b[0;32m----> 6\u001b[0m     winning_door \u001b[38;5;241m=\u001b[39m \u001b[43mchoice\u001b[49m(doors)\n\u001b[1;32m      7\u001b[0m     first_choice \u001b[38;5;241m=\u001b[39m door\u001b[38;5;241m.\u001b[39mpop(randrange(\u001b[38;5;28mlen\u001b[39m(doors)))\n\u001b[1;32m      8\u001b[0m     second_choice \u001b[38;5;241m=\u001b[39m firste_choice\n",
      "\u001b[0;31mNameError\u001b[0m: name 'choice' is not defined"
     ]
    }
   ],
   "source": [
    "simulate()"
   ]
  },
  {
   "cell_type": "code",
   "execution_count": 15,
   "id": "70102026-12fb-4a55-ac39-60cc4b8f6af1",
   "metadata": {},
   "outputs": [
    {
     "data": {
      "text/plain": [
       "10"
      ]
     },
     "execution_count": 15,
     "metadata": {},
     "output_type": "execute_result"
    }
   ],
   "source": [
    "a = 10\n",
    "def f():\n",
    "    a = 20\n",
    "    return a\n",
    "a"
   ]
  },
  {
   "cell_type": "code",
   "execution_count": 16,
   "id": "48f47a16-6e3c-429a-b24c-d7c082117cc2",
   "metadata": {},
   "outputs": [
    {
     "data": {
      "text/plain": [
       "20"
      ]
     },
     "execution_count": 16,
     "metadata": {},
     "output_type": "execute_result"
    }
   ],
   "source": [
    "f()"
   ]
  },
  {
   "cell_type": "code",
   "execution_count": 17,
   "id": "100faf95-9f3a-482f-b017-c53d02137b82",
   "metadata": {},
   "outputs": [
    {
     "data": {
      "text/plain": [
       "4"
      ]
     },
     "execution_count": 17,
     "metadata": {},
     "output_type": "execute_result"
    }
   ],
   "source": [
    "str(2345)\n",
    "len(str(2345))"
   ]
  },
  {
   "cell_type": "code",
   "execution_count": 19,
   "id": "a42232be-6504-43c8-8a44-fca7d02ac54b",
   "metadata": {},
   "outputs": [
    {
     "data": {
      "text/plain": [
       "4"
      ]
     },
     "execution_count": 19,
     "metadata": {},
     "output_type": "execute_result"
    }
   ],
   "source": [
    "len(str(int('1000')))"
   ]
  },
  {
   "cell_type": "code",
   "execution_count": 20,
   "id": "c217240d-c5ad-4a4f-8c66-88e4f2e806d6",
   "metadata": {},
   "outputs": [],
   "source": [
    "def compute_fraction(sigma, tau):\n",
    "    numerator = int(sigma) * (10 ** len(tau) - 1) + int(tau)\n",
    "    denominator = (10 ** len(tau) - 1) * 10 ** len(sigma)\n",
    "    return numerator, denominator\n"
   ]
  },
  {
   "cell_type": "code",
   "execution_count": 22,
   "id": "3782ad9e-c229-48cc-bcc4-b3b6e36d0ec6",
   "metadata": {},
   "outputs": [
    {
     "data": {
      "text/plain": [
       "(23882, 99900)"
      ]
     },
     "execution_count": 22,
     "metadata": {},
     "output_type": "execute_result"
    }
   ],
   "source": [
    "compute_fraction('23', '905')\n",
    "\n"
   ]
  },
  {
   "cell_type": "code",
   "execution_count": 23,
   "id": "ddd5cd8d-6402-4ea2-84b2-aa3903499b35",
   "metadata": {},
   "outputs": [
    {
     "data": {
      "text/plain": [
       "0.23905905905905905"
      ]
     },
     "execution_count": 23,
     "metadata": {},
     "output_type": "execute_result"
    }
   ],
   "source": [
    "23882/99900"
   ]
  },
  {
   "cell_type": "code",
   "execution_count": 29,
   "id": "e9472c65-c871-4c9f-890d-0d5108880db2",
   "metadata": {},
   "outputs": [],
   "source": [
    "from math import gcd"
   ]
  },
  {
   "cell_type": "code",
   "execution_count": 30,
   "id": "d0a26f0f-ddb5-4f4f-8f46-ec3928905706",
   "metadata": {},
   "outputs": [
    {
     "data": {
      "text/plain": [
       "12"
      ]
     },
     "execution_count": 30,
     "metadata": {},
     "output_type": "execute_result"
    }
   ],
   "source": [
    "gcd(64212,99000)"
   ]
  },
  {
   "cell_type": "code",
   "execution_count": 26,
   "id": "e68900e0-54af-427d-ad9f-b412090e1a7a",
   "metadata": {},
   "outputs": [
    {
     "data": {
      "text/plain": [
       "2"
      ]
     },
     "execution_count": 26,
     "metadata": {},
     "output_type": "execute_result"
    }
   ],
   "source": [
    "17 % 5 "
   ]
  },
  {
   "cell_type": "code",
   "execution_count": 27,
   "id": "e5a86d98-714e-450b-ae6c-459e07c86245",
   "metadata": {},
   "outputs": [
    {
     "data": {
      "text/plain": [
       "(3, 2)"
      ]
     },
     "execution_count": 27,
     "metadata": {},
     "output_type": "execute_result"
    }
   ],
   "source": [
    "divmod(17,5)"
   ]
  },
  {
   "cell_type": "code",
   "execution_count": 28,
   "id": "1b6887d6-2f24-4fc7-a489-6620ce39af07",
   "metadata": {},
   "outputs": [
    {
     "data": {
      "text/plain": [
       "-3"
      ]
     },
     "execution_count": 28,
     "metadata": {},
     "output_type": "execute_result"
    }
   ],
   "source": [
    "-5//2"
   ]
  },
  {
   "cell_type": "code",
   "execution_count": 31,
   "id": "caf84eb8-3f6e-45ea-8008-6fa6af671d7f",
   "metadata": {},
   "outputs": [
    {
     "data": {
      "text/plain": [
       "2"
      ]
     },
     "execution_count": 31,
     "metadata": {},
     "output_type": "execute_result"
    }
   ],
   "source": [
    "gcd(34,14)"
   ]
  },
  {
   "cell_type": "code",
   "execution_count": 33,
   "id": "868122d4-6f5f-42a0-9e09-16bbdce52f2a",
   "metadata": {},
   "outputs": [
    {
     "data": {
      "text/plain": [
       "2"
      ]
     },
     "execution_count": 33,
     "metadata": {},
     "output_type": "execute_result"
    }
   ],
   "source": [
    "gcd(14,6)"
   ]
  },
  {
   "cell_type": "code",
   "execution_count": 34,
   "id": "b6889acc-b150-4f0b-8a89-935f33f89e4e",
   "metadata": {},
   "outputs": [
    {
     "data": {
      "text/plain": [
       "2"
      ]
     },
     "execution_count": 34,
     "metadata": {},
     "output_type": "execute_result"
    }
   ],
   "source": [
    "gcd(6,2)"
   ]
  },
  {
   "cell_type": "code",
   "execution_count": 35,
   "id": "7d1724c8-2880-43bf-bac5-c65315c32379",
   "metadata": {},
   "outputs": [
    {
     "data": {
      "text/plain": [
       "2"
      ]
     },
     "execution_count": 35,
     "metadata": {},
     "output_type": "execute_result"
    }
   ],
   "source": [
    "gcd(2,0)"
   ]
  },
  {
   "cell_type": "code",
   "execution_count": 36,
   "id": "2b652427-aab8-4583-b369-e7dc4a485242",
   "metadata": {},
   "outputs": [
    {
     "data": {
      "text/plain": [
       "2.4285714285714284"
      ]
     },
     "execution_count": 36,
     "metadata": {},
     "output_type": "execute_result"
    }
   ],
   "source": [
    "2+(1/(2+1/3))"
   ]
  },
  {
   "cell_type": "code",
   "execution_count": 37,
   "id": "eefe2308-aa7d-49bf-8457-4fade8adb586",
   "metadata": {},
   "outputs": [
    {
     "data": {
      "text/plain": [
       "2.4285714285714284"
      ]
     },
     "execution_count": 37,
     "metadata": {},
     "output_type": "execute_result"
    }
   ],
   "source": [
    "34/14"
   ]
  },
  {
   "cell_type": "code",
   "execution_count": 38,
   "id": "af106350-4e21-45b0-9315-fea41e761ca0",
   "metadata": {},
   "outputs": [],
   "source": [
    "def our_gcd(a,b):\n",
    "    while b != 0:\n",
    "        a = b\n",
    "        b = a % b\n",
    "    return a "
   ]
  },
  {
   "cell_type": "code",
   "execution_count": 39,
   "id": "3b09b87e-ab1c-44b3-9959-bf43762891d2",
   "metadata": {},
   "outputs": [],
   "source": [
    "def our_gcd(a,b):\n",
    "    while b != 0:\n",
    "        c = a\n",
    "        a = b\n",
    "        b = c % b\n",
    "        \n",
    "    return a "
   ]
  },
  {
   "cell_type": "code",
   "execution_count": 41,
   "id": "08b15841-ebcd-4fae-969c-1e4be61fda0a",
   "metadata": {},
   "outputs": [
    {
     "data": {
      "text/plain": [
       "2"
      ]
     },
     "execution_count": 41,
     "metadata": {},
     "output_type": "execute_result"
    }
   ],
   "source": [
    "our_gcd(34, 14)"
   ]
  },
  {
   "cell_type": "code",
   "execution_count": 42,
   "id": "c3d32a91-39a1-4f57-9c2e-7620196e6176",
   "metadata": {},
   "outputs": [],
   "source": [
    "def our_gcd(a,b):\n",
    "    while b != 0:\n",
    "        a, b = b, a % b\n",
    "        \n",
    "    return a "
   ]
  },
  {
   "cell_type": "code",
   "execution_count": 43,
   "id": "7dbe6063-d4ac-452d-9e27-17707556ed08",
   "metadata": {},
   "outputs": [
    {
     "data": {
      "text/plain": [
       "2"
      ]
     },
     "execution_count": 43,
     "metadata": {},
     "output_type": "execute_result"
    }
   ],
   "source": [
    "our_gcd(34, 14)"
   ]
  },
  {
   "cell_type": "code",
   "execution_count": 44,
   "id": "7706767a-8891-48f5-b922-b83fb3471b6d",
   "metadata": {},
   "outputs": [],
   "source": [
    "def our_gcd(a,b):\n",
    "    while b:\n",
    "        a, b = b, a % b\n",
    "        \n",
    "    return a "
   ]
  },
  {
   "cell_type": "code",
   "execution_count": 45,
   "id": "7167d904-c2fc-46df-b2fd-0c3114d7fe5c",
   "metadata": {},
   "outputs": [
    {
     "data": {
      "text/plain": [
       "2"
      ]
     },
     "execution_count": 45,
     "metadata": {},
     "output_type": "execute_result"
    }
   ],
   "source": [
    "our_gcd(34, 14)"
   ]
  },
  {
   "cell_type": "code",
   "execution_count": 46,
   "id": "bf80c288-5d87-41b0-a1ed-5ba284c8f408",
   "metadata": {},
   "outputs": [
    {
     "data": {
      "text/plain": [
       "True"
      ]
     },
     "execution_count": 46,
     "metadata": {},
     "output_type": "execute_result"
    }
   ],
   "source": [
    "bool(34)"
   ]
  },
  {
   "cell_type": "code",
   "execution_count": 49,
   "id": "fd972bb5-a708-491b-a253-e37b1ce7cab0",
   "metadata": {},
   "outputs": [
    {
     "data": {
      "text/plain": [
       "['__abs__',\n",
       " '__add__',\n",
       " '__and__',\n",
       " '__bool__',\n",
       " '__ceil__',\n",
       " '__class__',\n",
       " '__delattr__',\n",
       " '__dir__',\n",
       " '__divmod__',\n",
       " '__doc__',\n",
       " '__eq__',\n",
       " '__float__',\n",
       " '__floor__',\n",
       " '__floordiv__',\n",
       " '__format__',\n",
       " '__ge__',\n",
       " '__getattribute__',\n",
       " '__getnewargs__',\n",
       " '__getstate__',\n",
       " '__gt__',\n",
       " '__hash__',\n",
       " '__index__',\n",
       " '__init__',\n",
       " '__init_subclass__',\n",
       " '__int__',\n",
       " '__invert__',\n",
       " '__le__',\n",
       " '__lshift__',\n",
       " '__lt__',\n",
       " '__mod__',\n",
       " '__mul__',\n",
       " '__ne__',\n",
       " '__neg__',\n",
       " '__new__',\n",
       " '__or__',\n",
       " '__pos__',\n",
       " '__pow__',\n",
       " '__radd__',\n",
       " '__rand__',\n",
       " '__rdivmod__',\n",
       " '__reduce__',\n",
       " '__reduce_ex__',\n",
       " '__repr__',\n",
       " '__rfloordiv__',\n",
       " '__rlshift__',\n",
       " '__rmod__',\n",
       " '__rmul__',\n",
       " '__ror__',\n",
       " '__round__',\n",
       " '__rpow__',\n",
       " '__rrshift__',\n",
       " '__rshift__',\n",
       " '__rsub__',\n",
       " '__rtruediv__',\n",
       " '__rxor__',\n",
       " '__setattr__',\n",
       " '__sizeof__',\n",
       " '__str__',\n",
       " '__sub__',\n",
       " '__subclasshook__',\n",
       " '__truediv__',\n",
       " '__trunc__',\n",
       " '__xor__',\n",
       " 'as_integer_ratio',\n",
       " 'bit_count',\n",
       " 'bit_length',\n",
       " 'conjugate',\n",
       " 'denominator',\n",
       " 'from_bytes',\n",
       " 'imag',\n",
       " 'numerator',\n",
       " 'real',\n",
       " 'to_bytes']"
      ]
     },
     "execution_count": 49,
     "metadata": {},
     "output_type": "execute_result"
    }
   ],
   "source": [
    "dir(bool)"
   ]
  },
  {
   "cell_type": "code",
   "execution_count": 50,
   "id": "1d48c653-5e6a-472f-af8e-981f23d1fdee",
   "metadata": {},
   "outputs": [
    {
     "name": "stdout",
     "output_type": "stream",
     "text": [
      "[1, 2]\n",
      "[1]\n",
      "[]\n"
     ]
    }
   ],
   "source": [
    "L = [1, 2, 3]\n",
    "while L:\n",
    "    L.pop()\n",
    "    print(L)"
   ]
  },
  {
   "cell_type": "code",
   "execution_count": 51,
   "id": "35fb2617-6664-44a6-8df8-fc637f414464",
   "metadata": {},
   "outputs": [],
   "source": [
    "def our_gcd(a,b):\n",
    "    while b:\n",
    "        a, b = b, a % b\n",
    "        \n",
    "    return a "
   ]
  },
  {
   "cell_type": "code",
   "execution_count": 52,
   "id": "808037bf-66d1-49d5-bf2c-621ddb1b5e0f",
   "metadata": {},
   "outputs": [],
   "source": [
    "def compute_fraction(sigma, tau):\n",
    "    numerator = int(sigma) * (10 ** len(tau) - 1) + int(tau)\n",
    "    denominator = (10 ** len(tau) - 1) * 10 ** len(sigma)\n",
    "    return numerator, denominator"
   ]
  },
  {
   "cell_type": "code",
   "execution_count": 53,
   "id": "1f25b19c-9952-4039-b91b-79be6a6f2c5a",
   "metadata": {},
   "outputs": [],
   "source": [
    "def our_gcd(a,b):\n",
    "    while b:\n",
    "        a, b = b, a % b\n",
    "        \n",
    "    return a "
   ]
  },
  {
   "cell_type": "code",
   "execution_count": 54,
   "id": "40a00f49-72f6-4d20-af48-08e2af516f5d",
   "metadata": {},
   "outputs": [
    {
     "data": {
      "text/plain": [
       "(23882, 99900)"
      ]
     },
     "execution_count": 54,
     "metadata": {},
     "output_type": "execute_result"
    }
   ],
   "source": [
    "compute_fraction('23', '905')\n"
   ]
  },
  {
   "cell_type": "code",
   "execution_count": 55,
   "id": "734bb706-519f-4284-bbde-a97419b7b000",
   "metadata": {},
   "outputs": [],
   "source": [
    "def simplify_fraction(p, q):\n",
    "    my_gcd = gcd(p, q)\n",
    "    return p// my_gcd, q//my_gcd"
   ]
  },
  {
   "cell_type": "code",
   "execution_count": 58,
   "id": "d6d70d70-afe0-4d83-8cb9-4326a774e063",
   "metadata": {},
   "outputs": [
    {
     "data": {
      "text/plain": [
       "(23, 905)"
      ]
     },
     "execution_count": 58,
     "metadata": {},
     "output_type": "execute_result"
    }
   ],
   "source": [
    "simplify_fraction(23, 905)\n"
   ]
  },
  {
   "cell_type": "code",
   "execution_count": 61,
   "id": "ec5e873c-5111-4207-81e5-221619102c08",
   "metadata": {},
   "outputs": [],
   "source": [
    "def f(a,b,*x):\n",
    "    print(a, b, x)"
   ]
  },
  {
   "cell_type": "code",
   "execution_count": 62,
   "id": "9e530113-429d-47ab-bd48-e8f0b5a25661",
   "metadata": {},
   "outputs": [
    {
     "name": "stdout",
     "output_type": "stream",
     "text": [
      "1 2 (3, 4, 5, 6)\n"
     ]
    }
   ],
   "source": [
    "f(1,2,3,4,5,6)"
   ]
  },
  {
   "cell_type": "code",
   "execution_count": 63,
   "id": "a5a09fb4-f3df-4884-8288-41f409cea0b6",
   "metadata": {},
   "outputs": [],
   "source": [
    "def f(*x):\n",
    "    return 2 * x"
   ]
  },
  {
   "cell_type": "code",
   "execution_count": 64,
   "id": "7a2ad84d-7aad-4fca-ad13-444dfe115c4a",
   "metadata": {},
   "outputs": [
    {
     "data": {
      "text/plain": [
       "(0, 0)"
      ]
     },
     "execution_count": 64,
     "metadata": {},
     "output_type": "execute_result"
    }
   ],
   "source": [
    "f(0)"
   ]
  },
  {
   "cell_type": "code",
   "execution_count": 65,
   "id": "83b505ba-db9b-402e-9e9d-b23b384773b1",
   "metadata": {},
   "outputs": [
    {
     "data": {
      "text/plain": [
       "0"
      ]
     },
     "execution_count": 65,
     "metadata": {},
     "output_type": "execute_result"
    }
   ],
   "source": [
    "(0)*2"
   ]
  },
  {
   "cell_type": "code",
   "execution_count": 68,
   "id": "d5b28101-b91f-4c92-9197-caee8b3637da",
   "metadata": {},
   "outputs": [
    {
     "data": {
      "text/plain": [
       "((0, 0), (0, 0))"
      ]
     },
     "execution_count": 68,
     "metadata": {},
     "output_type": "execute_result"
    }
   ],
   "source": [
    "f(f(0))"
   ]
  },
  {
   "cell_type": "code",
   "execution_count": 67,
   "id": "ceafab3a-d50a-49a2-8467-ce418bbecb56",
   "metadata": {},
   "outputs": [
    {
     "data": {
      "text/plain": [
       "(0, 0, 0, 0)"
      ]
     },
     "execution_count": 67,
     "metadata": {},
     "output_type": "execute_result"
    }
   ],
   "source": [
    "f(*f(0))"
   ]
  },
  {
   "cell_type": "code",
   "execution_count": null,
   "id": "b51316d9-300d-4ea6-beeb-f59c2969fdbd",
   "metadata": {},
   "outputs": [],
   "source": []
  }
 ],
 "metadata": {
  "kernelspec": {
   "display_name": "Python 3 (d2l-env)",
   "language": "python",
   "name": "d2l-env"
  },
  "language_info": {
   "codemirror_mode": {
    "name": "ipython",
    "version": 3
   },
   "file_extension": ".py",
   "mimetype": "text/x-python",
   "name": "python",
   "nbconvert_exporter": "python",
   "pygments_lexer": "ipython3",
   "version": "3.11.8"
  }
 },
 "nbformat": 4,
 "nbformat_minor": 5
}

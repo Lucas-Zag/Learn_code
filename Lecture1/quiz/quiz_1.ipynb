{
 "cells": [
  {
   "cell_type": "code",
   "execution_count": 110,
   "id": "d1f1f88b-6315-419f-a4d9-6ed0b08446a7",
   "metadata": {},
   "outputs": [],
   "source": [
    "# Written by *** for COMP9021\n",
    "#\n",
    "# Two functions to implement.\n",
    "#\n",
    "#\n",
    "# The function frieze() takes an integers as argument,\n",
    "# that you can assume is at least equal to 1;\n",
    "# it prints out a \"frieze\", that note has no trailing\n",
    "# spaces on any line.\n",
    "#\n",
    "#\n",
    "# The function numbers() takes a string as argument,\n",
    "# that you can assume is the name of a file that exists\n",
    "# in the working directory.\n",
    "#\n",
    "# The file can contain anywhere any number of blank lines\n",
    "# (that is, lines containing an arbitrary number of spaces\n",
    "# and tabs--an empty line being the limiting case).\n",
    "#\n",
    "# Nonblank lines are always of the form:\n",
    "# axb^c\n",
    "# where a is a nonempty sequence of dots, b is an integer\n",
    "# and c is a nonempty sequence of dots,\n",
    "# with no space anywhere on the line,\n",
    "# that represents\n",
    "#      (number of dots in a) times (b to the power the number of dots in c)\n",
    "# For instance, ..*-3^..... represents 2 x (-3 ^ 5), so -486.\n",
    "# Note that ** is the Python operator for exponentiation.\n",
    "#\n",
    "# The function returns the (possibly empty) list of all such \"numbers\"\n",
    "# (so there are as many elements in the list as nonempty lines in the file).\n",
    "\n",
    "\n",
    "def frieze(n):\n",
    "        print(\"\\\\  /\"*(n+1))\n",
    "        print(' '+ \"\\\\/\" + \"..\\\\/\"*n)\n",
    "        print(\" ||\" + \"  ||\" * n )\n",
    "        print('/      ' + (n-1) * '    ' + '\\\\')\n",
    "    # REPLACE THE PASS STATEMENT ABOVE WITH YOUR CODE\n",
    "\n",
    "\n",
    "def numbers(filename): \n",
    "    results = []     \n",
    "    with open(filename) as file:\n",
    "        for line in file:\n",
    "            line = line.strip()\n",
    "            if line:\n",
    "                count_1 = 0        \n",
    "                coefficient = '' \n",
    "                sign = 1        \n",
    "                count_2 = 0       \n",
    "                state = 0                 \n",
    "                for char in line:\n",
    "                    if char == '.' and state == 0:\n",
    "                        count_1 += 1\n",
    "                        #print(count_1)\n",
    "                    elif char == '-':\n",
    "                        sign = -1                        \n",
    "                    elif char.isdigit():\n",
    "                        coefficient += char\n",
    "                        #print(coefficient)\n",
    "                        state = 1                        \n",
    "                    elif char == '.' and state == 1:\n",
    "                        count_2 += 1\n",
    "                        #print(count_2)\n",
    "                coefficient = int(coefficient)\n",
    "                num = count_1 * ((sign * coefficient) ** count_2)\n",
    "                results.append(num)\n",
    "    print(results)\n",
    "\n",
    "\n",
    "\n",
    "\n",
    "\n",
    "    # REPLACE THE RETURN STATEMENT ABOVE WITH YOUR CODE\n"
   ]
  },
  {
   "cell_type": "code",
   "execution_count": 111,
   "id": "a0c7db71-2e67-46fb-92ac-104620b825a4",
   "metadata": {},
   "outputs": [
    {
     "name": "stdout",
     "output_type": "stream",
     "text": [
      "\\  /\\  /\n",
      " \\/..\\/\n",
      " ||  ||\n",
      "/      \\\n"
     ]
    }
   ],
   "source": [
    "frieze(1)"
   ]
  },
  {
   "cell_type": "code",
   "execution_count": 112,
   "id": "69dc0b0b-441f-4842-a7a0-72733158cb4e",
   "metadata": {},
   "outputs": [
    {
     "name": "stdout",
     "output_type": "stream",
     "text": [
      "\\  /\\  /\\  /\n",
      " \\/..\\/..\\/\n",
      " ||  ||  ||\n",
      "/          \\\n"
     ]
    }
   ],
   "source": [
    "frieze(2)"
   ]
  },
  {
   "cell_type": "code",
   "execution_count": 113,
   "id": "70a35c86-730f-46dd-85be-183f7df57965",
   "metadata": {},
   "outputs": [
    {
     "name": "stdout",
     "output_type": "stream",
     "text": [
      "[0, 67013784, 196331433061477904121, 1]\n"
     ]
    }
   ],
   "source": [
    "numbers('test_2.txt')"
   ]
  },
  {
   "cell_type": "code",
   "execution_count": 101,
   "id": "564efdf0-15da-4d6f-813f-0343e7edcde0",
   "metadata": {},
   "outputs": [
    {
     "name": "stdout",
     "output_type": "stream",
     "text": [
      "1\n",
      "2\n",
      "3\n",
      "1\n",
      "1\n",
      "2\n",
      "3\n",
      "4\n",
      "[36501, -51, 1465474882624]\n"
     ]
    }
   ],
   "source": [
    "numbers('test_1.txt')"
   ]
  },
  {
   "cell_type": "code",
   "execution_count": 128,
   "id": "d3263271-1514-4617-ae29-d6b60b8bf6fc",
   "metadata": {},
   "outputs": [],
   "source": [
    "def numbers(filename):\n",
    "    result = []\n",
    "    with open(filename) as file:\n",
    "        for line in file:\n",
    "            line = line.strip()\n",
    "            if line:\n",
    "                count_1 = 0\n",
    "                coefficient = ''\n",
    "                sign = 1\n",
    "                count_2 = 0\n",
    "                state = 0\n",
    "                for char in line:\n",
    "                    if char == '.' and state == 0:\n",
    "                        count_1 += 1\n",
    "                    elif char == '-':\n",
    "                        sign = -1\n",
    "                    elif char.isdigit():\n",
    "                        coefficient += char\n",
    "                        state = 1\n",
    "                    elif char == '.' and state == 1:\n",
    "                        count_2 += 1\n",
    "                coefficient = int(coefficient or 1)\n",
    "                num = count_1 * ((sign * coefficient) ** count_2)\n",
    "                result.append(num)\n",
    "    print(result)"
   ]
  },
  {
   "cell_type": "code",
   "execution_count": 129,
   "id": "deb4ffb1-bbe4-4821-9a17-e322b9c96ebc",
   "metadata": {},
   "outputs": [
    {
     "name": "stdout",
     "output_type": "stream",
     "text": [
      "[0, 67013784, 196331433061477904121, 1]\n"
     ]
    }
   ],
   "source": [
    "numbers('test_2.txt')"
   ]
  },
  {
   "cell_type": "code",
   "execution_count": 24,
   "id": "25e907bc-4455-42d2-91ca-cbefd2ec361a",
   "metadata": {},
   "outputs": [
    {
     "name": "stdout",
     "output_type": "stream",
     "text": [
      "[1, 7, 8, 5, 0, 3, 4, 11, 2, 12, 6, 9, 10]\n"
     ]
    }
   ],
   "source": [
    "def f(L):\n",
    "    result = []\n",
    "    a = []\n",
    "    b = []\n",
    "    c = []\n",
    "    i = 0\n",
    "    for n in L:\n",
    "        if n < i:\n",
    "            a.append(n)\n",
    "            i += 1\n",
    "        elif n == i:\n",
    "            b.append(n)\n",
    "            i += 1\n",
    "\n",
    "        elif n > i:\n",
    "            c.append(n)\n",
    "            i += 1\n",
    "        result = a + b + c\n",
    "    return result\n",
    "L = [ 0, 2, 12, 3, 4, 6, 1, 9, 7, 10, 8, 11, 5]\n",
    "print(f(L))"
   ]
  },
  {
   "cell_type": "code",
   "execution_count": 13,
   "id": "1ad899c9",
   "metadata": {},
   "outputs": [
    {
     "name": "stdout",
     "output_type": "stream",
     "text": [
      "[[0, 2, 12, 3, 4, 6, 1, 9, 7, 10, 8, 11, 5], [0, 2, 12, 3, 4, 6, 1, 9, 7, 10, 8, 11, 5], [0, 2, 12, 3, 4, 6, 1, 9, 7, 10, 8, 11, 5], [0, 2, 12, 3, 4, 6, 1, 9, 7, 10, 8, 11, 5], [0, 2, 12, 3, 4, 6, 1, 9, 7, 10, 8, 11, 5], [0, 2, 12, 3, 4, 6, 1, 9, 7, 10, 8, 11, 5], [0, 2, 12, 3, 4, 6, 1, 9, 7, 10, 8, 11, 5], [0, 2, 12, 3, 4, 6, 1, 9, 7, 10, 8, 11, 5], [0, 2, 12, 3, 4, 6, 1, 9, 7, 10, 8, 11, 5], [0, 2, 12, 3, 4, 6, 1, 9, 7, 10, 8, 11, 5], [0, 2, 12, 3, 4, 6, 1, 9, 7, 10, 8, 11, 5], [0, 2, 12, 3, 4, 6, 1, 9, 7, 10, 8, 11, 5], [0, 2, 12, 3, 4, 6, 1, 9, 7, 10, 8, 11, 5]]\n"
     ]
    }
   ],
   "source": [
    "L = [ 0, 2, 12, 3, 4, 6, 1, 9, 7, 10, 8, 11, 5]\n",
    "print(f(L))"
   ]
  },
  {
   "cell_type": "code",
   "execution_count": 30,
   "id": "bd6c1869",
   "metadata": {},
   "outputs": [
    {
     "name": "stdout",
     "output_type": "stream",
     "text": [
      "{1: [0, 8, 9, 10], 2: [0, 2, 6, 7], 3: [0, 4, 5], 4: [0, 3], 5: [0, 1]}\n"
     ]
    }
   ],
   "source": [
    "def g(L):\n",
    "    D = {}\n",
    "    n = 1\n",
    "    \n",
    "    while L:\n",
    "        result = [0]\n",
    "        x=L.pop(0)\n",
    "        result.append(x)\n",
    "        i = 0\n",
    "        while i < len(L):\n",
    "            if L[i] > result[-1]:\n",
    "                result.append(L.pop(i))\n",
    "            else :\n",
    "                i += 1\n",
    "        D [n] = result\n",
    "        n += 1\n",
    "\n",
    "    return D\n",
    "\n",
    "\n",
    "L = [8, 9, 2, 6, 4, 5, 3, 1, 10, 7]\n",
    "print(g(L))\n"
   ]
  },
  {
   "cell_type": "code",
   "execution_count": 28,
   "id": "00b66137",
   "metadata": {},
   "outputs": [
    {
     "name": "stdout",
     "output_type": "stream",
     "text": [
      "{1: [0, 8, 9, 10], 2: [0, 2, 6, 7], 3: [0, 4, 5], 4: [0, 3], 5: [0, 1]}\n"
     ]
    }
   ],
   "source": [
    "def g(L):\n",
    "    D = {}  # 用字典存储结果\n",
    "    n = 1   # 字典的 key，从 1 开始\n",
    "    k = 0   # 记录当前序列的长度\n",
    "\n",
    "    while L:  # 只要 L 不是空列表\n",
    "        seq = [0]  # 每个序列以 0 开头\n",
    "        x = L.pop(0)  # 取出 L 的第一个元素\n",
    "        seq.append(x)  # 添加到当前序列\n",
    "\n",
    "        # 遍历 L，找到比 seq[-1] 更大的数\n",
    "        i = 0  # 重新遍历 L\n",
    "        while i < len(L):\n",
    "            if L[i] > seq[-1]:  # 找到比当前序列最后一个数大的\n",
    "                seq.append(L.pop(i))  # 删除 L[i] 并加入序列\n",
    "            else:\n",
    "                i += 1  # 继续找下一个\n",
    "\n",
    "        D[n] = seq  # 存入字典\n",
    "        n += 1  # 增加 key 计数\n",
    "\n",
    "    return D\n",
    "\n",
    "L = [8, 9, 2, 6, 4, 5, 3, 1, 10, 7]\n",
    "print(g(L))"
   ]
  }
 ],
 "metadata": {
  "kernelspec": {
   "display_name": "base",
   "language": "python",
   "name": "python3"
  },
  "language_info": {
   "codemirror_mode": {
    "name": "ipython",
    "version": 3
   },
   "file_extension": ".py",
   "mimetype": "text/x-python",
   "name": "python",
   "nbconvert_exporter": "python",
   "pygments_lexer": "ipython3",
   "version": "3.12.2"
  }
 },
 "nbformat": 4,
 "nbformat_minor": 5
}

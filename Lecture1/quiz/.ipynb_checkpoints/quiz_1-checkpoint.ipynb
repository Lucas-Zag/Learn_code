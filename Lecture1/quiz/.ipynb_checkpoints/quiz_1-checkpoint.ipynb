{
 "cells": [
  {
   "cell_type": "code",
   "execution_count": 110,
   "id": "d1f1f88b-6315-419f-a4d9-6ed0b08446a7",
   "metadata": {},
   "outputs": [],
   "source": [
    "# Written by *** for COMP9021\n",
    "#\n",
    "# Two functions to implement.\n",
    "#\n",
    "#\n",
    "# The function frieze() takes an integers as argument,\n",
    "# that you can assume is at least equal to 1;\n",
    "# it prints out a \"frieze\", that note has no trailing\n",
    "# spaces on any line.\n",
    "#\n",
    "#\n",
    "# The function numbers() takes a string as argument,\n",
    "# that you can assume is the name of a file that exists\n",
    "# in the working directory.\n",
    "#\n",
    "# The file can contain anywhere any number of blank lines\n",
    "# (that is, lines containing an arbitrary number of spaces\n",
    "# and tabs--an empty line being the limiting case).\n",
    "#\n",
    "# Nonblank lines are always of the form:\n",
    "# axb^c\n",
    "# where a is a nonempty sequence of dots, b is an integer\n",
    "# and c is a nonempty sequence of dots,\n",
    "# with no space anywhere on the line,\n",
    "# that represents\n",
    "#      (number of dots in a) times (b to the power the number of dots in c)\n",
    "# For instance, ..*-3^..... represents 2 x (-3 ^ 5), so -486.\n",
    "# Note that ** is the Python operator for exponentiation.\n",
    "#\n",
    "# The function returns the (possibly empty) list of all such \"numbers\"\n",
    "# (so there are as many elements in the list as nonempty lines in the file).\n",
    "\n",
    "\n",
    "def frieze(n):\n",
    "        print(\"\\\\  /\"*(n+1))\n",
    "        print(' '+ \"\\\\/\" + \"..\\\\/\"*n)\n",
    "        print(\" ||\" + \"  ||\" * n )\n",
    "        print('/      ' + (n-1) * '    ' + '\\\\')\n",
    "    # REPLACE THE PASS STATEMENT ABOVE WITH YOUR CODE\n",
    "\n",
    "\n",
    "def numbers(filename): \n",
    "    results = []     \n",
    "    with open(filename) as file:\n",
    "        for line in file:\n",
    "            line = line.strip()\n",
    "            if line:\n",
    "                count_1 = 0        \n",
    "                coefficient = '' \n",
    "                sign = 1        \n",
    "                count_2 = 0       \n",
    "                state = 0                 \n",
    "                for char in line:\n",
    "                    if char == '.' and state == 0:\n",
    "                        count_1 += 1\n",
    "                        #print(count_1)\n",
    "                    elif char == '-':\n",
    "                        sign = -1                        \n",
    "                    elif char.isdigit():\n",
    "                        coefficient += char\n",
    "                        #print(coefficient)\n",
    "                        state = 1                        \n",
    "                    elif char == '.' and state == 1:\n",
    "                        count_2 += 1\n",
    "                        #print(count_2)\n",
    "                coefficient = int(coefficient)\n",
    "                num = count_1 * ((sign * coefficient) ** count_2)\n",
    "                results.append(num)\n",
    "    print(results)\n",
    "\n",
    "\n",
    "\n",
    "\n",
    "\n",
    "    # REPLACE THE RETURN STATEMENT ABOVE WITH YOUR CODE\n"
   ]
  },
  {
   "cell_type": "code",
   "execution_count": 111,
   "id": "a0c7db71-2e67-46fb-92ac-104620b825a4",
   "metadata": {},
   "outputs": [
    {
     "name": "stdout",
     "output_type": "stream",
     "text": [
      "\\  /\\  /\n",
      " \\/..\\/\n",
      " ||  ||\n",
      "/      \\\n"
     ]
    }
   ],
   "source": [
    "frieze(1)"
   ]
  },
  {
   "cell_type": "code",
   "execution_count": 112,
   "id": "69dc0b0b-441f-4842-a7a0-72733158cb4e",
   "metadata": {},
   "outputs": [
    {
     "name": "stdout",
     "output_type": "stream",
     "text": [
      "\\  /\\  /\\  /\n",
      " \\/..\\/..\\/\n",
      " ||  ||  ||\n",
      "/          \\\n"
     ]
    }
   ],
   "source": [
    "frieze(2)"
   ]
  },
  {
   "cell_type": "code",
   "execution_count": 113,
   "id": "70a35c86-730f-46dd-85be-183f7df57965",
   "metadata": {},
   "outputs": [
    {
     "name": "stdout",
     "output_type": "stream",
     "text": [
      "[0, 67013784, 196331433061477904121, 1]\n"
     ]
    }
   ],
   "source": [
    "numbers('test_2.txt')"
   ]
  },
  {
   "cell_type": "code",
   "execution_count": 101,
   "id": "564efdf0-15da-4d6f-813f-0343e7edcde0",
   "metadata": {},
   "outputs": [
    {
     "name": "stdout",
     "output_type": "stream",
     "text": [
      "1\n",
      "2\n",
      "3\n",
      "1\n",
      "1\n",
      "2\n",
      "3\n",
      "4\n",
      "[36501, -51, 1465474882624]\n"
     ]
    }
   ],
   "source": [
    "numbers('test_1.txt')"
   ]
  },
  {
   "cell_type": "code",
   "execution_count": 128,
   "id": "d3263271-1514-4617-ae29-d6b60b8bf6fc",
   "metadata": {},
   "outputs": [],
   "source": [
    "def numbers(filename):\n",
    "    result = []\n",
    "    with open(filename) as file:\n",
    "        for line in file:\n",
    "            line = line.strip()\n",
    "            if line:\n",
    "                count_1 = 0\n",
    "                coefficient = ''\n",
    "                sign = 1\n",
    "                count_2 = 0\n",
    "                state = 0\n",
    "                for char in line:\n",
    "                    if char == '.' and state == 0:\n",
    "                        count_1 += 1\n",
    "                    elif char == '-':\n",
    "                        sign = -1\n",
    "                    elif char.isdigit():\n",
    "                        coefficient += char\n",
    "                        state = 1\n",
    "                    elif char == '.' and state == 1:\n",
    "                        count_2 += 1\n",
    "                coefficient = int(coefficient or 1)\n",
    "                num = count_1 * ((sign * coefficient) ** count_2)\n",
    "                result.append(num)\n",
    "    print(result)"
   ]
  },
  {
   "cell_type": "code",
   "execution_count": 129,
   "id": "deb4ffb1-bbe4-4821-9a17-e322b9c96ebc",
   "metadata": {},
   "outputs": [
    {
     "name": "stdout",
     "output_type": "stream",
     "text": [
      "[0, 67013784, 196331433061477904121, 1]\n"
     ]
    }
   ],
   "source": [
    "numbers('test_2.txt')"
   ]
  },
  {
   "cell_type": "code",
   "execution_count": null,
   "id": "25e907bc-4455-42d2-91ca-cbefd2ec361a",
   "metadata": {},
   "outputs": [],
   "source": []
  }
 ],
 "metadata": {
  "kernelspec": {
   "display_name": "Python 3 (d2l-env)",
   "language": "python",
   "name": "d2l-env"
  },
  "language_info": {
   "codemirror_mode": {
    "name": "ipython",
    "version": 3
   },
   "file_extension": ".py",
   "mimetype": "text/x-python",
   "name": "python",
   "nbconvert_exporter": "python",
   "pygments_lexer": "ipython3",
   "version": "3.11.8"
  }
 },
 "nbformat": 4,
 "nbformat_minor": 5
}

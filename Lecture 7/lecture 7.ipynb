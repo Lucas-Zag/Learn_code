{
 "cells": [
  {
   "cell_type": "code",
   "execution_count": 1,
   "id": "499e55ae-aa00-4b16-8bd6-93eb9a21c29c",
   "metadata": {},
   "outputs": [],
   "source": [
    "L = [10, 21, 32, 43, 54]"
   ]
  },
  {
   "cell_type": "code",
   "execution_count": 2,
   "id": "4e453d1a-8eba-4e00-a3f3-0041422ebc2b",
   "metadata": {},
   "outputs": [
    {
     "data": {
      "text/plain": [
       "[10, 21, 32, 43]"
      ]
     },
     "execution_count": 2,
     "metadata": {},
     "output_type": "execute_result"
    }
   ],
   "source": [
    "L[:-1]"
   ]
  },
  {
   "cell_type": "code",
   "execution_count": 4,
   "id": "0e2c1037-a777-48f3-8003-e59133d19f75",
   "metadata": {},
   "outputs": [
    {
     "data": {
      "text/plain": [
       "160"
      ]
     },
     "execution_count": 4,
     "metadata": {},
     "output_type": "execute_result"
    }
   ],
   "source": [
    "z = sum(L[:-1]) + L[-1]\n",
    "z"
   ]
  },
  {
   "cell_type": "code",
   "execution_count": null,
   "id": "32e71c64-d390-4d89-a944-45d11bad3f7a",
   "metadata": {},
   "outputs": [],
   "source": []
  }
 ],
 "metadata": {
  "kernelspec": {
   "display_name": "Python 3 (ipykernel)",
   "language": "python",
   "name": "python3"
  },
  "language_info": {
   "codemirror_mode": {
    "name": "ipython",
    "version": 3
   },
   "file_extension": ".py",
   "mimetype": "text/x-python",
   "name": "python",
   "nbconvert_exporter": "python",
   "pygments_lexer": "ipython3",
   "version": "3.11.8"
  }
 },
 "nbformat": 4,
 "nbformat_minor": 5
}

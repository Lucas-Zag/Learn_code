{
 "cells": [
  {
   "cell_type": "code",
   "execution_count": 23,
   "id": "3c442230-8fee-4d3c-87ca-39ea993ab096",
   "metadata": {},
   "outputs": [],
   "source": [
    "(a,b,c,d,e)='del1 1 del2 0 RR\\n'.split()"
   ]
  },
  {
   "cell_type": "code",
   "execution_count": 24,
   "id": "a469da3a-68d3-4fc1-8933-f91b5c5d43a7",
   "metadata": {},
   "outputs": [
    {
     "data": {
      "text/plain": [
       "'del1'"
      ]
     },
     "execution_count": 24,
     "metadata": {},
     "output_type": "execute_result"
    }
   ],
   "source": [
    "a"
   ]
  },
  {
   "cell_type": "code",
   "execution_count": 25,
   "id": "08572091-f787-4341-a8a8-6201689ee54e",
   "metadata": {},
   "outputs": [
    {
     "data": {
      "text/plain": [
       "'del1'"
      ]
     },
     "execution_count": 25,
     "metadata": {},
     "output_type": "execute_result"
    }
   ],
   "source": [
    "a"
   ]
  },
  {
   "cell_type": "code",
   "execution_count": 26,
   "id": "a62c0018-b8f2-4d79-9a8c-6635c85a05c1",
   "metadata": {},
   "outputs": [
    {
     "data": {
      "text/plain": [
       "'1'"
      ]
     },
     "execution_count": 26,
     "metadata": {},
     "output_type": "execute_result"
    }
   ],
   "source": [
    "a\n",
    "b"
   ]
  },
  {
   "cell_type": "code",
   "execution_count": 27,
   "id": "0999e921-50df-40d6-a0ac-2138a7b2377a",
   "metadata": {},
   "outputs": [
    {
     "name": "stdout",
     "output_type": "stream",
     "text": [
      "# Initial state: del1\n",
      "\n",
      "\n",
      "\n",
      "del1 1 del2 0 R\n",
      "\n",
      "del2 1 moV1R 0 R\n",
      "\n",
      "mov1R 1 moV1R 1 R\n",
      "\n",
      "mov1R 0 mov2R 0 R\n",
      "\n",
      "mov2R 1 mov2R 1 R\n",
      "\n",
      "mov2R 8 mov1L 1 L\n",
      "\n",
      "mov1L 1 mov1L 1 L\n",
      "\n",
      "mov1L 8 mov2L 8 L\n",
      "\n",
      "mov2L 1 mov2L 1 L\n",
      "\n",
      "mov2L 8 del1 0 R\n",
      "\n",
      "del1 0 end 0 R\n",
      "\n",
      "del2 0 end 0 R\n",
      "\n"
     ]
    }
   ],
   "source": [
    "with open('division_by_2.txt') as file:\n",
    "    for line in file:\n",
    "        print(line)"
   ]
  },
  {
   "cell_type": "code",
   "execution_count": 28,
   "id": "dcac372a-288d-47c2-935c-41c12ef51aa0",
   "metadata": {},
   "outputs": [
    {
     "name": "stdout",
     "output_type": "stream",
     "text": [
      "# Initial state: del1\n",
      "\n",
      "del1 1 del2 0 R\n",
      "del2 1 moV1R 0 R\n",
      "mov1R 1 moV1R 1 R\n",
      "mov1R 0 mov2R 0 R\n",
      "mov2R 1 mov2R 1 R\n",
      "mov2R 8 mov1L 1 L\n",
      "mov1L 1 mov1L 1 L\n",
      "mov1L 8 mov2L 8 L\n",
      "mov2L 1 mov2L 1 L\n",
      "mov2L 8 del1 0 R\n",
      "del1 0 end 0 R\n",
      "del2 0 end 0 R\n"
     ]
    }
   ],
   "source": [
    "with open('division_by_2.txt') as file:\n",
    "    for line in file:\n",
    "        print(line, end='')"
   ]
  },
  {
   "cell_type": "code",
   "execution_count": 29,
   "id": "17734cad-2605-43f8-8abd-4d15b482b46d",
   "metadata": {},
   "outputs": [
    {
     "name": "stdout",
     "output_type": "stream",
     "text": [
      "\n",
      "del1 1 del2 0 R\n",
      "del2 1 moV1R 0 R\n",
      "mov1R 1 moV1R 1 R\n",
      "mov1R 0 mov2R 0 R\n",
      "mov2R 1 mov2R 1 R\n",
      "mov2R 8 mov1L 1 L\n",
      "mov1L 1 mov1L 1 L\n",
      "mov1L 8 mov2L 8 L\n",
      "mov2L 1 mov2L 1 L\n",
      "mov2L 8 del1 0 R\n",
      "del1 0 end 0 R\n",
      "del2 0 end 0 R\n"
     ]
    }
   ],
   "source": [
    "with open('division_by_2.txt') as file:\n",
    "    for line in file:\n",
    "        if not line.startswith('#'):\n",
    "            print(line, end='')"
   ]
  },
  {
   "cell_type": "code",
   "execution_count": 30,
   "id": "ad4032bc-f6a0-4489-876f-0ae18b2ee6c0",
   "metadata": {},
   "outputs": [
    {
     "name": "stdout",
     "output_type": "stream",
     "text": [
      "del1 1 del2 0 R\n",
      "del2 1 moV1R 0 R\n",
      "mov1R 1 moV1R 1 R\n",
      "mov1R 0 mov2R 0 R\n",
      "mov2R 1 mov2R 1 R\n",
      "mov2R 8 mov1L 1 L\n",
      "mov1L 1 mov1L 1 L\n",
      "mov1L 8 mov2L 8 L\n",
      "mov2L 1 mov2L 1 L\n",
      "mov2L 8 del1 0 R\n",
      "del1 0 end 0 R\n",
      "del2 0 end 0 R\n"
     ]
    }
   ],
   "source": [
    "with open('division_by_2.txt') as file:\n",
    "    for line in file:\n",
    "        if not line.startswith('#') and not line.isspace():\n",
    "            print(line, end='')"
   ]
  },
  {
   "cell_type": "code",
   "execution_count": 31,
   "id": "ce6c5a1a-42bb-4702-866f-dc5e68e5531d",
   "metadata": {},
   "outputs": [
    {
     "name": "stdout",
     "output_type": "stream",
     "text": [
      "# Initial state: del1\n",
      "\n",
      "del1 1 del2 0 R\n",
      "del2 1 moV1R 0 R\n",
      "mov1R 1 moV1R 1 R\n",
      "mov1R 0 mov2R 0 R\n",
      "mov2R 1 mov2R 1 R\n",
      "mov2R 8 mov1L 1 L\n",
      "mov1L 1 mov1L 1 L\n",
      "mov1L 8 mov2L 8 L\n",
      "mov2L 1 mov2L 1 L\n",
      "mov2L 8 del1 0 R\n",
      "del1 0 end 0 R\n",
      "del2 0 end 0 R\n"
     ]
    }
   ],
   "source": [
    "with open('division_by_2.txt') as file:\n",
    "    for line in file:\n",
    "        if line.startswith('#') and line.isspace():\n",
    "            continue\n",
    "        print(line, end='')"
   ]
  },
  {
   "cell_type": "code",
   "execution_count": 32,
   "id": "3de495c9-30ee-4860-bcef-22e1c6524720",
   "metadata": {},
   "outputs": [
    {
     "name": "stdout",
     "output_type": "stream",
     "text": [
      "['mov2L', '8', 'del1', '0', 'R']\n"
     ]
    }
   ],
   "source": [
    "a = \"mov2L 8 del1 0 R\"  # 正确：作为字符串\n",
    "l = a.split()\n",
    "print(l)\n"
   ]
  },
  {
   "cell_type": "code",
   "execution_count": 33,
   "id": "5da4b9a3-456f-4882-abd9-cb6330e33840",
   "metadata": {},
   "outputs": [],
   "source": [
    "(a,b,c,d,e)='mov2L 8 del1 0 R\\n'.split()"
   ]
  },
  {
   "cell_type": "code",
   "execution_count": 34,
   "id": "a489a5cf-5ec1-4bb0-86b7-efdd7abcb828",
   "metadata": {},
   "outputs": [
    {
     "name": "stdout",
     "output_type": "stream",
     "text": [
      " 13 6 3 1\n",
      " 12 6 3 1\n",
      " 11 5 2 1\n",
      " 10 5 2 1\n",
      " 9 4 2 1\n",
      " 8 4 2 1\n",
      " 7 3 1\n",
      " 6 3 1\n",
      " 5 2 1\n",
      " 4 2 1\n",
      " 3 1\n",
      " 2 1\n",
      " 1\n"
     ]
    }
   ],
   "source": [
    "def f1(n):\n",
    "    \n",
    "    k = int(n)\n",
    "    for j in range(n, 0, -1):\n",
    "        k = j\n",
    "        line =[' '+str(j)]\n",
    "        z=''\n",
    "        while k > 1:\n",
    "            k = k // 2\n",
    "            line.append(' ' + str(k))\n",
    "        \n",
    "        z = ''.join(i for i in line)\n",
    "        print(z)\n",
    "f1(13)"
   ]
  },
  {
   "cell_type": "code",
   "execution_count": 62,
   "id": "3d677c49-0c59-4ebb-99db-23b7615afd7b",
   "metadata": {},
   "outputs": [
    {
     "name": "stdout",
     "output_type": "stream",
     "text": [
      " 20 10 5 2 1\n",
      " 19  9 4 2 1\n",
      " 18  9 4 2 1\n",
      " 17  8 4 2 1\n",
      " 16  8 4 2 1\n",
      " 15  7 3 1\n",
      " 14  7 3 1\n",
      " 13  6 3 1\n",
      " 12  6 3 1\n",
      " 11  5 2 1\n",
      " 10  5 2 1\n",
      "  9  4 2 1\n",
      "  8  4 2 1\n",
      "  7  3 1\n",
      "  6  3 1\n",
      "  5  2 1\n",
      "  4  2 1\n",
      "  3  1\n",
      "  2  1\n",
      "  1\n"
     ]
    }
   ],
   "source": [
    "def f1(n):\n",
    "    k = int(n)\n",
    "    station = 0\n",
    "    width_n = []\n",
    "    for j in range(n, 0 ,-1):\n",
    "        line = []\n",
    "        k = j\n",
    "        out_put = ''\n",
    "        width_o = len(str(n))\n",
    "        \n",
    "        line = [' '+f\"{k:>{width_o}}\"]\n",
    "        v = 0\n",
    "        while k >1:\n",
    "           \n",
    "            if station == 0 :\n",
    "                k = k // 2\n",
    "                width_1 = len(str(k))\n",
    "                width_n.append(width_1)\n",
    "                line.append(' '+f\"{k:>{width_1}}\")\n",
    "                \n",
    "            else:\n",
    "                k = k // 2\n",
    "                line.append(' '+f\"{k:>{width_n[v]}}\")\n",
    "                v += 1\n",
    "        station += 1\n",
    "        \n",
    "        out_put = ''.join(i for i in line)\n",
    "        print(out_put)\n",
    "f1(20)\n",
    "            "
   ]
  },
  {
   "cell_type": "code",
   "execution_count": 36,
   "id": "a503e071-6663-4951-a5f3-8644bba554ed",
   "metadata": {},
   "outputs": [
    {
     "data": {
      "text/plain": [
       "['mov2L', '8']"
      ]
     },
     "execution_count": 36,
     "metadata": {},
     "output_type": "execute_result"
    }
   ],
   "source": [
    "[a,b]"
   ]
  },
  {
   "cell_type": "code",
   "execution_count": 37,
   "id": "f50e007a-91f8-43bc-9879-c43aa3cd355d",
   "metadata": {},
   "outputs": [
    {
     "name": "stdout",
     "output_type": "stream",
     "text": [
      "# Initial state: del1\n",
      "\n",
      "del1 1 del2 0 R\n",
      "del2 1 moV1R 0 R\n",
      "mov1R 1 moV1R 1 R\n",
      "mov1R 0 mov2R 0 R\n",
      "mov2R 1 mov2R 1 R\n",
      "mov2R 8 mov1L 1 L\n",
      "mov1L 1 mov1L 1 L\n",
      "mov1L 8 mov2L 8 L\n",
      "mov2L 1 mov2L 1 L\n",
      "mov2L 8 del1 0 R\n",
      "del1 0 end 0 R\n",
      "del2 0 end 0 R\n"
     ]
    }
   ],
   "source": [
    "with open('division_by_2.txt') as file:\n",
    "    for line in file:\n",
    "        if line.startswith('#') and line.isspace():\n",
    "            continue\n",
    "        print(line, end='')"
   ]
  },
  {
   "cell_type": "code",
   "execution_count": 38,
   "id": "2d2bce55-9ad9-4bb1-873b-600dfa5ae6cd",
   "metadata": {},
   "outputs": [
    {
     "name": "stdout",
     "output_type": "stream",
     "text": [
      "['#', 'Initial', 'state:', 'del1'][]['del1', '1', 'del2', '0', 'R']['del2', '1', 'moV1R', '0', 'R']['mov1R', '1', 'moV1R', '1', 'R']['mov1R', '0', 'mov2R', '0', 'R']['mov2R', '1', 'mov2R', '1', 'R']['mov2R', '8', 'mov1L', '1', 'L']['mov1L', '1', 'mov1L', '1', 'L']['mov1L', '8', 'mov2L', '8', 'L']['mov2L', '1', 'mov2L', '1', 'L']['mov2L', '8', 'del1', '0', 'R']['del1', '0', 'end', '0', 'R']['del2', '0', 'end', '0', 'R']"
     ]
    }
   ],
   "source": [
    "with open('division_by_2.txt') as file:\n",
    "    for line in file:\n",
    "        if line.startswith('#') and line.isspace():\n",
    "            continue\n",
    "        print(line.split(), end='')"
   ]
  },
  {
   "cell_type": "code",
   "execution_count": 39,
   "id": "2a8ecaf2-7e50-4e5e-b48d-fd876d2e8fa1",
   "metadata": {},
   "outputs": [],
   "source": [
    "with open('division_by_2.txt') as file:\n",
    "    for line in file:\n",
    "        if line.startswith('#') and line.isspace():\n",
    "            continue\n",
    "        line.split()"
   ]
  },
  {
   "cell_type": "code",
   "execution_count": 40,
   "id": "cf024b9a-690b-4519-91ae-e092345c3077",
   "metadata": {},
   "outputs": [],
   "source": [
    "D ={('del1', 1):['del2', 0 ,'R']}"
   ]
  },
  {
   "cell_type": "code",
   "execution_count": 41,
   "id": "2d7f92f1-575a-449d-b4cc-0b29a0443196",
   "metadata": {},
   "outputs": [
    {
     "data": {
      "text/plain": [
       "['del2', 0, 'R']"
      ]
     },
     "execution_count": 41,
     "metadata": {},
     "output_type": "execute_result"
    }
   ],
   "source": [
    "D[('del1', 1)]"
   ]
  },
  {
   "cell_type": "code",
   "execution_count": 42,
   "id": "79233d78-d533-48d8-a4e4-85d12f43f900",
   "metadata": {},
   "outputs": [
    {
     "data": {
      "text/plain": [
       "(1, 2, 3)"
      ]
     },
     "execution_count": 42,
     "metadata": {},
     "output_type": "execute_result"
    }
   ],
   "source": [
    "1,2,3"
   ]
  },
  {
   "cell_type": "code",
   "execution_count": 43,
   "id": "805b0d48-ca1a-448a-80f4-d47693ba38da",
   "metadata": {},
   "outputs": [
    {
     "data": {
      "text/plain": [
       "{('del1', 1): ('del2', 0, 'R'),\n",
       " ('del2', 1): ('moV1R', 0, 'R'),\n",
       " ('mov1R', 1): ('moV1R', 1, 'R'),\n",
       " ('mov1R', 0): ('mov2R', 0, 'R'),\n",
       " ('mov2R', 1): ('mov2R', 1, 'R'),\n",
       " ('mov2R', 8): ('mov1L', 1, 'L'),\n",
       " ('mov1L', 1): ('mov1L', 1, 'L'),\n",
       " ('mov1L', 8): ('mov2L', 8, 'L'),\n",
       " ('mov2L', 1): ('mov2L', 1, 'L'),\n",
       " ('mov2L', 8): ('del1', 0, 'R'),\n",
       " ('del1', 0): ('end', 0, 'R'),\n",
       " ('del2', 0): ('end', 0, 'R')}"
      ]
     },
     "execution_count": 43,
     "metadata": {},
     "output_type": "execute_result"
    }
   ],
   "source": [
    "TM_program = {}\n",
    "with open('division_by_2.txt') as file:\n",
    "    for line in file:\n",
    "        if line.startswith('#') or line.isspace():\n",
    "            continue\n",
    "        instructhions =line.split()\n",
    "        TM_program[instructhions[0], int(instructhions[1])]  =\\\n",
    "            instructhions[2], int(instructhions[3]), instructhions[4]\n",
    "TM_program"
   ]
  },
  {
   "cell_type": "code",
   "execution_count": 44,
   "id": "0de382f2-1d3d-42f9-a021-38e24840f880",
   "metadata": {},
   "outputs": [
    {
     "data": {
      "text/plain": [
       "{('del1', 1): ('del2', 0, 'R'),\n",
       " ('del2', 1): ('moV1R', 0, 'R'),\n",
       " ('mov1R', 1): ('moV1R', 1, 'R'),\n",
       " ('mov1R', 0): ('mov2R', 0, 'R'),\n",
       " ('mov2R', 1): ('mov2R', 1, 'R'),\n",
       " ('mov2R', 8): ('mov1L', 1, 'L'),\n",
       " ('mov1L', 1): ('mov1L', 1, 'L'),\n",
       " ('mov1L', 8): ('mov2L', 8, 'L'),\n",
       " ('mov2L', 1): ('mov2L', 1, 'L'),\n",
       " ('mov2L', 8): ('del1', 0, 'R'),\n",
       " ('del1', 0): ('end', 0, 'R'),\n",
       " ('del2', 0): ('end', 0, 'R')}"
      ]
     },
     "execution_count": 44,
     "metadata": {},
     "output_type": "execute_result"
    }
   ],
   "source": [
    "TM_program = {}\n",
    "with open('division_by_2.txt') as file:\n",
    "    for line in file:\n",
    "        if line.startswith('#') or line.isspace():\n",
    "            continue\n",
    "        cort_state, cort_data, next_state, next_data, dictionary =\\\n",
    "                            line.split()\n",
    "        TM_program[cort_state, int(cort_data)]  =\\\n",
    "            next_state, int(next_data), dictionary\n",
    "TM_program"
   ]
  },
  {
   "cell_type": "code",
   "execution_count": 45,
   "id": "e5a8a9de-c29b-4c2c-b644-823bf1b0a260",
   "metadata": {},
   "outputs": [
    {
     "ename": "NameError",
     "evalue": "name 'tape' is not defined",
     "output_type": "error",
     "traceback": [
      "\u001b[0;31m---------------------------------------------------------------------------\u001b[0m",
      "\u001b[0;31mNameError\u001b[0m                                 Traceback (most recent call last)",
      "Cell \u001b[0;32mIn[45], line 2\u001b[0m\n\u001b[1;32m      1\u001b[0m cort_state \u001b[38;5;241m=\u001b[39m \u001b[38;5;124m'\u001b[39m\u001b[38;5;124mdel1\u001b[39m\u001b[38;5;124m'\u001b[39m\n\u001b[0;32m----> 2\u001b[0m tape\n",
      "\u001b[0;31mNameError\u001b[0m: name 'tape' is not defined"
     ]
    }
   ],
   "source": [
    "cort_state = 'del1'\n",
    "tape"
   ]
  },
  {
   "cell_type": "code",
   "execution_count": null,
   "id": "f080684f-3d3c-45bb-8802-d856f7f8ee4f",
   "metadata": {},
   "outputs": [],
   "source": [
    " "
   ]
  }
 ],
 "metadata": {
  "kernelspec": {
   "display_name": "base",
   "language": "python",
   "name": "python3"
  },
  "language_info": {
   "codemirror_mode": {
    "name": "ipython",
    "version": 3
   },
   "file_extension": ".py",
   "mimetype": "text/x-python",
   "name": "python",
   "nbconvert_exporter": "python",
   "pygments_lexer": "ipython3",
   "version": "3.12.2"
  }
 },
 "nbformat": 4,
 "nbformat_minor": 5
}

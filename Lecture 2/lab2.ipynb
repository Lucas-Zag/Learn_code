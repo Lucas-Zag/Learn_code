{
 "cells": [
  {
   "cell_type": "code",
   "execution_count": 9,
   "id": "fc5417ae-15b4-489c-9c29-22f565f616bc",
   "metadata": {},
   "outputs": [
    {
     "name": "stdin",
     "output_type": "stream",
     "text": [
      "Enter a floating point number between -1 and 1 excluded: 0\n"
     ]
    },
    {
     "name": "stdout",
     "output_type": "stream",
     "text": [
      "You got that wrong, try again!\n",
      "\n"
     ]
    },
    {
     "name": "stdin",
     "output_type": "stream",
     "text": [
      "Enter a floating point number between -1 and 1 excluded: 1.\n"
     ]
    },
    {
     "name": "stdout",
     "output_type": "stream",
     "text": [
      "You got that wrong, try again!\n",
      "\n"
     ]
    },
    {
     "name": "stdin",
     "output_type": "stream",
     "text": [
      "Enter a floating point number between -1 and 1 excluded: 0.0034\n"
     ]
    },
    {
     "name": "stdout",
     "output_type": "stream",
     "text": [
      "\n",
      "Up to +/-0.005, you input 0.00\n"
     ]
    }
   ],
   "source": [
    "while True:\n",
    "    try:\n",
    "        i=input('Enter a floating point number between -1 and 1 excluded:')\n",
    "        number = float(i)\n",
    "        if '.' not in i:\n",
    "            raise ValueError\n",
    "        \n",
    "\n",
    "        if -1< number < 1:\n",
    "            print(f'\\nUp to +/-0.005, you input {number:.2f}')\n",
    "        else:\n",
    "            raise ValueError\n",
    "        break\n",
    "    except ValueError:\n",
    "        print('You got that wrong, try again!\\n')"
   ]
  },
  {
   "cell_type": "code",
   "execution_count": 14,
   "id": "9628e939-9eda-40a0-98b5-6a3df8ea21fc",
   "metadata": {},
   "outputs": [
    {
     "name": "stdin",
     "output_type": "stream",
     "text": [
      "Enter a floating point number between -1 and 1 excluded: 0\n"
     ]
    },
    {
     "name": "stdout",
     "output_type": "stream",
     "text": [
      "You got that wrong, try again!\n",
      "\n"
     ]
    },
    {
     "name": "stdin",
     "output_type": "stream",
     "text": [
      "Enter a floating point number between -1 and 1 excluded: 0.5555555\n"
     ]
    },
    {
     "name": "stdout",
     "output_type": "stream",
     "text": [
      "\n",
      "Up to +/-0.005, your input : 0.55556\n"
     ]
    }
   ],
   "source": [
    "while True:\n",
    "    try:\n",
    "        i= input('Enter a floating point number between -1 and 1 excluded:')\n",
    "        number = float(i)\n",
    "\n",
    "        if '.' not in i:\n",
    "            #raise E\n",
    "            raise ValueError\n",
    "        if -1< number <1:\n",
    "            print(f'\\nUp to +/-0.005, your input : {number:.5f}')\n",
    "        else: \n",
    "            raise ValueError\n",
    "            #raise E\n",
    "        break\n",
    "    except ValueError:\n",
    "        print('You got that wrong, try again!\\n')"
   ]
  },
  {
   "cell_type": "code",
   "execution_count": 15,
   "id": "a55a1258-dd47-4b05-a5ef-8d1d0a2f9da5",
   "metadata": {},
   "outputs": [],
   "source": [
    "import re\n",
    "\n",
    "\n",
    "def f2(text):\n",
    "    text = re.sub(r'\\s+', ' ', text.strip())\n",
    "    sentences = re.split(r'([.!?])', text)\n",
    "    new_text = []\n",
    "    i = 0\n",
    "    while i < len(sentences) - 1:\n",
    "        sentence = sentences[i].strip()\n",
    "        if sentence:\n",
    "            sentence = ' '.join(sentence.capitalize().split())\n",
    "            new_text.append(sentence +sentences[i+1])\n",
    "        i += 2\n",
    "    return ' '.join(new_text)\n",
    "\n",
    "\n",
    "\n",
    "    \n",
    "    "
   ]
  },
  {
   "cell_type": "code",
   "execution_count": 16,
   "id": "bc060e7f-991c-4326-9728-69064f5f50e8",
   "metadata": {},
   "outputs": [
    {
     "name": "stdout",
     "output_type": "stream",
     "text": [
      "Now we have two sentences Here is the second one\n"
     ]
    }
   ],
   "source": [
    "text = 'Now we have two sentences! Here is the second one.'\n",
    "print(f2(text))"
   ]
  },
  {
   "cell_type": "code",
   "execution_count": 17,
   "id": "75eeb78a-4e9d-42f8-829a-65f2c026c367",
   "metadata": {},
   "outputs": [],
   "source": [
    "def f2(text):\n",
    "    text = re.sub(r'\\s+', ' ', text.strip())\n",
    "    sentences = re.split(r'([.!?])', text)\n",
    "    new_text = []\n",
    "    i = 0\n",
    "    while i < len(sentences)-1:\n",
    "        sentence = sentences[i].strip()\n",
    "        if sentence:\n",
    "            sentence =' '.join(sentence.capitalize().split())\n",
    "            # Rebuild the sentence and add back the punctuation\n",
    "            new_text.append(sentence +sentences[i +1])\n",
    "        i += 2\n",
    "    return ' '.join(new_text)"
   ]
  },
  {
   "cell_type": "code",
   "execution_count": 18,
   "id": "cf247e58-24ea-4786-88e3-762ec6211358",
   "metadata": {},
   "outputs": [
    {
     "name": "stdout",
     "output_type": "stream",
     "text": [
      "Now we have two sentences! Here is the second one.\n"
     ]
    }
   ],
   "source": [
    "text = 'Now we have two sentences! Here is the second one.'\n",
    "print(f2(text))"
   ]
  },
  {
   "cell_type": "code",
   "execution_count": null,
   "id": "5dfb8b09-1de8-4656-a320-040a6e57bfc5",
   "metadata": {},
   "outputs": [],
   "source": []
  }
 ],
 "metadata": {
  "kernelspec": {
   "display_name": "Python 3 (d2l-env)",
   "language": "python",
   "name": "d2l-env"
  },
  "language_info": {
   "codemirror_mode": {
    "name": "ipython",
    "version": 3
   },
   "file_extension": ".py",
   "mimetype": "text/x-python",
   "name": "python",
   "nbconvert_exporter": "python",
   "pygments_lexer": "ipython3",
   "version": "3.11.8"
  }
 },
 "nbformat": 4,
 "nbformat_minor": 5
}

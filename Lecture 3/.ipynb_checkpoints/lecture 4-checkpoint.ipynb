{
 "cells": [
  {
   "cell_type": "code",
   "execution_count": 1,
   "id": "d893606e-7f4c-4e9b-9ff3-7109e5bd8c99",
   "metadata": {},
   "outputs": [],
   "source": [
    "from random import randrange"
   ]
  },
  {
   "cell_type": "code",
   "execution_count": 2,
   "id": "67a2ee0d-7e69-43c1-8fa6-57dbbdad6163",
   "metadata": {},
   "outputs": [],
   "source": [
    "L = [randrange(-100,101)]"
   ]
  },
  {
   "cell_type": "code",
   "execution_count": null,
   "id": "30abc5ac-0e1b-40ee-85a8-5739515aed03",
   "metadata": {},
   "outputs": [],
   "source": []
  },
  {
   "cell_type": "code",
   "execution_count": 3,
   "id": "eb233760-33df-4d31-b832-bb8e2b677c0a",
   "metadata": {},
   "outputs": [
    {
     "data": {
      "text/plain": [
       "[23]"
      ]
     },
     "execution_count": 3,
     "metadata": {},
     "output_type": "execute_result"
    }
   ],
   "source": [
    "sorted(L)"
   ]
  },
  {
   "cell_type": "code",
   "execution_count": 4,
   "id": "3ff6e124-cda0-44d8-90e9-ed8d05a689ed",
   "metadata": {},
   "outputs": [],
   "source": [
    "S = set(L)\n"
   ]
  },
  {
   "cell_type": "code",
   "execution_count": 5,
   "id": "21954109-0e54-4a12-ae4f-5bbbe140f640",
   "metadata": {},
   "outputs": [
    {
     "data": {
      "text/plain": [
       "['a', 'a', 'a', 'a', 'd', 'd', 'd', 'f', 'f', 's', 's', 's', 's']"
      ]
     },
     "execution_count": 5,
     "metadata": {},
     "output_type": "execute_result"
    }
   ],
   "source": [
    "sorted('aasdasdfasdfs')"
   ]
  },
  {
   "cell_type": "code",
   "execution_count": 6,
   "id": "cb9a42ea-9dc0-4061-9fd5-43fcc5977831",
   "metadata": {},
   "outputs": [
    {
     "data": {
      "text/plain": [
       "[(62, 77, -4),\n",
       " (13, -81, -18),\n",
       " (7, 90, -1),\n",
       " (-16, -62, 54),\n",
       " (1, -71, -26),\n",
       " (-62, -55, 93)]"
      ]
     },
     "execution_count": 6,
     "metadata": {},
     "output_type": "execute_result"
    }
   ],
   "source": [
    "[tuple(randrange(-100,101) for _ in range(3)) for _ in range(6)]"
   ]
  },
  {
   "cell_type": "code",
   "execution_count": 7,
   "id": "efa0e05e-f8a9-4d76-9dbf-89d41e9d4709",
   "metadata": {},
   "outputs": [],
   "source": [
    "L =[tuple(randrange(-100,101) for _ in range(3)) for _ in range(6)]"
   ]
  },
  {
   "cell_type": "code",
   "execution_count": 8,
   "id": "d46cd5dc-a338-4c06-8015-3f8f4e003a22",
   "metadata": {},
   "outputs": [
    {
     "data": {
      "text/plain": [
       "[(10, 88, -32),\n",
       " (-70, -31, 26),\n",
       " (82, 39, 83),\n",
       " (-7, 59, 41),\n",
       " (46, 42, 73),\n",
       " (-11, 100, 94)]"
      ]
     },
     "execution_count": 8,
     "metadata": {},
     "output_type": "execute_result"
    }
   ],
   "source": [
    "L"
   ]
  },
  {
   "cell_type": "code",
   "execution_count": 9,
   "id": "c35aeddd-1d54-4316-8426-51d8b3fe6efd",
   "metadata": {},
   "outputs": [
    {
     "data": {
      "text/plain": [
       "[(-70, -31, 26),\n",
       " (-11, 100, 94),\n",
       " (-7, 59, 41),\n",
       " (10, 88, -32),\n",
       " (46, 42, 73),\n",
       " (82, 39, 83)]"
      ]
     },
     "execution_count": 9,
     "metadata": {},
     "output_type": "execute_result"
    }
   ],
   "source": [
    "sorted(L)"
   ]
  },
  {
   "cell_type": "code",
   "execution_count": 12,
   "id": "d06361a2-c708-47ae-926b-c53897eecc60",
   "metadata": {},
   "outputs": [
    {
     "data": {
      "text/plain": [
       "[-23, -12, 3, 12, 23, 26]"
      ]
     },
     "execution_count": 12,
     "metadata": {},
     "output_type": "execute_result"
    }
   ],
   "source": [
    "L = [12, -23, 23, -12,3, 26]\n",
    "sorted(L)\n",
    "L\n",
    "L.sort()\n",
    "L"
   ]
  },
  {
   "cell_type": "code",
   "execution_count": 13,
   "id": "fc282a92-961c-4798-ac2e-14b7858433fa",
   "metadata": {},
   "outputs": [
    {
     "name": "stdout",
     "output_type": "stream",
     "text": [
      "[2, -3, -5, 7, 10]\n"
     ]
    }
   ],
   "source": [
    "numbers = [-3, 10, -5, 7, 2]\n",
    "sorted_numbers = sorted(numbers, key=abs)\n",
    "print(sorted_numbers) "
   ]
  },
  {
   "cell_type": "code",
   "execution_count": 15,
   "id": "65497d7c-161b-461c-af32-e87e447e29bc",
   "metadata": {},
   "outputs": [
    {
     "name": "stdout",
     "output_type": "stream",
     "text": [
      "[10, 7, 2, -3, -5]\n"
     ]
    }
   ],
   "source": [
    "numbers = [-3, 10, -5, 7, 2]\n",
    "sorted_numbers = sorted(numbers, reverse=True)\n",
    "print(sorted_numbers) "
   ]
  },
  {
   "cell_type": "code",
   "execution_count": 16,
   "id": "7e3e9a90-7ce4-4454-9103-1e711269c4d1",
   "metadata": {},
   "outputs": [
    {
     "data": {
      "text/plain": [
       "1"
      ]
     },
     "execution_count": 16,
     "metadata": {},
     "output_type": "execute_result"
    }
   ],
   "source": [
    "L\n",
    "def odd(x):\n",
    "    return x % 2\n",
    "odd(4)\n",
    "\n",
    "odd(5)"
   ]
  },
  {
   "cell_type": "code",
   "execution_count": 17,
   "id": "15a65b14-6501-4728-a32d-446ec9ae5f32",
   "metadata": {},
   "outputs": [
    {
     "data": {
      "text/plain": [
       "[-12, 12, 26, -23, 3, 23]"
      ]
     },
     "execution_count": 17,
     "metadata": {},
     "output_type": "execute_result"
    }
   ],
   "source": [
    "sorted(L, key=odd)"
   ]
  },
  {
   "cell_type": "code",
   "execution_count": 18,
   "id": "7364b2d1-7e8a-4703-9423-e6abb5a8f7c6",
   "metadata": {},
   "outputs": [
    {
     "data": {
      "text/plain": [
       "<function __main__.<lambda>()>"
      ]
     },
     "execution_count": 18,
     "metadata": {},
     "output_type": "execute_result"
    }
   ],
   "source": [
    "lambda: 'hi'"
   ]
  },
  {
   "cell_type": "code",
   "execution_count": 19,
   "id": "49fb2507-4c7d-4f25-9c44-cb382874c037",
   "metadata": {},
   "outputs": [
    {
     "data": {
      "text/plain": [
       "'hi'"
      ]
     },
     "execution_count": 19,
     "metadata": {},
     "output_type": "execute_result"
    }
   ],
   "source": [
    "(lambda: 'hi')()"
   ]
  },
  {
   "cell_type": "code",
   "execution_count": 20,
   "id": "00c2e4eb-96e4-4070-9f36-7627b29c8f95",
   "metadata": {},
   "outputs": [
    {
     "data": {
      "text/plain": [
       "'hi'"
      ]
     },
     "execution_count": 20,
     "metadata": {},
     "output_type": "execute_result"
    }
   ],
   "source": [
    "F = lambda: 'hi'\n",
    "F()\n"
   ]
  },
  {
   "cell_type": "code",
   "execution_count": 21,
   "id": "b2c7a0a6-e779-4964-a91e-67abdfb1211a",
   "metadata": {},
   "outputs": [
    {
     "data": {
      "text/plain": [
       "<function __main__.<lambda>()>"
      ]
     },
     "execution_count": 21,
     "metadata": {},
     "output_type": "execute_result"
    }
   ],
   "source": [
    "F"
   ]
  },
  {
   "cell_type": "code",
   "execution_count": 23,
   "id": "0eb72f36-c142-4cf9-9096-d6591b8d39f0",
   "metadata": {},
   "outputs": [
    {
     "data": {
      "text/plain": [
       "<function __main__.<lambda>(x)>"
      ]
     },
     "execution_count": 23,
     "metadata": {},
     "output_type": "execute_result"
    }
   ],
   "source": [
    "lambda x: 2*x"
   ]
  },
  {
   "cell_type": "code",
   "execution_count": 24,
   "id": "4e529b06-d89f-468b-86ac-1c0fb804a589",
   "metadata": {},
   "outputs": [
    {
     "data": {
      "text/plain": [
       "22"
      ]
     },
     "execution_count": 24,
     "metadata": {},
     "output_type": "execute_result"
    }
   ],
   "source": [
    "(lambda x: 2*x)(11)\n",
    "F=lambda x: 2*x\n",
    "F(11)"
   ]
  },
  {
   "cell_type": "code",
   "execution_count": 26,
   "id": "05f90357-3077-49e1-93fc-714764696a65",
   "metadata": {},
   "outputs": [
    {
     "data": {
      "text/plain": [
       "30"
      ]
     },
     "execution_count": 26,
     "metadata": {},
     "output_type": "execute_result"
    }
   ],
   "source": [
    "F = lambda a, b ,c,: (a+b)*c\n",
    "F(1,4,6)"
   ]
  },
  {
   "cell_type": "code",
   "execution_count": 27,
   "id": "e7055ded-cee8-4771-a083-7ba35519c07c",
   "metadata": {},
   "outputs": [
    {
     "data": {
      "text/plain": [
       "[-12, 12, 26, -23, 3, 23]"
      ]
     },
     "execution_count": 27,
     "metadata": {},
     "output_type": "execute_result"
    }
   ],
   "source": [
    "L\n",
    "sorted(L, key = lambda x: x%2)"
   ]
  },
  {
   "cell_type": "code",
   "execution_count": 28,
   "id": "7968f641-d82f-4ed3-a9e8-202df41f919b",
   "metadata": {},
   "outputs": [
    {
     "data": {
      "text/plain": [
       "[-23, -12, 3, 12, 23, 26]"
      ]
     },
     "execution_count": 28,
     "metadata": {},
     "output_type": "execute_result"
    }
   ],
   "source": [
    "sorted(L, key = lambda x: x>0)"
   ]
  },
  {
   "cell_type": "code",
   "execution_count": 29,
   "id": "65407a54-7a1a-4356-9884-958885240dbb",
   "metadata": {},
   "outputs": [
    {
     "data": {
      "text/plain": [
       "[3, 12, 23, 26, -23, -12]"
      ]
     },
     "execution_count": 29,
     "metadata": {},
     "output_type": "execute_result"
    }
   ],
   "source": [
    "sorted(L, key = lambda x: x<0)"
   ]
  },
  {
   "cell_type": "code",
   "execution_count": 30,
   "id": "0061b1f5-4866-48c2-bc7c-1e484edb0962",
   "metadata": {},
   "outputs": [
    {
     "data": {
      "text/plain": [
       "[3, 12, 23, 26, -23, -12]"
      ]
     },
     "execution_count": 30,
     "metadata": {},
     "output_type": "execute_result"
    }
   ],
   "source": [
    "sorted(L, key = lambda x: (x<0,x))"
   ]
  },
  {
   "cell_type": "code",
   "execution_count": 31,
   "id": "18f8f7c2-2db0-4d65-b757-75a6617621cd",
   "metadata": {},
   "outputs": [],
   "source": [
    "rule_nb=110"
   ]
  },
  {
   "cell_type": "code",
   "execution_count": 32,
   "id": "c3348078-d0c4-41b7-90c7-2ba19802f3ec",
   "metadata": {},
   "outputs": [],
   "source": [
    "def display_line(within_cone, bit_outside, repetition):\n",
    "    print(squares[bit_outside] * repetition,\n",
    "          ''.join(squares[e] for e in within_cone),\n",
    "          squares[bit_outside] * repetition, sep=''\n",
    "         )"
   ]
  },
  {
   "cell_type": "code",
   "execution_count": 33,
   "id": "0afd3653-09f4-49f7-a3ef-441a6be1339f",
   "metadata": {},
   "outputs": [
    {
     "ename": "NameError",
     "evalue": "name 'squares' is not defined",
     "output_type": "error",
     "traceback": [
      "\u001b[0;31m---------------------------------------------------------------------------\u001b[0m",
      "\u001b[0;31mNameError\u001b[0m                                 Traceback (most recent call last)",
      "Cell \u001b[0;32mIn[33], line 1\u001b[0m\n\u001b[0;32m----> 1\u001b[0m \u001b[43mdisplay_line\u001b[49m\u001b[43m(\u001b[49m\u001b[43m[\u001b[49m\u001b[38;5;241;43m1\u001b[39;49m\u001b[43m]\u001b[49m\u001b[43m,\u001b[49m\u001b[43m \u001b[49m\u001b[38;5;241;43m0\u001b[39;49m\u001b[43m,\u001b[49m\u001b[43m \u001b[49m\u001b[38;5;241;43m4\u001b[39;49m\u001b[43m)\u001b[49m\n",
      "Cell \u001b[0;32mIn[32], line 2\u001b[0m, in \u001b[0;36mdisplay_line\u001b[0;34m(within_cone, bit_outside, repetition)\u001b[0m\n\u001b[1;32m      1\u001b[0m \u001b[38;5;28;01mdef\u001b[39;00m \u001b[38;5;21mdisplay_line\u001b[39m(within_cone, bit_outside, repetition):\n\u001b[0;32m----> 2\u001b[0m     \u001b[38;5;28mprint\u001b[39m(\u001b[43msquares\u001b[49m[bit_outside] \u001b[38;5;241m*\u001b[39m repetition,\n\u001b[1;32m      3\u001b[0m           \u001b[38;5;124m'\u001b[39m\u001b[38;5;124m'\u001b[39m\u001b[38;5;241m.\u001b[39mjoin(squares[e] \u001b[38;5;28;01mfor\u001b[39;00m e \u001b[38;5;129;01min\u001b[39;00m within_cone),\n\u001b[1;32m      4\u001b[0m           squares[bit_outside] \u001b[38;5;241m*\u001b[39m repetition, sep\u001b[38;5;241m=\u001b[39m\u001b[38;5;124m'\u001b[39m\u001b[38;5;124m'\u001b[39m\n\u001b[1;32m      5\u001b[0m          )\n",
      "\u001b[0;31mNameError\u001b[0m: name 'squares' is not defined"
     ]
    }
   ],
   "source": [
    "display_line([1], 0, 4)"
   ]
  },
  {
   "cell_type": "code",
   "execution_count": 34,
   "id": "52ed9ba3-44db-446a-8638-8b884686280a",
   "metadata": {},
   "outputs": [
    {
     "name": "stdout",
     "output_type": "stream",
     "text": [
      "⬛⬜⬜⬛⬛\n"
     ]
    }
   ],
   "source": [
    "squares = {0: '⬜', 1: '⬛'}\n",
    "\n",
    "L = [1, 0, 0, 1, 1]\n",
    "def display_line(L):\n",
    "    print(''.join(squares[e] for e in L))\n",
    "display_line(L)"
   ]
  },
  {
   "cell_type": "code",
   "execution_count": 35,
   "id": "3932c456-dc43-4a27-8420-da19b2bf9ced",
   "metadata": {},
   "outputs": [],
   "source": [
    "def display_line(within_cone, bit_outside, repetition):\n",
    "    print(squares[bit_outside] * repetition,\n",
    "          ''.join(squares[e] for e in within_cone),\n",
    "          squares[bit_outside] * repetition, sep=''\n",
    "         )"
   ]
  },
  {
   "cell_type": "code",
   "execution_count": 36,
   "id": "ae6d7faa-a1e2-4084-bb54-77f11e54df1f",
   "metadata": {},
   "outputs": [
    {
     "name": "stdout",
     "output_type": "stream",
     "text": [
      "⬜⬜⬜⬜⬛⬜⬜⬜⬜\n"
     ]
    }
   ],
   "source": [
    "display_line([1], 0, 4)"
   ]
  },
  {
   "cell_type": "code",
   "execution_count": 37,
   "id": "5c7e3b6e-2d27-41bf-9160-021819b7dde3",
   "metadata": {},
   "outputs": [
    {
     "data": {
      "text/plain": [
       "'01101110'"
      ]
     },
     "execution_count": 37,
     "metadata": {},
     "output_type": "execute_result"
    }
   ],
   "source": [
    "f'{rule_nb:08b}'"
   ]
  },
  {
   "cell_type": "code",
   "execution_count": 38,
   "id": "65a7596d-d04b-45d6-a941-4ba48f4930f0",
   "metadata": {},
   "outputs": [],
   "source": [
    "for i in range(8):\n",
    "    f'{i:03b}'"
   ]
  },
  {
   "cell_type": "code",
   "execution_count": 45,
   "id": "8350a581-9258-4f3e-a61a-c804407bae6a",
   "metadata": {},
   "outputs": [
    {
     "name": "stdout",
     "output_type": "stream",
     "text": [
      "(0, 0, 0)\n",
      "(1, 0, 0)\n",
      "(0, 1, 0)\n",
      "(1, 1, 0)\n",
      "(0, 0, 1)\n",
      "(1, 0, 1)\n",
      "(0, 1, 1)\n",
      "(1, 1, 1)\n"
     ]
    }
   ],
   "source": [
    "for i in range(8):\n",
    "    L=  i % 2, i//2%2, i//4\n",
    "    print(L)"
   ]
  },
  {
   "cell_type": "code",
   "execution_count": 46,
   "id": "a746a991-4a2c-41e4-b212-59c68e674c87",
   "metadata": {},
   "outputs": [
    {
     "name": "stdout",
     "output_type": "stream",
     "text": [
      "('0', '0', '0')\n",
      "('1', '0', '0')\n",
      "('0', '1', '0')\n",
      "('1', '1', '0')\n",
      "('0', '0', '1')\n",
      "('1', '0', '1')\n",
      "('0', '1', '1')\n",
      "('1', '1', '1')\n"
     ]
    }
   ],
   "source": [
    "for i in range(8):\n",
    "    L=  str(i % 2), str(i//2%2), str(i//4)\n",
    "    print(L)"
   ]
  },
  {
   "cell_type": "code",
   "execution_count": 48,
   "id": "1f2cb225-2fcd-484f-b463-03a34f074697",
   "metadata": {},
   "outputs": [
    {
     "name": "stdout",
     "output_type": "stream",
     "text": [
      "000\n",
      "100\n",
      "010\n",
      "110\n",
      "001\n",
      "101\n",
      "011\n",
      "111\n"
     ]
    }
   ],
   "source": [
    "for i in range(8):\n",
    "    L=  ''.join((str(i % 2), str(i//2%2), str(i//4)))\n",
    "    print(L)"
   ]
  },
  {
   "cell_type": "code",
   "execution_count": 50,
   "id": "41442332-a93a-4f76-8e38-aa7d1f62cc16",
   "metadata": {},
   "outputs": [
    {
     "name": "stdout",
     "output_type": "stream",
     "text": [
      "0\n",
      "4\n",
      "2\n",
      "6\n",
      "1\n",
      "5\n",
      "3\n",
      "7\n"
     ]
    }
   ],
   "source": [
    "for i in range(8):\n",
    "    L=  int(''.join((str(i % 2), str(i//2%2), str(i//4))),2)\n",
    "    print(L)"
   ]
  },
  {
   "cell_type": "code",
   "execution_count": 51,
   "id": "0253dc53-4092-463e-8b3c-3002856f6258",
   "metadata": {},
   "outputs": [
    {
     "data": {
      "text/plain": [
       "'01101110'"
      ]
     },
     "execution_count": 51,
     "metadata": {},
     "output_type": "execute_result"
    }
   ],
   "source": [
    "rule_nb = 110\n",
    "f'{rule_nb:08b}'"
   ]
  },
  {
   "cell_type": "code",
   "execution_count": 53,
   "id": "526b444a-40a2-45c4-a304-f91966e46a6f",
   "metadata": {},
   "outputs": [
    {
     "name": "stdout",
     "output_type": "stream",
     "text": [
      "124\n"
     ]
    }
   ],
   "source": [
    "L=  int(''.join(f'{rule_nb:08b}'[int(''.join((str(i % 2), str(i//2%2), str(i//4))),2)]\n",
    "                for i in range(8)\n",
    "               ),2)\n",
    "print(L)"
   ]
  },
  {
   "cell_type": "code",
   "execution_count": 54,
   "id": "9f4940d2-735c-4c1b-965a-b86d7bf8347a",
   "metadata": {},
   "outputs": [
    {
     "ename": "SyntaxError",
     "evalue": "expected 'else' after 'if' expression (2987735794.py, line 1)",
     "output_type": "error",
     "traceback": [
      "\u001b[0;36m  Cell \u001b[0;32mIn[54], line 1\u001b[0;36m\u001b[0m\n\u001b[0;31m    [i if all( i%k for k in range(2,i) for i in range(2,101))]\u001b[0m\n\u001b[0m     ^\u001b[0m\n\u001b[0;31mSyntaxError\u001b[0m\u001b[0;31m:\u001b[0m expected 'else' after 'if' expression\n"
     ]
    }
   ],
   "source": [
    "[i if all( i%k for k in range(2,i) for i in range(2,101))]"
   ]
  },
  {
   "cell_type": "code",
   "execution_count": 60,
   "id": "87f3b11a-e535-437f-add0-fb72d9043074",
   "metadata": {},
   "outputs": [
    {
     "data": {
      "text/plain": [
       "[2,\n",
       " 3,\n",
       " 5,\n",
       " 7,\n",
       " 11,\n",
       " 13,\n",
       " 17,\n",
       " 19,\n",
       " 23,\n",
       " 29,\n",
       " 31,\n",
       " 37,\n",
       " 41,\n",
       " 43,\n",
       " 47,\n",
       " 53,\n",
       " 59,\n",
       " 61,\n",
       " 67,\n",
       " 71,\n",
       " 73,\n",
       " 79,\n",
       " 83,\n",
       " 89,\n",
       " 97]"
      ]
     },
     "execution_count": 60,
     "metadata": {},
     "output_type": "execute_result"
    }
   ],
   "source": [
    "[i for i in range(2,101) if all(i%k for k in range(2,i))]"
   ]
  },
  {
   "cell_type": "code",
   "execution_count": 62,
   "id": "a0da14e0-4dae-490a-90fc-944b17694920",
   "metadata": {},
   "outputs": [
    {
     "data": {
      "text/plain": [
       "True"
      ]
     },
     "execution_count": 62,
     "metadata": {},
     "output_type": "execute_result"
    }
   ],
   "source": [
    "all((2,9,-3,5))"
   ]
  },
  {
   "cell_type": "code",
   "execution_count": 59,
   "id": "29575f99-238e-49e3-8c8a-8ff86ad4c7aa",
   "metadata": {},
   "outputs": [
    {
     "data": {
      "text/plain": [
       "True"
      ]
     },
     "execution_count": 59,
     "metadata": {},
     "output_type": "execute_result"
    }
   ],
   "source": [
    "bool(-3)"
   ]
  },
  {
   "cell_type": "code",
   "execution_count": 63,
   "id": "ad6f45ef-848f-4748-8943-85d3170c51f3",
   "metadata": {},
   "outputs": [
    {
     "data": {
      "text/plain": [
       "True"
      ]
     },
     "execution_count": 63,
     "metadata": {},
     "output_type": "execute_result"
    }
   ],
   "source": [
    "any((0, '0',{},[]))"
   ]
  },
  {
   "cell_type": "code",
   "execution_count": 64,
   "id": "6e27a051-2c64-44bf-93be-1f129fe1a47d",
   "metadata": {},
   "outputs": [],
   "source": [
    "_ = [i for i in range(2,100_001) if all(i%k for k in range(2,i))]"
   ]
  },
  {
   "cell_type": "code",
   "execution_count": 65,
   "id": "3b1a5aef-cab9-404e-9d44-cf3666d95f4c",
   "metadata": {},
   "outputs": [],
   "source": [
    "from math import sqrt"
   ]
  },
  {
   "cell_type": "code",
   "execution_count": 66,
   "id": "e87cd0ac-771d-4a28-9b44-415777d33397",
   "metadata": {},
   "outputs": [
    {
     "data": {
      "text/plain": [
       "2.23606797749979"
      ]
     },
     "execution_count": 66,
     "metadata": {},
     "output_type": "execute_result"
    }
   ],
   "source": [
    "sqrt(5)"
   ]
  },
  {
   "cell_type": "code",
   "execution_count": 67,
   "id": "f5f11c44-8d08-482d-a67e-c51cc759a255",
   "metadata": {},
   "outputs": [
    {
     "data": {
      "text/plain": [
       "0.3333333333333333"
      ]
     },
     "execution_count": 67,
     "metadata": {},
     "output_type": "execute_result"
    }
   ],
   "source": [
    "1/3"
   ]
  },
  {
   "cell_type": "code",
   "execution_count": 68,
   "id": "29f2009d-a3e8-4679-8b85-bfa3b78992a1",
   "metadata": {},
   "outputs": [
    {
     "data": {
      "text/plain": [
       "'0.33333333333333331483'"
      ]
     },
     "execution_count": 68,
     "metadata": {},
     "output_type": "execute_result"
    }
   ],
   "source": [
    "f'{1/3:.20}'"
   ]
  },
  {
   "cell_type": "code",
   "execution_count": 69,
   "id": "67bfbcb8-0a46-4f05-9f0e-8b217bc4488b",
   "metadata": {},
   "outputs": [
    {
     "data": {
      "text/plain": [
       "'0.33333333333333331483'"
      ]
     },
     "execution_count": 69,
     "metadata": {},
     "output_type": "execute_result"
    }
   ],
   "source": [
    "f'{1/3:7.20}'"
   ]
  },
  {
   "cell_type": "code",
   "execution_count": 76,
   "id": "3998ebdc-040e-4628-b546-eccf2e7c05b7",
   "metadata": {},
   "outputs": [
    {
     "data": {
      "text/plain": [
       "1241309748915076"
      ]
     },
     "execution_count": 76,
     "metadata": {},
     "output_type": "execute_result"
    }
   ],
   "source": [
    "35232226 **2"
   ]
  },
  {
   "cell_type": "code",
   "execution_count": 77,
   "id": "e2570b43-3123-435a-91c0-34b50d98d9c3",
   "metadata": {},
   "outputs": [
    {
     "data": {
      "text/plain": [
       "1241309748915076.0"
      ]
     },
     "execution_count": 77,
     "metadata": {},
     "output_type": "execute_result"
    }
   ],
   "source": [
    "35232226.0 **2"
   ]
  },
  {
   "cell_type": "markdown",
   "id": "866eb8d0-e1fa-4548-9c5d-57aef302f860",
   "metadata": {},
   "source": [
    "94906299.0 **2"
   ]
  },
  {
   "cell_type": "code",
   "execution_count": 78,
   "id": "78c19bdb-eb3d-49fb-94ef-dbb5d46230fe",
   "metadata": {},
   "outputs": [
    {
     "data": {
      "text/plain": [
       "9007205589877400.0"
      ]
     },
     "execution_count": 78,
     "metadata": {},
     "output_type": "execute_result"
    }
   ],
   "source": [
    "94906299.0 **2"
   ]
  },
  {
   "cell_type": "code",
   "execution_count": 79,
   "id": "437d4cd7-fdbf-4477-9a12-9cc5a7e4de21",
   "metadata": {},
   "outputs": [
    {
     "data": {
      "text/plain": [
       "9007205589877401"
      ]
     },
     "execution_count": 79,
     "metadata": {},
     "output_type": "execute_result"
    }
   ],
   "source": [
    "94906299 ** 2"
   ]
  },
  {
   "cell_type": "code",
   "execution_count": 80,
   "id": "f2dbcbd9-6e95-4f6f-849e-204baf588c3d",
   "metadata": {},
   "outputs": [],
   "source": [
    " L = [True] *14"
   ]
  },
  {
   "cell_type": "code",
   "execution_count": 83,
   "id": "90c89e0f-8f92-4773-a250-72857c6f9ba7",
   "metadata": {},
   "outputs": [],
   "source": [
    "L[4] = L[6]=L[8]=L[9]=L[10] =False"
   ]
  },
  {
   "cell_type": "code",
   "execution_count": 84,
   "id": "0838eedf-4517-457b-9aba-5465e8736ebe",
   "metadata": {},
   "outputs": [
    {
     "data": {
      "text/plain": [
       "[True,\n",
       " True,\n",
       " True,\n",
       " True,\n",
       " False,\n",
       " True,\n",
       " False,\n",
       " True,\n",
       " False,\n",
       " False,\n",
       " False,\n",
       " True,\n",
       " True,\n",
       " True]"
      ]
     },
     "execution_count": 84,
     "metadata": {},
     "output_type": "execute_result"
    }
   ],
   "source": [
    "L"
   ]
  },
  {
   "cell_type": "code",
   "execution_count": 85,
   "id": "ec59e2b3-49a8-471d-9930-8b1ea5316bc7",
   "metadata": {},
   "outputs": [
    {
     "name": "stdout",
     "output_type": "stream",
     "text": [
      "[2, 3, 5, 7, 11, 13, 17, 19, 23, 29, 31, 37, 41, 43, 47, 53, 59, 61, 67, 71, 73, 79, 83, 89, 97, 101]\n"
     ]
    }
   ],
   "source": [
    "max_poss_prime = 101\n",
    "sieve = [True] * (max_poss_prime + 1)\n",
    "sieve[0] = sieve[1] = False  # 0 和 1 不是素数\n",
    "\n",
    "for i in range(2, int(max_poss_prime**0.5) + 1):  # 只筛到 sqrt(n)\n",
    "    if sieve[i]:\n",
    "        for j in range(i * i, max_poss_prime + 1, i):  # ✅ 从 i*i 开始标记\n",
    "            sieve[j] = False\n",
    "\n",
    "# 获取素数列表\n",
    "primes = [i for i in range(2, len(sieve)) if sieve[i]]\n",
    "print(primes)\n"
   ]
  },
  {
   "cell_type": "code",
   "execution_count": 86,
   "id": "f1c21330-bf6a-4e5c-b183-58caae7a3a60",
   "metadata": {},
   "outputs": [],
   "source": [
    "sieve = [True] * (max_poss_prime + 1)\n",
    "\n",
    "for i in range(2, max_poss_prime + 1):\n",
    "    if sieve[i]:\n",
    "        j = 2\n",
    "        while True:  # ❌ 无限循环\n",
    "            n = i * j\n",
    "            if n >= len(sieve):  # ✅ 终止条件\n",
    "                break\n",
    "            sieve[n] = False\n",
    "            j += 1  # ❌ 这里应该是 `j += 1`，但逻辑不太优\n"
   ]
  },
  {
   "cell_type": "code",
   "execution_count": 93,
   "id": "cf32d3f3-366e-4dec-b742-db9db04675ac",
   "metadata": {},
   "outputs": [
    {
     "data": {
      "text/plain": [
       "[2,\n",
       " 3,\n",
       " 5,\n",
       " 7,\n",
       " 11,\n",
       " 13,\n",
       " 17,\n",
       " 19,\n",
       " 23,\n",
       " 29,\n",
       " 31,\n",
       " 37,\n",
       " 41,\n",
       " 43,\n",
       " 47,\n",
       " 53,\n",
       " 59,\n",
       " 61,\n",
       " 67,\n",
       " 71,\n",
       " 73,\n",
       " 79,\n",
       " 83,\n",
       " 89,\n",
       " 97,\n",
       " 101]"
      ]
     },
     "execution_count": 93,
     "metadata": {},
     "output_type": "execute_result"
    }
   ],
   "source": [
    "sieve = [True] * (max_poss_prime + 1)\n",
    "for i in range(2, max_poss_prime + 1):\n",
    "    if sieve[i]:\n",
    "        for j in range(2*i,len(sieve),i):\n",
    "            sieve[j] = False\n",
    "[i for i in range(2,len(sieve)) if sieve[i]]"
   ]
  },
  {
   "cell_type": "code",
   "execution_count": 96,
   "id": "e3f860bc-90ad-4cba-9265-384f40e9f333",
   "metadata": {},
   "outputs": [
    {
     "data": {
      "text/plain": [
       "'0.33333332999999998325'"
      ]
     },
     "execution_count": 96,
     "metadata": {},
     "output_type": "execute_result"
    }
   ],
   "source": [
    "f'{round(1/3,8):.20f}'"
   ]
  },
  {
   "cell_type": "code",
   "execution_count": 97,
   "id": "aaa4b540-baf8-4aec-97ea-bbd3d643f704",
   "metadata": {},
   "outputs": [
    {
     "data": {
      "text/plain": [
       "'0.00000000000000000000'"
      ]
     },
     "execution_count": 97,
     "metadata": {},
     "output_type": "execute_result"
    }
   ],
   "source": [
    "f'{round(1/3):.20f}'"
   ]
  },
  {
   "cell_type": "code",
   "execution_count": 98,
   "id": "d89ef7ad-dc85-42ef-8139-4d268002e238",
   "metadata": {},
   "outputs": [
    {
     "data": {
      "text/plain": [
       "[2,\n",
       " 3,\n",
       " 5,\n",
       " 7,\n",
       " 11,\n",
       " 13,\n",
       " 17,\n",
       " 19,\n",
       " 23,\n",
       " 29,\n",
       " 31,\n",
       " 37,\n",
       " 41,\n",
       " 43,\n",
       " 47,\n",
       " 53,\n",
       " 59,\n",
       " 61,\n",
       " 67,\n",
       " 71,\n",
       " 73,\n",
       " 79,\n",
       " 83,\n",
       " 89,\n",
       " 97,\n",
       " 101]"
      ]
     },
     "execution_count": 98,
     "metadata": {},
     "output_type": "execute_result"
    }
   ],
   "source": [
    "sieve = [True] * (max_poss_prime + 1)\n",
    "for i in range(2, int(sqrt(max_poss_prime))+1):\n",
    "    if sieve[i]:\n",
    "        for j in range(2*i,len(sieve),i):\n",
    "            sieve[j] = False\n",
    "[i for i in range(2,len(sieve)) if sieve[i]]"
   ]
  },
  {
   "cell_type": "code",
   "execution_count": 4,
   "id": "f09d5631-e242-4d80-aaf3-eaf1957da9d3",
   "metadata": {},
   "outputs": [
    {
     "data": {
      "text/plain": [
       "[2,\n",
       " 3,\n",
       " 5,\n",
       " 7,\n",
       " 11,\n",
       " 13,\n",
       " 17,\n",
       " 19,\n",
       " 23,\n",
       " 29,\n",
       " 31,\n",
       " 37,\n",
       " 41,\n",
       " 43,\n",
       " 47,\n",
       " 53,\n",
       " 59,\n",
       " 61,\n",
       " 67,\n",
       " 71,\n",
       " 73,\n",
       " 79,\n",
       " 83,\n",
       " 89,\n",
       " 97,\n",
       " 101]"
      ]
     },
     "execution_count": 4,
     "metadata": {},
     "output_type": "execute_result"
    }
   ],
   "source": [
    "from math import sqrt\n",
    "\n",
    "max_poss_prime = 101\n",
    "sieve = [True]*(max_poss_prime+1)\n",
    "\n",
    "for i in range(2, round(sqrt(max_poss_prime))+1):\n",
    "    if sieve[i]:\n",
    "        for j in range(2 *i, len(sieve),i):\n",
    "            sieve[j] = False\n",
    "[i for i in range(2, len(sieve)) if sieve[i]]\n",
    "\n",
    "#print(sieve)\n"
   ]
  },
  {
   "cell_type": "code",
   "execution_count": 2,
   "id": "e85d3ef2-5ee1-4c20-a0f6-7e0b7a00f3e8",
   "metadata": {},
   "outputs": [],
   "source": [
    "from math import sqrt\n",
    "def prims_up_to(max_poss_prime):\n",
    "\n",
    "    sieve = [True]*(max_poss_prime+1)\n",
    "    \n",
    "    for i in range(2, round(sqrt(max_poss_prime))+1):\n",
    "        if sieve[i]:\n",
    "            for j in range(2 *i, len(sieve),i):\n",
    "                sieve[j] = False\n",
    "    return [i for i in range(2, len(sieve)) if sieve[i]]\n",
    "    \n",
    "    #print(sieve)"
   ]
  },
  {
   "cell_type": "code",
   "execution_count": 12,
   "id": "7f7a7b5f-4681-4afa-b96c-c7cde18f0310",
   "metadata": {},
   "outputs": [
    {
     "name": "stdout",
     "output_type": "stream",
     "text": [
      "3.13 ms ± 10.1 μs per loop (mean ± std. dev. of 7 runs, 100 loops each)\n"
     ]
    }
   ],
   "source": [
    "timeit len(prims_up_to(100_000))"
   ]
  },
  {
   "cell_type": "code",
   "execution_count": 13,
   "id": "9499a92e-8504-48e3-a89a-a073f421ca5c",
   "metadata": {},
   "outputs": [
    {
     "name": "stdout",
     "output_type": "stream",
     "text": [
      "The slowest run took 6.74 times longer than the fastest. This could mean that an intermediate result is being cached.\n",
      "429 ns ± 348 ns per loop (mean ± std. dev. of 7 runs, 1 loop each)\n"
     ]
    }
   ],
   "source": [
    "timeit -n1 'L[]: for i in range(10):L.append(None)'"
   ]
  },
  {
   "cell_type": "code",
   "execution_count": 17,
   "id": "a6c62ca8-7a86-438c-8cfa-7031179a52d4",
   "metadata": {},
   "outputs": [
    {
     "name": "stdout",
     "output_type": "stream",
     "text": [
      "2.13 ns ± 0.00728 ns per loop (mean ± std. dev. of 7 runs, 100,000,000 loops each)\n"
     ]
    }
   ],
   "source": [
    "timeit 'L[]: for i in range(5):L.append(None)'"
   ]
  },
  {
   "cell_type": "code",
   "execution_count": 15,
   "id": "34a3c240-1652-4d92-b5a7-6afe984c1945",
   "metadata": {},
   "outputs": [
    {
     "name": "stdout",
     "output_type": "stream",
     "text": [
      "2.11 ns ± 0 ns per loop (mean ± std. dev. of 1 run, 100,000,000 loops each)\n"
     ]
    }
   ],
   "source": [
    "timeit -r1 'L[]: for i in range(10):L.append(None)'"
   ]
  },
  {
   "cell_type": "code",
   "execution_count": 9,
   "id": "5424e490-ea16-4f6d-b956-437ba815a189",
   "metadata": {},
   "outputs": [],
   "source": [
    "from timeit import timeit"
   ]
  },
  {
   "cell_type": "code",
   "execution_count": 20,
   "id": "f0a8b71d-23e4-4fdb-9a1d-b50598ca5a1d",
   "metadata": {},
   "outputs": [
    {
     "data": {
      "text/plain": [
       "0.034337957999923674"
      ]
     },
     "execution_count": 20,
     "metadata": {},
     "output_type": "execute_result"
    }
   ],
   "source": [
    "timeit('L=[10]')"
   ]
  },
  {
   "cell_type": "code",
   "execution_count": 21,
   "id": "d390f159-9fec-46e0-a51b-e40e6bb6e778",
   "metadata": {},
   "outputs": [
    {
     "name": "stdout",
     "output_type": "stream",
     "text": [
      "Help on function timeit in module timeit:\n",
      "\n",
      "timeit(stmt='pass', setup='pass', timer=<built-in function perf_counter>, number=1000000, globals=None)\n",
      "    Convenience function to create Timer object and call timeit method.\n",
      "\n"
     ]
    }
   ],
   "source": [
    "help(timeit)"
   ]
  },
  {
   "cell_type": "code",
   "execution_count": null,
   "id": "62885594-70ab-4301-8188-52da7d082f16",
   "metadata": {},
   "outputs": [],
   "source": [
    "timeit('len(prims_up_to(100_000))',globals={'prims_up_to':prims_up_to})"
   ]
  },
  {
   "cell_type": "code",
   "execution_count": 5,
   "id": "3283f016-ef2b-4d3c-bded-b894ad513a38",
   "metadata": {},
   "outputs": [
    {
     "ename": "SyntaxError",
     "evalue": "invalid syntax. Maybe you meant '==' or ':=' instead of '='? (<unknown>, line 1)",
     "output_type": "error",
     "traceback": [
      "Traceback \u001b[0;36m(most recent call last)\u001b[0m:\n",
      "\u001b[0m  File \u001b[1;32m/opt/anaconda3/envs/d2l-env/lib/python3.11/site-packages/IPython/core/interactiveshell.py:3577\u001b[0m in \u001b[1;35mrun_code\u001b[0m\n    exec(code_obj, self.user_global_ns, self.user_ns)\u001b[0m\n",
      "\u001b[0m  Cell \u001b[1;32mIn[5], line 1\u001b[0m\n    get_ipython().run_line_magic('timeit', \"('len(prims_up_to(1_000))',globals={'prims_up_to':prims_up_to},number=1)\")\u001b[0m\n",
      "\u001b[0m  File \u001b[1;32m/opt/anaconda3/envs/d2l-env/lib/python3.11/site-packages/IPython/core/interactiveshell.py:2480\u001b[0m in \u001b[1;35mrun_line_magic\u001b[0m\n    result = fn(*args, **kwargs)\u001b[0m\n",
      "\u001b[0m  File \u001b[1;32m/opt/anaconda3/envs/d2l-env/lib/python3.11/site-packages/IPython/core/magics/execution.py:1138\u001b[0m in \u001b[1;35mtimeit\u001b[0m\n    ast_stmt = self.shell.compile.ast_parse(transform(stmt))\u001b[0m\n",
      "\u001b[0;36m  File \u001b[0;32m/opt/anaconda3/envs/d2l-env/lib/python3.11/site-packages/IPython/core/compilerop.py:86\u001b[0;36m in \u001b[0;35mast_parse\u001b[0;36m\n\u001b[0;31m    return compile(source, filename, symbol, self.flags | PyCF_ONLY_AST, 1)\u001b[0;36m\n",
      "\u001b[0;36m  File \u001b[0;32m<unknown>:1\u001b[0;36m\u001b[0m\n\u001b[0;31m    ('len(prims_up_to(1_000))',globals={'prims_up_to':prims_up_to},number=1)\u001b[0m\n\u001b[0m                               ^\u001b[0m\n\u001b[0;31mSyntaxError\u001b[0m\u001b[0;31m:\u001b[0m invalid syntax. Maybe you meant '==' or ':=' instead of '='?\n"
     ]
    }
   ],
   "source": [
    "timeit('len(prims_up_to(1_000))',globals={'prims_up_to':prims_up_to},number=1)"
   ]
  },
  {
   "cell_type": "code",
   "execution_count": 11,
   "id": "d72e2b3a-8d98-47ba-bd37-756bbc12f302",
   "metadata": {},
   "outputs": [
    {
     "data": {
      "text/plain": [
       "0.000158791999638197"
      ]
     },
     "execution_count": 11,
     "metadata": {},
     "output_type": "execute_result"
    }
   ],
   "source": [
    "timeit('len(prims_up_to(1_000))', globals=globals(),number=1)"
   ]
  },
  {
   "cell_type": "code",
   "execution_count": 3,
   "id": "1f49fa31-98f5-4466-bc04-5d6056e629d9",
   "metadata": {},
   "outputs": [
    {
     "name": "stdout",
     "output_type": "stream",
     "text": [
      "2.35 μs ± 6.73 ns per loop (mean ± std. dev. of 7 runs, 100,000 loops each)\n"
     ]
    }
   ],
   "source": [
    "timeit len(prims_up_to(100))"
   ]
  },
  {
   "cell_type": "code",
   "execution_count": 8,
   "id": "276817f2-faf4-4482-9021-c58fb773faf3",
   "metadata": {},
   "outputs": [
    {
     "data": {
      "text/plain": [
       "0.00022312500004773028"
      ]
     },
     "execution_count": 8,
     "metadata": {},
     "output_type": "execute_result"
    }
   ],
   "source": [
    "import timeit\n",
    "\n",
    "timeit.timeit('len(prims_up_to(1_000))', globals=globals(), number=1)"
   ]
  },
  {
   "cell_type": "code",
   "execution_count": 13,
   "id": "93ddb879-9caf-4c35-9e21-196b9f6f9cad",
   "metadata": {},
   "outputs": [
    {
     "name": "stdout",
     "output_type": "stream",
     "text": [
      "25.9 μs ± 281 ns per loop (mean ± std. dev. of 7 runs, 10,000 loops each)\n"
     ]
    }
   ],
   "source": [
    "%timeit len(prims_up_to(1_000)) "
   ]
  },
  {
   "cell_type": "code",
   "execution_count": 18,
   "id": "77fd03ee-efb1-497b-a087-f296d66aec46",
   "metadata": {},
   "outputs": [
    {
     "data": {
      "text/plain": [
       "[0, 1, 2, 3, 5, 6, 7, 9, 10, 11, 12, 13, 14, 15, 17, 18, 19]"
      ]
     },
     "execution_count": 18,
     "metadata": {},
     "output_type": "execute_result"
    }
   ],
   "source": [
    "L = list(range(20))\n",
    "n = 2\n",
    "p = n*n\n",
    "while p<len(L):\n",
    "    L.remove(p)\n",
    "    p *= n\n",
    "L"
   ]
  },
  {
   "cell_type": "code",
   "execution_count": 20,
   "id": "b984d9e2-95f1-4133-a7ac-6c18e6364eaa",
   "metadata": {},
   "outputs": [
    {
     "data": {
      "text/plain": [
       "[0,\n",
       " 1,\n",
       " 2,\n",
       " 3,\n",
       " 5,\n",
       " 6,\n",
       " 7,\n",
       " 9,\n",
       " 10,\n",
       " 11,\n",
       " 12,\n",
       " 13,\n",
       " 14,\n",
       " 15,\n",
       " 17,\n",
       " 18,\n",
       " 19,\n",
       " 20,\n",
       " 21,\n",
       " 22,\n",
       " 23,\n",
       " 24,\n",
       " 25,\n",
       " 26,\n",
       " 27,\n",
       " 28,\n",
       " 29,\n",
       " 30,\n",
       " 31,\n",
       " 33,\n",
       " 34,\n",
       " 35,\n",
       " 36,\n",
       " 37,\n",
       " 38,\n",
       " 39,\n",
       " 40,\n",
       " 41,\n",
       " 42,\n",
       " 43,\n",
       " 44,\n",
       " 45,\n",
       " 46,\n",
       " 47,\n",
       " 48,\n",
       " 49,\n",
       " 50,\n",
       " 51,\n",
       " 52,\n",
       " 53,\n",
       " 54,\n",
       " 55,\n",
       " 56,\n",
       " 57,\n",
       " 58,\n",
       " 59,\n",
       " 60,\n",
       " 61,\n",
       " 62,\n",
       " 63,\n",
       " 65,\n",
       " 66,\n",
       " 67,\n",
       " 68,\n",
       " 69,\n",
       " 70,\n",
       " 71,\n",
       " 72,\n",
       " 73,\n",
       " 74,\n",
       " 75,\n",
       " 76,\n",
       " 77,\n",
       " 78,\n",
       " 79,\n",
       " 80,\n",
       " 81,\n",
       " 82,\n",
       " 83,\n",
       " 84,\n",
       " 85,\n",
       " 86,\n",
       " 87,\n",
       " 88,\n",
       " 89,\n",
       " 90,\n",
       " 91,\n",
       " 92,\n",
       " 93,\n",
       " 94,\n",
       " 95,\n",
       " 96,\n",
       " 97,\n",
       " 98,\n",
       " 99]"
      ]
     },
     "execution_count": 20,
     "metadata": {},
     "output_type": "execute_result"
    }
   ],
   "source": [
    "L = list(range(100))\n",
    "n = 2\n",
    "p = n\n",
    "while True:\n",
    "    p = p*n\n",
    "    if p>= len(L):\n",
    "        break\n",
    "    L.remove(p)\n",
    "L"
   ]
  },
  {
   "cell_type": "code",
   "execution_count": 21,
   "id": "37978974-8922-4f79-bf91-24461e03cdeb",
   "metadata": {},
   "outputs": [
    {
     "data": {
      "text/plain": [
       "[0, 1, 2, 3, 5, 6, 7, 9, 10, 11, 12, 13, 14, 15, 17, 18, 19]"
      ]
     },
     "execution_count": 21,
     "metadata": {},
     "output_type": "execute_result"
    }
   ],
   "source": [
    "L = list(range(20))\n",
    "n = 2\n",
    "p = n\n",
    "while (p := p * n)<len(L):\n",
    "    L.remove(p)\n",
    "L"
   ]
  },
  {
   "cell_type": "code",
   "execution_count": 1,
   "id": "8542646e-33d0-45f2-82d3-02c8f5bc0727",
   "metadata": {},
   "outputs": [],
   "source": [
    "def first_sieve_of_primes_up_to(n):\n",
    "    sieve = list(range(2, n + 1))  # 创建一个从 2 到 n 的列表\n",
    "    i = -1\n",
    "    k = -1\n",
    "\n",
    "    while k:  # 循环条件是 k 不为 0\n",
    "        k = 0  # 重置 k\n",
    "        i += 1  # i 增加 1\n",
    "\n",
    "        while (factor := sieve[i + k] * sieve[i]) <= n:  \n",
    "            sieve.remove(factor)  # 删除当前的 factor\n",
    "\n",
    "            while (factor := factor * sieve[i]) <= n:\n",
    "                sieve.remove(factor)  # 删除 factor 的倍数\n",
    "            \n",
    "            k += 1  # 递增 k\n",
    "\n",
    "    return sieve  # 返回最终的素数列表\n"
   ]
  },
  {
   "cell_type": "code",
   "execution_count": 27,
   "id": "99bde261-a7b7-445a-8bcb-6ec54ae6714c",
   "metadata": {},
   "outputs": [
    {
     "data": {
      "text/plain": [
       "[2,\n",
       " 3,\n",
       " 5,\n",
       " 7,\n",
       " 11,\n",
       " 13,\n",
       " 17,\n",
       " 19,\n",
       " 23,\n",
       " 29,\n",
       " 31,\n",
       " 37,\n",
       " 41,\n",
       " 43,\n",
       " 47,\n",
       " 53,\n",
       " 59,\n",
       " 61,\n",
       " 67,\n",
       " 71,\n",
       " 73,\n",
       " 79,\n",
       " 83,\n",
       " 89,\n",
       " 97]"
      ]
     },
     "execution_count": 27,
     "metadata": {},
     "output_type": "execute_result"
    }
   ],
   "source": [
    "first_sieve_of_primes_up_to(100)"
   ]
  },
  {
   "cell_type": "code",
   "execution_count": 4,
   "id": "277cfff7-dc39-4918-993d-55e196883f16",
   "metadata": {},
   "outputs": [
    {
     "data": {
      "text/plain": [
       "1229"
      ]
     },
     "execution_count": 4,
     "metadata": {},
     "output_type": "execute_result"
    }
   ],
   "source": [
    "len(first_sieve_of_primes_up_to(10_000))"
   ]
  },
  {
   "cell_type": "code",
   "execution_count": 6,
   "id": "68d66044-ec08-40bf-ab1b-d15d4bda4405",
   "metadata": {},
   "outputs": [
    {
     "data": {
      "text/plain": [
       "2222"
      ]
     },
     "execution_count": 6,
     "metadata": {},
     "output_type": "execute_result"
    }
   ],
   "source": [
    "hash(2222)"
   ]
  },
  {
   "cell_type": "code",
   "execution_count": 7,
   "id": "cbf97257-e278-43a2-ae60-0740e668e5e4",
   "metadata": {},
   "outputs": [
    {
     "data": {
      "text/plain": [
       "722806031216719575"
      ]
     },
     "execution_count": 7,
     "metadata": {},
     "output_type": "execute_result"
    }
   ],
   "source": [
    "hash(2222222222222222222222222222222222222)"
   ]
  },
  {
   "cell_type": "code",
   "execution_count": 8,
   "id": "a828e164-43f9-401d-834d-a7d4a197e22d",
   "metadata": {},
   "outputs": [
    {
     "data": {
      "text/plain": [
       "355099823418908675"
      ]
     },
     "execution_count": 8,
     "metadata": {},
     "output_type": "execute_result"
    }
   ],
   "source": [
    "hash(3.154)"
   ]
  },
  {
   "cell_type": "code",
   "execution_count": 9,
   "id": "9f487588-5cf8-4ffe-9abf-2a02d23528f4",
   "metadata": {},
   "outputs": [
    {
     "data": {
      "text/plain": [
       "-3550055125485641917"
      ]
     },
     "execution_count": 9,
     "metadata": {},
     "output_type": "execute_result"
    }
   ],
   "source": [
    "hash((1,2))"
   ]
  },
  {
   "cell_type": "code",
   "execution_count": 10,
   "id": "229f1c0f-d18e-4d48-8026-cf29402d8cb4",
   "metadata": {},
   "outputs": [
    {
     "data": {
      "text/plain": [
       "230584300921369603"
      ]
     },
     "execution_count": 10,
     "metadata": {},
     "output_type": "execute_result"
    }
   ],
   "source": [
    "hash(3.1)"
   ]
  },
  {
   "cell_type": "code",
   "execution_count": 12,
   "id": "6cab26a9-c88c-45d4-bbe0-43c32ebdaa2e",
   "metadata": {},
   "outputs": [
    {
     "data": {
      "text/plain": [
       "3"
      ]
     },
     "execution_count": 12,
     "metadata": {},
     "output_type": "execute_result"
    }
   ],
   "source": [
    "230584300921369603 % 40"
   ]
  },
  {
   "cell_type": "code",
   "execution_count": 14,
   "id": "73f7d052-1862-4656-8f2f-8bc00dbf23ce",
   "metadata": {},
   "outputs": [
    {
     "data": {
      "text/plain": [
       "27"
      ]
     },
     "execution_count": 14,
     "metadata": {},
     "output_type": "execute_result"
    }
   ],
   "source": [
    "hash(11.1) % 40"
   ]
  },
  {
   "cell_type": "code",
   "execution_count": 15,
   "id": "77a4db51-9f1b-4156-9351-653e720af55a",
   "metadata": {},
   "outputs": [
    {
     "data": {
      "text/plain": [
       "24"
      ]
     },
     "execution_count": 15,
     "metadata": {},
     "output_type": "execute_result"
    }
   ],
   "source": [
    "hash(96.1) % 40"
   ]
  },
  {
   "cell_type": "code",
   "execution_count": 16,
   "id": "4f986844-9cc8-4ace-9534-3432c3f46e64",
   "metadata": {},
   "outputs": [
    {
     "data": {
      "text/plain": [
       "2"
      ]
     },
     "execution_count": 16,
     "metadata": {},
     "output_type": "execute_result"
    }
   ],
   "source": [
    "hash(50.1) % 40"
   ]
  },
  {
   "cell_type": "code",
   "execution_count": 3,
   "id": "f57e81c0-2954-40c0-a7e3-9ae352bc731a",
   "metadata": {},
   "outputs": [],
   "source": [
    "def first_sieve_of_primes_up_to(n):\n",
    "    sieve = list(range(2, n + 1))  # 创建一个从 2 到 n 的列表\n",
    "    i = -1\n",
    "    k = -1\n",
    "\n",
    "    while k:  # 循环条件是 k 不为 0\n",
    "        k = 0  # 重置 k\n",
    "        i += 1  # i 增加 1\n",
    "        sieve_as_set = set(sieve)\n",
    "        while (factor := sieve[i + k] * sieve[i]) <= n:  \n",
    "            sieve_as_set.remove(factor)  # 删除当前的 factor\n",
    "            \n",
    "            k += 1  # 递增 k\n",
    "        sieve = sorted(sieve_as_set)\n",
    "\n",
    "    return sieve  # 返回最终的素数列表\n"
   ]
  },
  {
   "cell_type": "code",
   "execution_count": 5,
   "id": "3c7a07c0-6f02-4adb-a2b1-86fae41490dc",
   "metadata": {},
   "outputs": [
    {
     "data": {
      "text/plain": [
       "78498"
      ]
     },
     "execution_count": 5,
     "metadata": {},
     "output_type": "execute_result"
    }
   ],
   "source": [
    "len(first_sieve_of_primes_up_to(1_000_000))"
   ]
  },
  {
   "cell_type": "code",
   "execution_count": 7,
   "id": "f143e0b8-b004-4f4e-8ee0-5d0c5af85c4d",
   "metadata": {},
   "outputs": [],
   "source": [
    "import matplotlib.pyplot as plt"
   ]
  },
  {
   "cell_type": "code",
   "execution_count": 9,
   "id": "a3f36b1e-10c0-498e-946e-d84d27997fa9",
   "metadata": {},
   "outputs": [
    {
     "data": {
      "text/plain": [
       "[<matplotlib.lines.Line2D at 0x118a14210>]"
      ]
     },
     "execution_count": 9,
     "metadata": {},
     "output_type": "execute_result"
    },
    {
     "data": {
      "image/png": "[encoded data removed]",
      "text/plain": [
       "<Figure size 640x480 with 1 Axes>"
      ]
     },
     "metadata": {},
     "output_type": "display_data"
    }
   ],
   "source": [
    "plt.plot([10, 5 ,20, 2, 25])"
   ]
  },
  {
   "cell_type": "code",
   "execution_count": 10,
   "id": "2bae086b-0213-4e97-8261-3bbb530950de",
   "metadata": {},
   "outputs": [
    {
     "data": {
      "text/plain": [
       "[<matplotlib.lines.Line2D at 0x118d11850>]"
      ]
     },
     "execution_count": 10,
     "metadata": {},
     "output_type": "execute_result"
    },
    {
     "data": {
      "image/png": "[encoded data removed]",
      "text/plain": [
       "<Figure size 640x480 with 1 Axes>"
      ]
     },
     "metadata": {},
     "output_type": "display_data"
    }
   ],
   "source": [
    "plt.plot([1,3,7,5,2],[10, 5 ,20, 2, 25])\n"
   ]
  },
  {
   "cell_type": "code",
   "execution_count": 11,
   "id": "8dde2e7f-69ac-4132-9c2d-48377c4d73ce",
   "metadata": {},
   "outputs": [
    {
     "data": {
      "text/plain": [
       "[<matplotlib.lines.Line2D at 0x118ca9150>,\n",
       " <matplotlib.lines.Line2D at 0x118d7f990>]"
      ]
     },
     "execution_count": 11,
     "metadata": {},
     "output_type": "execute_result"
    },
    {
     "data": {
      "image/png": "[encoded data removed]",
      "text/plain": [
       "<Figure size 640x480 with 1 Axes>"
      ]
     },
     "metadata": {},
     "output_type": "display_data"
    }
   ],
   "source": [
    "plt.plot([1,3,7,5,2],[10, 5 ,20, 2, 25])\n",
    "plt.plot([[1,10], [3,5],[7,20],[5,2]])\n"
   ]
  },
  {
   "cell_type": "code",
   "execution_count": 16,
   "id": "d66a8e69-9505-45df-b092-7b7031006ea8",
   "metadata": {},
   "outputs": [],
   "source": [
    "L = [[1,10], [3,5],[7,20],[5,2],[2,25]]\n"
   ]
  },
  {
   "cell_type": "code",
   "execution_count": 20,
   "id": "ee1e4cc4-953a-4768-8975-b441be8c6467",
   "metadata": {},
   "outputs": [
    {
     "data": {
      "text/plain": [
       "<zip at 0x118daf940>"
      ]
     },
     "execution_count": 20,
     "metadata": {},
     "output_type": "execute_result"
    }
   ],
   "source": [
    "zip([[1,10], [3,5],[7,20],[5,2],[2,25]])"
   ]
  },
  {
   "cell_type": "code",
   "execution_count": 21,
   "id": "69d1182c-65dd-48b6-a9f7-bfac38dd6757",
   "metadata": {},
   "outputs": [
    {
     "data": {
      "text/plain": [
       "[([1, 10],), ([3, 5],), ([7, 20],), ([5, 2],), ([2, 25],)]"
      ]
     },
     "execution_count": 21,
     "metadata": {},
     "output_type": "execute_result"
    }
   ],
   "source": [
    "list(zip([[1,10], [3,5],[7,20],[5,2],[2,25]]))"
   ]
  },
  {
   "cell_type": "code",
   "execution_count": 23,
   "id": "60fa2ab9-e749-4a09-85ca-f0d1efddbf25",
   "metadata": {},
   "outputs": [
    {
     "data": {
      "text/plain": [
       "[(1, 3, 7, 5, 2), (10, 5, 20, 2, 25)]"
      ]
     },
     "execution_count": 23,
     "metadata": {},
     "output_type": "execute_result"
    }
   ],
   "source": [
    "list(zip([1,10], [3,5],[7,20],[5,2],[2,25]))"
   ]
  },
  {
   "cell_type": "code",
   "execution_count": 24,
   "id": "2164bc88-8305-43bd-91b9-b2fca84d7e7d",
   "metadata": {},
   "outputs": [
    {
     "data": {
      "text/plain": [
       "<zip at 0x118c28c40>"
      ]
     },
     "execution_count": 24,
     "metadata": {},
     "output_type": "execute_result"
    }
   ],
   "source": [
    " zip((1, 3, 7, 5, 2), (10, 5, 20, 2, 25))"
   ]
  },
  {
   "cell_type": "code",
   "execution_count": 25,
   "id": "789f7b5c-a22d-40d3-98dc-1f2a4b5cb5b7",
   "metadata": {},
   "outputs": [
    {
     "data": {
      "text/plain": [
       "[(1, 10), (3, 5), (7, 20), (5, 2), (2, 25)]"
      ]
     },
     "execution_count": 25,
     "metadata": {},
     "output_type": "execute_result"
    }
   ],
   "source": [
    " list(zip((1, 3, 7, 5, 2), (10, 5, 20, 2, 25)))"
   ]
  },
  {
   "cell_type": "code",
   "execution_count": 28,
   "id": "9078c584-ad54-4b5f-b364-15ab4fab831e",
   "metadata": {},
   "outputs": [
    {
     "data": {
      "text/plain": [
       "[(([1, 10],),), (([3, 5],),), (([7, 20],),), (([5, 2],),), (([2, 25],),)]"
      ]
     },
     "execution_count": 28,
     "metadata": {},
     "output_type": "execute_result"
    }
   ],
   "source": [
    "list(zip( list(zip([[1,10], [3,5],[7,20],[5,2],[2,25]]))))"
   ]
  },
  {
   "cell_type": "code",
   "execution_count": 29,
   "id": "5214d958-4306-44ef-91c8-8012b137c66c",
   "metadata": {},
   "outputs": [
    {
     "data": {
      "text/plain": [
       "[([1, 10], [3, 5], [7, 20], [5, 2], [2, 25])]"
      ]
     },
     "execution_count": 29,
     "metadata": {},
     "output_type": "execute_result"
    }
   ],
   "source": [
    "list(zip(* list(zip([[1,10], [3,5],[7,20],[5,2],[2,25]]))))"
   ]
  },
  {
   "cell_type": "code",
   "execution_count": 30,
   "id": "28f7a0e4-abfa-4a12-9e0e-dba362d53f24",
   "metadata": {},
   "outputs": [
    {
     "data": {
      "text/plain": [
       "[([1, 10], [3, 5], [7, 20], [5, 2], [2, 25])]"
      ]
     },
     "execution_count": 30,
     "metadata": {},
     "output_type": "execute_result"
    }
   ],
   "source": [
    "list(zip(* zip([[1,10], [3,5],[7,20],[5,2],[2,25]])))"
   ]
  },
  {
   "cell_type": "code",
   "execution_count": 31,
   "id": "b35bdfe3-ca05-49c4-9edb-b96cb32de20f",
   "metadata": {},
   "outputs": [
    {
     "ename": "SyntaxError",
     "evalue": "invalid syntax (3862802714.py, line 3)",
     "output_type": "error",
     "traceback": [
      "\u001b[0;36m  Cell \u001b[0;32mIn[31], line 3\u001b[0;36m\u001b[0m\n\u001b[0;31m    data .append((i. timeit(L.remove(0); L.append(None),\u001b[0m\n\u001b[0m                                       ^\u001b[0m\n\u001b[0;31mSyntaxError\u001b[0m\u001b[0;31m:\u001b[0m invalid syntax\n"
     ]
    }
   ],
   "source": [
    "data = []\n",
    "for i in range (0, 10_000, 500):\n",
    "    data .append((i, timeit(L.remove(0); L.append(None)',\n",
    "    ))"
   ]
  },
  {
   "cell_type": "code",
   "execution_count": 32,
   "id": "835e0ba4-489e-4066-a192-669a27a9de6b",
   "metadata": {},
   "outputs": [],
   "source": [
    "from random import randrange\n",
    "from timeit import timeit\n",
    "import matplotlib.pyplot as plt"
   ]
  },
  {
   "cell_type": "code",
   "execution_count": 33,
   "id": "b6101036-084e-4c60-ad48-46b444819ae2",
   "metadata": {},
   "outputs": [
    {
     "data": {
      "text/plain": [
       "0.14481716600130312"
      ]
     },
     "execution_count": 33,
     "metadata": {},
     "output_type": "execute_result"
    }
   ],
   "source": [
    "timeit('for i in range(10_000): L.remove(E[i])',\n",
    "       setup='from random import shuffle;'\n",
    "             'L = list(range(10_000));'\n",
    "             'E = list(range(10_000)); shuffle(E)',\n",
    "       number=1)\n"
   ]
  },
  {
   "cell_type": "code",
   "execution_count": 34,
   "id": "25c9fa9e-2a36-4e86-8866-3fd0962ec34e",
   "metadata": {},
   "outputs": [
    {
     "data": {
      "text/plain": [
       "0.2101403750020836"
      ]
     },
     "execution_count": 34,
     "metadata": {},
     "output_type": "execute_result"
    }
   ],
   "source": [
    "timeit('for i in range(1_000_000): S.remove(E[i])',\n",
    "       setup='from random import shuffle;'\n",
    "             'S = set(range(1_000_000));'\n",
    "             'E = list(range(1_000_000)); shuffle(E)',\n",
    "       number=1)\n"
   ]
  },
  {
   "cell_type": "code",
   "execution_count": 45,
   "id": "bccde52a-5fdc-4088-b12d-920497544f25",
   "metadata": {},
   "outputs": [
    {
     "data": {
      "image/png": "[encoded data removed]",
      "text/plain": [
       "<Figure size 640x480 with 1 Axes>"
      ]
     },
     "metadata": {},
     "output_type": "display_data"
    }
   ],
   "source": [
    "data = []\n",
    "for i in range(0, 10_000_000, 500_000):\n",
    "    data.append((timeit(f'list(range({i}))', number=1),\n",
    "                 timeit(f'set(range({i}))', number=1)))\n",
    "plt.plot(*zip(*data));\n"
   ]
  },
  {
   "cell_type": "code",
   "execution_count": 39,
   "id": "799fb07b-0b4f-45c1-bb5f-49761962ce71",
   "metadata": {},
   "outputs": [],
   "source": [
    "n = 10"
   ]
  },
  {
   "cell_type": "code",
   "execution_count": 40,
   "id": "d242afc2-2dad-4a10-99f1-3685d8d86551",
   "metadata": {},
   "outputs": [
    {
     "data": {
      "text/plain": [
       "4"
      ]
     },
     "execution_count": 40,
     "metadata": {},
     "output_type": "execute_result"
    }
   ],
   "source": [
    "n.bit_length()"
   ]
  },
  {
   "cell_type": "code",
   "execution_count": 41,
   "id": "dd223ac3-b7f0-4833-a5a0-c81d96324c1c",
   "metadata": {},
   "outputs": [
    {
     "name": "stdout",
     "output_type": "stream",
     "text": [
      "0\n"
     ]
    },
    {
     "data": {
      "text/plain": [
       "0"
      ]
     },
     "execution_count": 41,
     "metadata": {},
     "output_type": "execute_result"
    }
   ],
   "source": [
    "a = 0\n",
    "def f():\n",
    "    print(a)\n",
    "f()\n",
    "a"
   ]
  },
  {
   "cell_type": "code",
   "execution_count": 44,
   "id": "0727220a-4e56-4324-a452-6aff3c705c66",
   "metadata": {},
   "outputs": [
    {
     "name": "stdout",
     "output_type": "stream",
     "text": [
      "12\n"
     ]
    },
    {
     "data": {
      "text/plain": [
       "0"
      ]
     },
     "execution_count": 44,
     "metadata": {},
     "output_type": "execute_result"
    }
   ],
   "source": [
    "a = 0\n",
    "def f():\n",
    "    a = 2\n",
    "    a += 10\n",
    "    print(a)\n",
    "f()\n",
    "a"
   ]
  },
  {
   "cell_type": "code",
   "execution_count": 46,
   "id": "f6df09e0-6779-4a23-961e-d8c36abed4c1",
   "metadata": {},
   "outputs": [
    {
     "name": "stdout",
     "output_type": "stream",
     "text": [
      "12\n"
     ]
    },
    {
     "data": {
      "text/plain": [
       "12"
      ]
     },
     "execution_count": 46,
     "metadata": {},
     "output_type": "execute_result"
    }
   ],
   "source": [
    "a = 0\n",
    "def f():\n",
    "    global a\n",
    "    a = 2\n",
    "    a += 10\n",
    "    print(a)\n",
    "f()\n",
    "a"
   ]
  },
  {
   "cell_type": "code",
   "execution_count": 50,
   "id": "0519db68-bd76-4fc4-98e8-f187baefa41b",
   "metadata": {},
   "outputs": [
    {
     "data": {
      "text/plain": [
       "12"
      ]
     },
     "execution_count": 50,
     "metadata": {},
     "output_type": "execute_result"
    }
   ],
   "source": [
    "a = 0\n",
    "def f():\n",
    "    global c\n",
    "    c = 2\n",
    "    c += 10\n",
    "    print(b)\n",
    "c\n"
   ]
  },
  {
   "cell_type": "code",
   "execution_count": 53,
   "id": "084e51fe-b024-4c81-94af-f3768dcabb94",
   "metadata": {},
   "outputs": [
    {
     "name": "stdout",
     "output_type": "stream",
     "text": [
      "12\n"
     ]
    },
    {
     "data": {
      "text/plain": [
       "12"
      ]
     },
     "execution_count": 53,
     "metadata": {},
     "output_type": "execute_result"
    }
   ],
   "source": [
    "z = 0\n",
    "def f():\n",
    "    z = 30\n",
    "    global z\n",
    "    z = 2\n",
    "    z += 10\n",
    "    print(z)\n",
    "f()\n",
    "z\n"
   ]
  },
  {
   "cell_type": "code",
   "execution_count": 59,
   "id": "69928b9b-e168-4074-9bed-6d4c74fa71a0",
   "metadata": {},
   "outputs": [
    {
     "name": "stdout",
     "output_type": "stream",
     "text": [
      "10\n",
      "20\n",
      "30\n"
     ]
    },
    {
     "data": {
      "text/plain": [
       "20"
      ]
     },
     "execution_count": 59,
     "metadata": {},
     "output_type": "execute_result"
    }
   ],
   "source": [
    "u = 0\n",
    "def f():\n",
    "    u = 10\n",
    "    print(u)\n",
    "    def g():\n",
    "        global u\n",
    "        u = 20\n",
    "        print(u)\n",
    "\n",
    "        def h():\n",
    "            u = 30\n",
    "            print(u)\n",
    "\n",
    "        h()\n",
    "    g()\n",
    "\n",
    "f()\n",
    "u\n"
   ]
  },
  {
   "cell_type": "code",
   "execution_count": 64,
   "id": "1c7f0cc1-039e-4b29-bce2-8014c027a0df",
   "metadata": {},
   "outputs": [
    {
     "ename": "SyntaxError",
     "evalue": "no binding for nonlocal 'p' found (2368591411.py, line 10)",
     "output_type": "error",
     "traceback": [
      "\u001b[0;36m  Cell \u001b[0;32mIn[64], line 10\u001b[0;36m\u001b[0m\n\u001b[0;31m    nonlocal p\u001b[0m\n\u001b[0m    ^\u001b[0m\n\u001b[0;31mSyntaxError\u001b[0m\u001b[0;31m:\u001b[0m no binding for nonlocal 'p' found\n"
     ]
    }
   ],
   "source": [
    "def f():\n",
    "    v = 10\n",
    "    print(v)\n",
    "    def g():\n",
    "        global u\n",
    "        w = 20\n",
    "        print(w)\n",
    "\n",
    "        def h():\n",
    "            nonlocal p\n",
    "            p = 30\n",
    "            print(v)\n",
    "\n",
    "        h()\n",
    "    g()\n",
    "\n",
    "f()\n",
    "\n"
   ]
  },
  {
   "cell_type": "code",
   "execution_count": 65,
   "id": "3b9afa77-2cc9-4acc-a146-d82f99e18daa",
   "metadata": {},
   "outputs": [
    {
     "name": "stdout",
     "output_type": "stream",
     "text": [
      "10\n",
      "20\n",
      "30\n",
      "30\n"
     ]
    }
   ],
   "source": [
    "def f():\n",
    "    v = 10\n",
    "    print(v)\n",
    "    def g():\n",
    "        global u\n",
    "        w = 20\n",
    "        print(w)\n",
    "\n",
    "        def h():\n",
    "            nonlocal v\n",
    "            v = 30\n",
    "            print(v)\n",
    "\n",
    "        h()\n",
    "    g()\n",
    "    print(v)\n",
    "\n",
    "f()"
   ]
  },
  {
   "cell_type": "code",
   "execution_count": 68,
   "id": "9ffd581b-9dbf-42e5-ba1f-981fc80b47e7",
   "metadata": {},
   "outputs": [
    {
     "name": "stdout",
     "output_type": "stream",
     "text": [
      "10\n",
      "20\n",
      "30\n",
      "within g 30\n",
      "within f 10\n"
     ]
    }
   ],
   "source": [
    "def f():\n",
    "    v1 = 10\n",
    "    print(v1)\n",
    "    def g():\n",
    "        #global u\n",
    "        v1 = 20\n",
    "        print(v1)\n",
    "\n",
    "        def h():\n",
    "            nonlocal v1\n",
    "            v1 = 30\n",
    "            print(v1)\n",
    "\n",
    "        h()\n",
    "        print('within g', v1)\n",
    "    g()\n",
    "    print('within f', v1)\n",
    "\n",
    "f()"
   ]
  },
  {
   "cell_type": "code",
   "execution_count": 69,
   "id": "6a5fe757-08ef-40cf-8f2c-f3a9623f857c",
   "metadata": {},
   "outputs": [
    {
     "ename": "NameError",
     "evalue": "name 'slopes' is not defined",
     "output_type": "error",
     "traceback": [
      "\u001b[0;31m---------------------------------------------------------------------------\u001b[0m",
      "\u001b[0;31mNameError\u001b[0m                                 Traceback (most recent call last)",
      "Cell \u001b[0;32mIn[69], line 1\u001b[0m\n\u001b[0;32m----> 1\u001b[0m \u001b[43mslopes\u001b[49m(\u001b[38;5;241m933\u001b[39m,\u001b[38;5;241m155\u001b[39m)\n",
      "\u001b[0;31mNameError\u001b[0m: name 'slopes' is not defined"
     ]
    }
   ],
   "source": []
  },
  {
   "cell_type": "code",
   "execution_count": 70,
   "id": "1a739571-9e24-484e-83bd-9b64a7ead9e2",
   "metadata": {},
   "outputs": [],
   "source": [
    "from math import sqrt\n",
    "sqrt(8)"
   ]
  },
  {
   "cell_type": "code",
   "execution_count": 74,
   "id": "be9b9fbb-6e5d-4a42-ac78-7e159edd2beb",
   "metadata": {},
   "outputs": [
    {
     "data": {
      "text/plain": [
       "7635910"
      ]
     },
     "execution_count": 74,
     "metadata": {},
     "output_type": "execute_result"
    }
   ],
   "source": [
    "nb_of_options =0\n",
    "for i in range(1,int(sqrt(997))):\n",
    "    a = i*i\n",
    "    nb_of_options += 1\n",
    "    for j in range(i +1, int(sqrt(9998))):\n",
    "        b = j*j\n",
    "        nb_of_options += 1\n",
    "        for k in range(j+1,int(sqrt(9876532))):\n",
    "            nb_of_options += 1\n",
    "            c = k*k  \n",
    "nb_of_options\n"
   ]
  },
  {
   "cell_type": "code",
   "execution_count": 81,
   "id": "ce97e2b7-d455-440d-a116-3ab7118e4307",
   "metadata": {},
   "outputs": [],
   "source": [
    "def ok(seen_before, candidate):\n",
    "    for e in str(candidate):\n",
    "        if e in seen_before:\n",
    "            return \n",
    "        seen_before.add(e)\n",
    "    return seen_before"
   ]
  },
  {
   "cell_type": "code",
   "execution_count": null,
   "id": "d66fad9c-a347-453f-b0dc-05c092790e7f",
   "metadata": {},
   "outputs": [],
   "source": []
  },
  {
   "cell_type": "code",
   "execution_count": 82,
   "id": "5680b3e8-2b36-4760-afde-2a3696f52b02",
   "metadata": {},
   "outputs": [
    {
     "data": {
      "text/plain": [
       "{2, 3, 4, 5, 6}"
      ]
     },
     "execution_count": 82,
     "metadata": {},
     "output_type": "execute_result"
    }
   ],
   "source": [
    "{2,3,4}|{4,5,6}"
   ]
  },
  {
   "cell_type": "code",
   "execution_count": 87,
   "id": "c5a5f753-361e-4a96-a497-ffeff2c8e734",
   "metadata": {},
   "outputs": [
    {
     "data": {
      "text/plain": [
       "{2, 3, 4, 5, 6}"
      ]
     },
     "execution_count": 87,
     "metadata": {},
     "output_type": "execute_result"
    }
   ],
   "source": [
    "x = {2,3,4}\n",
    "y = {4,5,6}\n",
    "x.union(y)"
   ]
  },
  {
   "cell_type": "code",
   "execution_count": 84,
   "id": "318b8ec6-60ac-4c58-b862-2ebb2136e34d",
   "metadata": {},
   "outputs": [
    {
     "data": {
      "text/plain": [
       "['add',\n",
       " 'clear',\n",
       " 'copy',\n",
       " 'difference',\n",
       " 'difference_update',\n",
       " 'discard',\n",
       " 'intersection',\n",
       " 'intersection_update',\n",
       " 'isdisjoint',\n",
       " 'issubset',\n",
       " 'issuperset',\n",
       " 'pop',\n",
       " 'remove',\n",
       " 'symmetric_difference',\n",
       " 'symmetric_difference_update',\n",
       " 'union',\n",
       " 'update']"
      ]
     },
     "execution_count": 84,
     "metadata": {},
     "output_type": "execute_result"
    }
   ],
   "source": [
    "[s for s in dir(set) if not s.startswith('_')]"
   ]
  },
  {
   "cell_type": "code",
   "execution_count": 88,
   "id": "2214faa2-5e87-4bc2-897c-2fc286fe67f2",
   "metadata": {},
   "outputs": [
    {
     "data": {
      "text/plain": [
       "{2, 3, 4}"
      ]
     },
     "execution_count": 88,
     "metadata": {},
     "output_type": "execute_result"
    }
   ],
   "source": [
    "x"
   ]
  },
  {
   "cell_type": "code",
   "execution_count": 89,
   "id": "ba2d4409-014a-4b81-9ec3-70af2bca8cb2",
   "metadata": {},
   "outputs": [
    {
     "data": {
      "text/plain": [
       "{2, 3, 5, 6}"
      ]
     },
     "execution_count": 89,
     "metadata": {},
     "output_type": "execute_result"
    }
   ],
   "source": [
    "x^y"
   ]
  },
  {
   "cell_type": "code",
   "execution_count": 90,
   "id": "b6c9a26b-006c-4b16-90b1-b09b654cf383",
   "metadata": {},
   "outputs": [
    {
     "data": {
      "text/plain": [
       "{4}"
      ]
     },
     "execution_count": 90,
     "metadata": {},
     "output_type": "execute_result"
    }
   ],
   "source": [
    "x&y"
   ]
  },
  {
   "cell_type": "code",
   "execution_count": 92,
   "id": "c219e5fd-dfcb-4e0c-a6f3-31ef81f19e15",
   "metadata": {},
   "outputs": [],
   "source": [
    "def ok(seen_before, candidate):\n",
    "    candidate_as_str=str(candidate)\n",
    "    len(seen_before | set(candidate_as_str)) ==\\\n",
    "            len(seen_before) +len(set(candidate_as_str)) \n",
    "    return seen_before"
   ]
  },
  {
   "cell_type": "code",
   "execution_count": 94,
   "id": "d3f7aa6a-7133-4d4f-9729-8124ce9f0b0c",
   "metadata": {},
   "outputs": [
    {
     "data": {
      "text/plain": [
       "True"
      ]
     },
     "execution_count": 94,
     "metadata": {},
     "output_type": "execute_result"
    }
   ],
   "source": [
    "len({2, 3, 4} | set(str(56))) == len({2, 3, 4})+ len(set(str(56)) )"
   ]
  },
  {
   "cell_type": "code",
   "execution_count": 96,
   "id": "c3f422bc-8c24-4dfc-b543-52823ea2f69c",
   "metadata": {},
   "outputs": [
    {
     "data": {
      "text/plain": [
       "True"
      ]
     },
     "execution_count": 96,
     "metadata": {},
     "output_type": "execute_result"
    }
   ],
   "source": [
    "len({2, 3, 4} | set(str(55))) == len({2, 3, 4})+ len(set(str(55)) )"
   ]
  },
  {
   "cell_type": "code",
   "execution_count": 98,
   "id": "fb9fb4ba-1e34-4441-bcc0-bd155dbce850",
   "metadata": {},
   "outputs": [],
   "source": [
    "def ok(seen_before, candidate):\n",
    "    candidate_as_str=str(candidate)\n",
    "    len(seen_before | set(candidate_as_str)) ==\\\n",
    "            len(seen_before) +len(candidate_as_str)\n",
    "    return seen_before"
   ]
  },
  {
   "cell_type": "code",
   "execution_count": 99,
   "id": "25176207-dac4-44fa-9396-dc92489545eb",
   "metadata": {},
   "outputs": [
    {
     "data": {
      "text/plain": [
       "{' 3', '2', '4'}"
      ]
     },
     "execution_count": 99,
     "metadata": {},
     "output_type": "execute_result"
    }
   ],
   "source": [
    "ok({'2',' 3', '4'},56)"
   ]
  },
  {
   "cell_type": "code",
   "execution_count": 100,
   "id": "2218d65e-9ca5-4e28-99dd-249c4d0f5620",
   "metadata": {},
   "outputs": [],
   "source": [
    "def ok(seen_before, candidate):\n",
    "    candidate_as_str=str(candidate)\n",
    "    new_digits_seen = seen_befor | set(candidate_as_str)\n",
    "    len(seen_before | set(candidate_as_str)) ==\\\n",
    "            len(seen_before) +len(candidate_as_str)\n",
    "    return new_digits_seen"
   ]
  },
  {
   "cell_type": "code",
   "execution_count": 101,
   "id": "c3dde849-b5b0-418c-9598-1e0fabc41900",
   "metadata": {},
   "outputs": [
    {
     "ename": "NameError",
     "evalue": "name 'seen_befor' is not defined",
     "output_type": "error",
     "traceback": [
      "\u001b[0;31m---------------------------------------------------------------------------\u001b[0m",
      "\u001b[0;31mNameError\u001b[0m                                 Traceback (most recent call last)",
      "Cell \u001b[0;32mIn[101], line 1\u001b[0m\n\u001b[0;32m----> 1\u001b[0m \u001b[43mok\u001b[49m\u001b[43m(\u001b[49m\u001b[43m{\u001b[49m\u001b[38;5;124;43m'\u001b[39;49m\u001b[38;5;124;43m2\u001b[39;49m\u001b[38;5;124;43m'\u001b[39;49m\u001b[43m,\u001b[49m\u001b[38;5;124;43m'\u001b[39;49m\u001b[38;5;124;43m 3\u001b[39;49m\u001b[38;5;124;43m'\u001b[39;49m\u001b[43m,\u001b[49m\u001b[43m \u001b[49m\u001b[38;5;124;43m'\u001b[39;49m\u001b[38;5;124;43m4\u001b[39;49m\u001b[38;5;124;43m'\u001b[39;49m\u001b[43m}\u001b[49m\u001b[43m,\u001b[49m\u001b[38;5;241;43m56\u001b[39;49m\u001b[43m)\u001b[49m\n",
      "Cell \u001b[0;32mIn[100], line 3\u001b[0m, in \u001b[0;36mok\u001b[0;34m(seen_before, candidate)\u001b[0m\n\u001b[1;32m      1\u001b[0m \u001b[38;5;28;01mdef\u001b[39;00m \u001b[38;5;21mok\u001b[39m(seen_before, candidate):\n\u001b[1;32m      2\u001b[0m     candidate_as_str\u001b[38;5;241m=\u001b[39m\u001b[38;5;28mstr\u001b[39m(candidate)\n\u001b[0;32m----> 3\u001b[0m     new_digits_seen \u001b[38;5;241m=\u001b[39m \u001b[43mseen_befor\u001b[49m \u001b[38;5;241m|\u001b[39m \u001b[38;5;28mset\u001b[39m(candidate_as_str)\n\u001b[1;32m      4\u001b[0m     \u001b[38;5;28mlen\u001b[39m(seen_before \u001b[38;5;241m|\u001b[39m \u001b[38;5;28mset\u001b[39m(candidate_as_str)) \u001b[38;5;241m==\u001b[39m\\\n\u001b[1;32m      5\u001b[0m             \u001b[38;5;28mlen\u001b[39m(seen_before) \u001b[38;5;241m+\u001b[39m\u001b[38;5;28mlen\u001b[39m(candidate_as_str)\n\u001b[1;32m      6\u001b[0m     \u001b[38;5;28;01mreturn\u001b[39;00m new_digits_seen\n",
      "\u001b[0;31mNameError\u001b[0m: name 'seen_befor' is not defined"
     ]
    }
   ],
   "source": [
    "ok({'2',' 3', '4'},56)"
   ]
  },
  {
   "cell_type": "code",
   "execution_count": null,
   "id": "15756752-f94a-42e8-8f33-216d2ba95e9d",
   "metadata": {},
   "outputs": [],
   "source": []
  }
 ],
 "metadata": {
  "kernelspec": {
   "display_name": "Python 3 (d2l-env)",
   "language": "python",
   "name": "d2l-env"
  },
  "language_info": {
   "codemirror_mode": {
    "name": "ipython",
    "version": 3
   },
   "file_extension": ".py",
   "mimetype": "text/x-python",
   "name": "python",
   "nbconvert_exporter": "python",
   "pygments_lexer": "ipython3",
   "version": "3.11.8"
  }
 },
 "nbformat": 4,
 "nbformat_minor": 5
}

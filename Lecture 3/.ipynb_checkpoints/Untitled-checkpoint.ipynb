{
 "cells": [
  {
   "cell_type": "code",
   "execution_count": 1,
   "id": "6a275c90-45db-4931-9578-1142039e1ab4",
   "metadata": {},
   "outputs": [
    {
     "name": "stdout",
     "output_type": "stream",
     "text": [
      "Hello-World-Python\n"
     ]
    }
   ],
   "source": [
    "words = [\"Hello\", \"World\", \"Python\"]\n",
    "result = \"-\".join(words)\n",
    "print(result)  # 输出: Hello-World-Python\n"
   ]
  },
  {
   "cell_type": "code",
   "execution_count": 2,
   "id": "4b7b89cb",
   "metadata": {},
   "outputs": [
    {
     "name": "stdout",
     "output_type": "stream",
     "text": [
      "This is a test\n"
     ]
    }
   ],
   "source": [
    "sentence = [\"This\", \"is\", \"a\", \"test\"]\n",
    "print(\" \".join(sentence))  # 输出: This is a test\n"
   ]
  },
  {
   "cell_type": "code",
   "execution_count": 3,
   "id": "ade4bc87",
   "metadata": {},
   "outputs": [
    {
     "name": "stdout",
     "output_type": "stream",
     "text": [
      "True\n"
     ]
    }
   ],
   "source": [
    "text = 'hello world'\n",
    "print(text.startswith('hello'))"
   ]
  },
  {
   "cell_type": "code",
   "execution_count": 5,
   "id": "d3fe5766",
   "metadata": {},
   "outputs": [
    {
     "name": "stdout",
     "output_type": "stream",
     "text": [
      "[1, 3]\n"
     ]
    }
   ],
   "source": [
    "text = [1, 2, 3]\n",
    "text.remove(2)\n",
    "print(text)"
   ]
  },
  {
   "cell_type": "code",
   "execution_count": 8,
   "id": "186a1d80",
   "metadata": {},
   "outputs": [
    {
     "name": "stdout",
     "output_type": "stream",
     "text": [
      "['a', 3]\n"
     ]
    }
   ],
   "source": [
    "text = ['a', 2, 3]\n",
    "text.remove(2)\n",
    "print(text)"
   ]
  },
  {
   "cell_type": "code",
   "execution_count": 11,
   "id": "46fdf6bc",
   "metadata": {},
   "outputs": [
    {
     "name": "stdout",
     "output_type": "stream",
     "text": [
      "[2, 3, 4, 5, 6, 7, 2, 2, 3]\n"
     ]
    }
   ],
   "source": [
    "L = [1,2,3,4,5,6,7,1,2,1,2,3]\n",
    "L= [x for x in L if x != 1 and 2]\n",
    "print(L)"
   ]
  },
  {
   "cell_type": "code",
   "execution_count": 14,
   "id": "5d2faad5",
   "metadata": {},
   "outputs": [
    {
     "name": "stdout",
     "output_type": "stream",
     "text": [
      "1\n"
     ]
    }
   ],
   "source": [
    "L = [1,2,3,4,5,6,7,1,2,1,2,3]\n",
    "result = []\n",
    "i = 0\n",
    "if i < len(L):\n",
    "    print(L.index(2,0))\n",
    "    i += 1"
   ]
  },
  {
   "cell_type": "code",
   "execution_count": 23,
   "id": "0e16b78b",
   "metadata": {},
   "outputs": [
    {
     "name": "stdout",
     "output_type": "stream",
     "text": [
      "1\n",
      "8\n",
      "10\n"
     ]
    }
   ],
   "source": [
    "L = [1,2,3,4,5,6,7,1,2,1,2,3]\n",
    "a = 0\n",
    "while True:\n",
    "    try:\n",
    "        a = L.index(2,a)\n",
    "        print(a)\n",
    "        a += 1\n",
    "    except  ValueError:\n",
    "        break\n"
   ]
  },
  {
   "cell_type": "code",
   "execution_count": 3,
   "id": "3bd94748",
   "metadata": {},
   "outputs": [
    {
     "name": "stdout",
     "output_type": "stream",
     "text": [
      "exit\n"
     ]
    }
   ],
   "source": [
    "while True:\n",
    "    name=input(\"输入q结束循环：\")\n",
    "    if name == 'q':\n",
    "        print('exit')\n",
    "        break\n",
    "    print(f\"hello, {name}!\")"
   ]
  },
  {
   "cell_type": "code",
   "execution_count": 1,
   "id": "5b69d23a",
   "metadata": {},
   "outputs": [
    {
     "name": "stdout",
     "output_type": "stream",
     "text": [
      "你好, !\n",
      "退出程序\n"
     ]
    }
   ],
   "source": [
    "while True:\n",
    "    name = input(\"请输入你的名字（输入 'q' 退出）：\")\n",
    "    if name == \"q\":\n",
    "        print(\"退出程序\")\n",
    "        break  # 终止循环\n",
    "    print(f\"你好, {name}!\")\n"
   ]
  },
  {
   "cell_type": "code",
   "execution_count": 5,
   "id": "be699074",
   "metadata": {},
   "outputs": [
    {
     "name": "stdout",
     "output_type": "stream",
     "text": [
      "dict_keys(['name', 'age', 'city'])\n"
     ]
    }
   ],
   "source": [
    "d = {'name': 'Alice', 'age': 25, 'city': 'New York'}\n",
    "print(d.keys())"
   ]
  },
  {
   "cell_type": "code",
   "execution_count": 9,
   "id": "c2a3e6d8",
   "metadata": {},
   "outputs": [
    {
     "name": "stdout",
     "output_type": "stream",
     "text": [
      "['name', 'age', 'city']\n"
     ]
    }
   ],
   "source": [
    "kesy_list=list(d.keys())\n",
    "print(kesy_list)"
   ]
  },
  {
   "cell_type": "code",
   "execution_count": 10,
   "id": "22d5c412",
   "metadata": {},
   "outputs": [
    {
     "name": "stdout",
     "output_type": "stream",
     "text": [
      "list[dict_keys(['name', 'age', 'city'])]\n"
     ]
    }
   ],
   "source": [
    "kesy_list=list[d.keys()]\n",
    "print(kesy_list)"
   ]
  },
  {
   "cell_type": "code",
   "execution_count": 12,
   "id": "43be3dd7",
   "metadata": {},
   "outputs": [
    {
     "name": "stdout",
     "output_type": "stream",
     "text": [
      "name\n",
      "age\n",
      "city\n"
     ]
    }
   ],
   "source": [
    "for key in d.keys():\n",
    "    print(key)"
   ]
  },
  {
   "cell_type": "code",
   "execution_count": 19,
   "id": "315e4be8",
   "metadata": {},
   "outputs": [
    {
     "name": "stdout",
     "output_type": "stream",
     "text": [
      "['a\\n', 'e\\n', 'w\\n', 'q\\n', 'qw\\n', 'eqw\\n', 'eqwqweq\\n', 'qe\\n', '-qwe\\n', '/qwewdw\\n']\n"
     ]
    }
   ],
   "source": [
    "with open(\"example.txt\",\"r\") as file:\n",
    "    lines = file.readlines()\n",
    "    print(lines)"
   ]
  },
  {
   "cell_type": "code",
   "execution_count": 22,
   "id": "2a64462b",
   "metadata": {},
   "outputs": [
    {
     "name": "stdout",
     "output_type": "stream",
     "text": [
      "['a', 'e', 'w', 'q', 'qw', 'eqw', 'eqwqweq', 'qe', 'qwe', 'qwewdw']\n"
     ]
    }
   ],
   "source": [
    "lines = [line.strip('-' and '/') for line in lines]\n",
    "print(lines)"
   ]
  },
  {
   "cell_type": "code",
   "execution_count": 23,
   "id": "1f3a2687",
   "metadata": {},
   "outputs": [
    {
     "name": "stdout",
     "output_type": "stream",
     "text": [
      "12\n"
     ]
    }
   ],
   "source": [
    "def add(a, b):\n",
    "    return a + b\n",
    "print(add(3, 9))"
   ]
  },
  {
   "cell_type": "code",
   "execution_count": 24,
   "id": "e9b13df5",
   "metadata": {},
   "outputs": [
    {
     "name": "stdout",
     "output_type": "stream",
     "text": [
      "wo-ai\n"
     ]
    }
   ],
   "source": [
    "print('wo', 'ai', sep='-')"
   ]
  },
  {
   "cell_type": "code",
   "execution_count": 11,
   "id": "980cf065",
   "metadata": {},
   "outputs": [
    {
     "data": {
      "text/plain": [
       "11111111"
      ]
     },
     "execution_count": 11,
     "metadata": {},
     "output_type": "execute_result"
    }
   ],
   "source": [
    "int('11111111')"
   ]
  },
  {
   "cell_type": "code",
   "execution_count": 12,
   "id": "fc57bf12-5190-48f9-954c-074c95c180b5",
   "metadata": {},
   "outputs": [
    {
     "data": {
      "text/plain": [
       "255"
      ]
     },
     "execution_count": 12,
     "metadata": {},
     "output_type": "execute_result"
    }
   ],
   "source": [
    "int('11111111',2)"
   ]
  },
  {
   "cell_type": "code",
   "execution_count": 13,
   "id": "c35f5e6e-f24f-44a0-82a4-f597493ef33d",
   "metadata": {},
   "outputs": [
    {
     "data": {
      "text/plain": [
       "18"
      ]
     },
     "execution_count": 13,
     "metadata": {},
     "output_type": "execute_result"
    }
   ],
   "source": [
    "0b10010"
   ]
  },
  {
   "cell_type": "code",
   "execution_count": 14,
   "id": "d716ca1b-7a38-4f16-866e-a7a6a94acc8e",
   "metadata": {},
   "outputs": [
    {
     "ename": "SyntaxError",
     "evalue": "invalid digit '9' in octal literal (2034879939.py, line 1)",
     "output_type": "error",
     "traceback": [
      "\u001b[0;36m  Cell \u001b[0;32mIn[14], line 1\u001b[0;36m\u001b[0m\n\u001b[0;31m    0o913\u001b[0m\n\u001b[0m      ^\u001b[0m\n\u001b[0;31mSyntaxError\u001b[0m\u001b[0;31m:\u001b[0m invalid digit '9' in octal literal\n"
     ]
    }
   ],
   "source": [
    "0o913"
   ]
  },
  {
   "cell_type": "code",
   "execution_count": 15,
   "id": "3fde5aac-27a9-4fc8-87e2-cf2a54a76575",
   "metadata": {},
   "outputs": [
    {
     "data": {
      "text/plain": [
       "459"
      ]
     },
     "execution_count": 15,
     "metadata": {},
     "output_type": "execute_result"
    }
   ],
   "source": [
    "0o713"
   ]
  },
  {
   "cell_type": "code",
   "execution_count": 16,
   "id": "86af45ac-590f-49d3-8e4b-0879686a09a7",
   "metadata": {},
   "outputs": [
    {
     "data": {
      "text/plain": [
       "708"
      ]
     },
     "execution_count": 16,
     "metadata": {},
     "output_type": "execute_result"
    }
   ],
   "source": [
    "0x2c4"
   ]
  },
  {
   "cell_type": "code",
   "execution_count": 17,
   "id": "64d9f00e-b042-4e1f-9fc2-5d9ca67fb5f6",
   "metadata": {},
   "outputs": [
    {
     "data": {
      "text/plain": [
       "'1011010'"
      ]
     },
     "execution_count": 17,
     "metadata": {},
     "output_type": "execute_result"
    }
   ],
   "source": [
    "f'{90:b}'"
   ]
  },
  {
   "cell_type": "code",
   "execution_count": 18,
   "id": "e35860dc-3f9a-4d8f-8f3e-e3ce47a2183b",
   "metadata": {},
   "outputs": [
    {
     "data": {
      "text/plain": [
       "'1010'"
      ]
     },
     "execution_count": 18,
     "metadata": {},
     "output_type": "execute_result"
    }
   ],
   "source": [
    "f'{10:b}'"
   ]
  },
  {
   "cell_type": "code",
   "execution_count": 19,
   "id": "2d2fc5d4-c42e-4dcc-af1b-d15d52d000ba",
   "metadata": {},
   "outputs": [
    {
     "data": {
      "text/plain": [
       "'    1010'"
      ]
     },
     "execution_count": 19,
     "metadata": {},
     "output_type": "execute_result"
    }
   ],
   "source": [
    "f'{10:8b}'"
   ]
  },
  {
   "cell_type": "code",
   "execution_count": 21,
   "id": "270ba08f-3332-4776-bb6e-99e3e38bb029",
   "metadata": {},
   "outputs": [
    {
     "data": {
      "text/plain": [
       "'00001010'"
      ]
     },
     "execution_count": 21,
     "metadata": {},
     "output_type": "execute_result"
    }
   ],
   "source": [
    "f'{10:08b}'"
   ]
  },
  {
   "cell_type": "code",
   "execution_count": 26,
   "id": "c05d25b3-2e77-4a47-a09b-152dc100e2ac",
   "metadata": {},
   "outputs": [],
   "source": [
    "x=f'{90:08b}'"
   ]
  },
  {
   "cell_type": "code",
   "execution_count": 28,
   "id": "d7669ee8-be09-4acc-a0f9-95eed356d314",
   "metadata": {},
   "outputs": [
    {
     "name": "stdout",
     "output_type": "stream",
     "text": [
      "['01011010']\n"
     ]
    }
   ],
   "source": [
    "print(x.split( ))"
   ]
  },
  {
   "cell_type": "code",
   "execution_count": 29,
   "id": "a0bc70b9-4b58-4d91-92fb-82c52d734c57",
   "metadata": {},
   "outputs": [
    {
     "data": {
      "text/plain": [
       "[0, 1, 0, 1, 1, 0, 1, 0]"
      ]
     },
     "execution_count": 29,
     "metadata": {},
     "output_type": "execute_result"
    }
   ],
   "source": [
    "[0,1,0,1,1,0,1,0]"
   ]
  },
  {
   "cell_type": "code",
   "execution_count": 30,
   "id": "fe4c7724-fe11-453c-9da6-3c1306ee8b7b",
   "metadata": {},
   "outputs": [],
   "source": [
    "rule_nb = 90"
   ]
  },
  {
   "cell_type": "code",
   "execution_count": 31,
   "id": "958d0fdc-2b6d-4acc-81f0-5504530405c7",
   "metadata": {},
   "outputs": [
    {
     "data": {
      "text/plain": [
       "'01011010'"
      ]
     },
     "execution_count": 31,
     "metadata": {},
     "output_type": "execute_result"
    }
   ],
   "source": [
    "f'{rule_nb:08b}'"
   ]
  },
  {
   "cell_type": "code",
   "execution_count": 32,
   "id": "6ef614ba-01b3-4bcf-928c-3f7ab5972770",
   "metadata": {},
   "outputs": [
    {
     "data": {
      "text/plain": [
       "['0', '1', '0', '1', '1', '0', '1', '0']"
      ]
     },
     "execution_count": 32,
     "metadata": {},
     "output_type": "execute_result"
    }
   ],
   "source": [
    "[e for e in f'{rule_nb:08b}']"
   ]
  },
  {
   "cell_type": "code",
   "execution_count": 33,
   "id": "4b59f445-da68-4044-8d5f-5a65d41845db",
   "metadata": {},
   "outputs": [
    {
     "data": {
      "text/plain": [
       "[0, 1, 0, 1, 1, 0, 1, 0]"
      ]
     },
     "execution_count": 33,
     "metadata": {},
     "output_type": "execute_result"
    }
   ],
   "source": [
    "[int(e) for e in f'{rule_nb:08b}']"
   ]
  },
  {
   "cell_type": "code",
   "execution_count": 35,
   "id": "94fa12aa-4787-4465-b063-5bbbf91d78f8",
   "metadata": {},
   "outputs": [],
   "source": [
    "for i in range(8):\n",
    "    f'{i:b}'"
   ]
  },
  {
   "cell_type": "code",
   "execution_count": 38,
   "id": "c2f78afd-011b-40f7-8e00-d8533f9fd0c5",
   "metadata": {},
   "outputs": [],
   "source": [
    "for i in range(8):\n",
    "    (int(b) for b in f'{i:03b}')"
   ]
  },
  {
   "cell_type": "code",
   "execution_count": 41,
   "id": "91b817fe-fe03-4e46-be3e-434e4e376a37",
   "metadata": {},
   "outputs": [
    {
     "data": {
      "text/plain": [
       "[0, 1, 0, 1, 1, 0, 1, 0]"
      ]
     },
     "execution_count": 41,
     "metadata": {},
     "output_type": "execute_result"
    }
   ],
   "source": [
    "rule_values =[int(e) for e in f'{rule_nb:08b}']\n",
    "rule_values"
   ]
  },
  {
   "cell_type": "code",
   "execution_count": 56,
   "id": "c5bb5113-269f-4866-a63d-fdc349360154",
   "metadata": {},
   "outputs": [],
   "source": [
    "rules = {tuple(int(b) for b in f'{i:03b}'): rule_values[7-i] for i in range(8)}"
   ]
  },
  {
   "cell_type": "code",
   "execution_count": 55,
   "id": "47c836c9-5eb6-488c-9feb-f2696df4df70",
   "metadata": {},
   "outputs": [
    {
     "data": {
      "text/plain": [
       "{(0, 0, 0): 0,\n",
       " (0, 0, 1): 1,\n",
       " (0, 1, 0): 0,\n",
       " (0, 1, 1): 1,\n",
       " (1, 0, 0): 1,\n",
       " (1, 0, 1): 0,\n",
       " (1, 1, 0): 1,\n",
       " (1, 1, 1): 0}"
      ]
     },
     "execution_count": 55,
     "metadata": {},
     "output_type": "execute_result"
    }
   ],
   "source": [
    "rules"
   ]
  },
  {
   "cell_type": "code",
   "execution_count": 54,
   "id": "97f5ab86-f5c4-40ae-8517-aaf6104ba025",
   "metadata": {},
   "outputs": [
    {
     "data": {
      "text/plain": [
       "[0, 1, 0, 1, 1, 0, 1, 0]"
      ]
     },
     "execution_count": 54,
     "metadata": {},
     "output_type": "execute_result"
    }
   ],
   "source": [
    " rule_values"
   ]
  },
  {
   "cell_type": "code",
   "execution_count": 57,
   "id": "eaadd339-7ab8-4fcf-aa94-90a4c2966cc4",
   "metadata": {},
   "outputs": [],
   "source": [
    "rules = {tuple(int(b) for b in f'{i:03b}'): rule_values[i] for i in range(8)}"
   ]
  },
  {
   "cell_type": "code",
   "execution_count": 58,
   "id": "1e5a9e38-d44d-4de5-99c2-31d1d4d4e3da",
   "metadata": {},
   "outputs": [
    {
     "data": {
      "text/plain": [
       "[0, 1, 0, 1, 1, 0, 1, 0]"
      ]
     },
     "execution_count": 58,
     "metadata": {},
     "output_type": "execute_result"
    }
   ],
   "source": [
    " rule_values"
   ]
  },
  {
   "cell_type": "code",
   "execution_count": 59,
   "id": "471b8563-b56f-4b74-b0d0-e106a710e33c",
   "metadata": {},
   "outputs": [
    {
     "data": {
      "text/plain": [
       "{(0, 0, 0): 0,\n",
       " (0, 0, 1): 1,\n",
       " (0, 1, 0): 0,\n",
       " (0, 1, 1): 1,\n",
       " (1, 0, 0): 1,\n",
       " (1, 0, 1): 0,\n",
       " (1, 1, 0): 1,\n",
       " (1, 1, 1): 0}"
      ]
     },
     "execution_count": 59,
     "metadata": {},
     "output_type": "execute_result"
    }
   ],
   "source": [
    "rules"
   ]
  },
  {
   "cell_type": "code",
   "execution_count": 60,
   "id": "b5a42c15-717b-4d8d-839f-30eb1429a919",
   "metadata": {},
   "outputs": [
    {
     "data": {
      "text/plain": [
       "'100111'"
      ]
     },
     "execution_count": 60,
     "metadata": {},
     "output_type": "execute_result"
    }
   ],
   "source": [
    "f'{39:b}'"
   ]
  },
  {
   "cell_type": "code",
   "execution_count": 62,
   "id": "4062a4e4-b57c-4258-af67-290540f43b67",
   "metadata": {},
   "outputs": [
    {
     "data": {
      "text/plain": [
       "(19, 1)"
      ]
     },
     "execution_count": 62,
     "metadata": {},
     "output_type": "execute_result"
    }
   ],
   "source": [
    "39//2, 39 % 2"
   ]
  },
  {
   "cell_type": "code",
   "execution_count": 63,
   "id": "43d081fd-0e0a-4bea-91e8-eb7a3e04fb28",
   "metadata": {},
   "outputs": [
    {
     "data": {
      "text/plain": [
       "(9, 3)"
      ]
     },
     "execution_count": 63,
     "metadata": {},
     "output_type": "execute_result"
    }
   ],
   "source": [
    "39//2**2, 39 % 2**2"
   ]
  },
  {
   "cell_type": "code",
   "execution_count": 64,
   "id": "58da1549-bb3a-4b39-ab4a-804bc90b7375",
   "metadata": {},
   "outputs": [
    {
     "data": {
      "text/plain": [
       "'1001'"
      ]
     },
     "execution_count": 64,
     "metadata": {},
     "output_type": "execute_result"
    }
   ],
   "source": [
    "f'{9:b}'"
   ]
  },
  {
   "cell_type": "code",
   "execution_count": 67,
   "id": "ac9ce01e-d22a-4189-8afa-b6e3579431eb",
   "metadata": {},
   "outputs": [
    {
     "data": {
      "text/plain": [
       "(1, 0, 1)"
      ]
     },
     "execution_count": 67,
     "metadata": {},
     "output_type": "execute_result"
    }
   ],
   "source": [
    "5//4, 5//2%2, 5%2"
   ]
  },
  {
   "cell_type": "code",
   "execution_count": 68,
   "id": "e984523b-4870-4062-bcc4-497ca320de27",
   "metadata": {},
   "outputs": [],
   "source": [
    " for i in range(8):\n",
    "     (i // 4, i//2%2,i%2)"
   ]
  },
  {
   "cell_type": "code",
   "execution_count": null,
   "id": "dbd5fb5d-d5c4-4913-acde-c58c5ae6f2c3",
   "metadata": {},
   "outputs": [],
   "source": [
    "rules = {tuple(int(b) for b in f'{i:03b}'): rule_values[i] for i in range(8)}\n",
    "rules = {tuple(int(b) for b in f'{i:03b}'): rule_values[7-i] for i in range(8)}"
   ]
  },
  {
   "cell_type": "code",
   "execution_count": 69,
   "id": "3cf2c433-f22a-477a-93f3-ee784c741e44",
   "metadata": {},
   "outputs": [],
   "source": [
    "rules = {(i // 4, i//2%2,i%2): rule_values[7-i] for i in range(8)}"
   ]
  },
  {
   "cell_type": "code",
   "execution_count": 70,
   "id": "705d118d-cd63-4ebe-8aef-6eb7f0c162bf",
   "metadata": {},
   "outputs": [
    {
     "data": {
      "text/plain": [
       "{(0, 0, 0): 0,\n",
       " (0, 0, 1): 1,\n",
       " (0, 1, 0): 0,\n",
       " (0, 1, 1): 1,\n",
       " (1, 0, 0): 1,\n",
       " (1, 0, 1): 0,\n",
       " (1, 1, 0): 1,\n",
       " (1, 1, 1): 0}"
      ]
     },
     "execution_count": 70,
     "metadata": {},
     "output_type": "execute_result"
    }
   ],
   "source": [
    "rules"
   ]
  },
  {
   "cell_type": "code",
   "execution_count": null,
   "id": "3797f1ec-4582-428c-bf99-f0b5e36ed66f",
   "metadata": {},
   "outputs": [],
   "source": []
  }
 ],
 "metadata": {
  "kernelspec": {
   "display_name": "Python 3 (d2l-env)",
   "language": "python",
   "name": "d2l-env"
  },
  "language_info": {
   "codemirror_mode": {
    "name": "ipython",
    "version": 3
   },
   "file_extension": ".py",
   "mimetype": "text/x-python",
   "name": "python",
   "nbconvert_exporter": "python",
   "pygments_lexer": "ipython3",
   "version": "3.11.8"
  }
 },
 "nbformat": 4,
 "nbformat_minor": 5
}

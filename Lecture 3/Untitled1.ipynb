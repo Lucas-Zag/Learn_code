{
 "cells": [
  {
   "cell_type": "code",
   "execution_count": 9,
   "id": "bf33b63a-1736-43c0-981d-63381c3499da",
   "metadata": {},
   "outputs": [
    {
     "name": "stdin",
     "output_type": "stream",
     "text": [
      "Enter an integer: 9\n"
     ]
    },
    {
     "name": "stdout",
     "output_type": "stream",
     "text": [
      "1001\n"
     ]
    }
   ],
   "source": [
    "\n",
    "\n",
    "L = input('Enter an integer:')\n",
    "inpt_nb = int(L)\n",
    "j = 0\n",
    "l = 0\n",
    "k = 0\n",
    "trans_nb = f'{inpt_nb:03b}'.split()\n",
    "list_nb = list(str(trans_nb))\n",
    "    \n",
    "    for i in list_nb:\n",
    "        if i == 1:\n",
    "            k += 1\n",
    "            sum_1 ='\\n' + ' '*(k-1)+'⬂'\n",
    "            print(sum_1)\n",
    "        elif i ==0:\n",
    "            sum_0 ='\\n' + ' '*(k-1)+'⇩'\n",
    "            print(sum_0)\n",
    "            \n",
    "            \n",
    "            \n",
    "        k = ' '*j + '⬂' + str(j)\n",
    "        j += 1\n",
    "        \n",
    "    print (k)\n",
    "\n",
    "    F = lambda x: ' '*(k-1) + ⬂\\n     #k present the num of '1'\n",
    "\n",
    "\n",
    "\n",
    " #for i in \n",
    "    #for z in trans_nb:\n",
    "        #if z == 1:\n",
    "            #k += 1\n"
   ]
  },
  {
   "cell_type": "code",
   "execution_count": 10,
   "id": "5a5e8287-37a1-46d0-8176-339ef53d8a09",
   "metadata": {},
   "outputs": [
    {
     "ename": "SyntaxError",
     "evalue": "invalid character '⬂' (U+2B02) (3469671287.py, line 1)",
     "output_type": "error",
     "traceback": [
      "\u001b[0;36m  Cell \u001b[0;32mIn[10], line 1\u001b[0;36m\u001b[0m\n\u001b[0;31m    ⬂\u001b[0m\n\u001b[0m    ^\u001b[0m\n\u001b[0;31mSyntaxError\u001b[0m\u001b[0;31m:\u001b[0m invalid character '⬂' (U+2B02)\n"
     ]
    }
   ],
   "source": [
    "⬂\n",
    "⇩\n",
    "⬂"
   ]
  },
  {
   "cell_type": "code",
   "execution_count": 25,
   "id": "56095f66-bff2-447a-8760-dd7409fb4789",
   "metadata": {},
   "outputs": [
    {
     "name": "stdout",
     "output_type": "stream",
     "text": [
      "['\\n', '*', '*', '*', '*', '*', '*', '*', '*', '0']\n",
      "['\\n', ' ', '*', '*', '*', '*', '*', '*', '*', '*', '1']\n",
      "['\\n', ' ', ' ', '*', '*', '*', '*', '*', '*', '*', '*', '2']\n"
     ]
    }
   ],
   "source": [
    "j = 0\n",
    "for i in range(3):\n",
    "    k = '\\n'+ ' '*j + '********' + str(j)\n",
    "    j += 1\n",
    "    num = list(str(k))\n",
    "    print(num)"
   ]
  },
  {
   "cell_type": "code",
   "execution_count": 26,
   "id": "e737ebe3-9107-4c7d-85e1-415c5bcd2ee1",
   "metadata": {},
   "outputs": [
    {
     "name": "stdout",
     "output_type": "stream",
     "text": [
      "['\\n', '⬂', '0']\n",
      "['\\n', ' ', '⬂', '1']\n",
      "['\\n', ' ', ' ', '⬂', '2']\n"
     ]
    }
   ],
   "source": [
    "j = 0\n",
    "for i in range(3):\n",
    "    k = '\\n'+ ' '*j + '⬂' + str(j)\n",
    "    j += 1\n",
    "    num = list(str(k))\n",
    "    print(num)"
   ]
  },
  {
   "cell_type": "code",
   "execution_count": 75,
   "id": "a8bcfe52-1f2b-4908-81e2-311b28cd0128",
   "metadata": {},
   "outputs": [
    {
     "name": "stdin",
     "output_type": "stream",
     "text": [
      "Enter an integer: +193090137\n"
     ]
    },
    {
     "name": "stdout",
     "output_type": "stream",
     "text": [
      "['1', '1', '1', '1', '1', '0', '0', '2', '2', '2', '2', '2', '2', '1', '2', '1', '2', '0']\n",
      "\n",
      " ⬁\n",
      "\n",
      "  ⬁\n",
      "\n",
      "   ⬁\n",
      "\n",
      "    ⬁\n",
      "\n",
      "     ⬁\n",
      "\n",
      "     ⇧\n",
      "\n",
      "     ⇧\n",
      "\n",
      "    ⬀\n",
      "\n",
      "   ⬀\n",
      "\n",
      "  ⬀\n",
      "\n",
      " ⬀\n",
      "\n",
      "⬀\n",
      "\n",
      "⬀\n",
      "\n",
      "⬁\n",
      "\n",
      "⬀\n",
      "\n",
      "⬁\n",
      "\n",
      "⬀\n",
      "\n",
      "⇧\n"
     ]
    }
   ],
   "source": [
    "L = input('Enter an integer:')\n",
    "inpt_nb = int(L)\n",
    "sign = '-' if inpt_nb < 0 else '+'\n",
    "inpt_abs = abs(inpt_nb)\n",
    "trans_abs = \"\"\n",
    "while inpt_abs:\n",
    "    trans_abs = str(inpt_abs % 3) + trans_abs\n",
    "    inpt_abs //= 3\n",
    "k = 1\n",
    "sum_1 = ''\n",
    "sum_0 = ''\n",
    "sum_2 = ''\n",
    "if sign == '-':\n",
    "    #trans_abs = f'{inpt_nb:03b}'\n",
    "    list_nb = list(str(trans_abs))[::-1]\n",
    "    print(list_nb)\n",
    "    for i in list_nb:\n",
    "        if i == '1':\n",
    "            k += 1\n",
    "            sum_1 ='\\n' + ' '*(k-1)+'⬂'\n",
    "            print(sum_1)\n",
    "        elif i== '2':\n",
    "            k -= 1\n",
    "            if k<0:\n",
    "               k=1\n",
    "            sum_2 ='\\n' + ' '*(k-1)+'⬃'\n",
    "            print(sum_2)\n",
    "            \n",
    "        elif i == '0':\n",
    "            sum_0 ='\\n' + ' '*(k-1)+'⇩'\n",
    "            print(sum_0)\n",
    "elif sign == '+':\n",
    "    list_nb = list(str(trans_abs))#[::-1]\n",
    "    print(list_nb)\n",
    "    for i in list_nb:\n",
    "        if i == '1':\n",
    "            k += 1\n",
    "            sum_1 ='\\n' + ' '*(k-1)+'⬁'\n",
    "            print(sum_1)\n",
    "        elif i== '2':\n",
    "            k -= 1\n",
    "            if k<0:\n",
    "               k=1\n",
    "            sum_2 ='\\n' + ' '*(k-1)+'⬀'\n",
    "            print(sum_2)\n",
    "            \n",
    "        elif i == '0':\n",
    "            sum_0 ='\\n' + ' '*(k-1)+'⇧'\n",
    "            print(sum_0)\n"
   ]
  },
  {
   "cell_type": "code",
   "execution_count": 42,
   "id": "634355bd-14ce-4c9c-b206-a655d7844330",
   "metadata": {},
   "outputs": [
    {
     "data": {
      "text/plain": [
       "'001010'"
      ]
     },
     "execution_count": 42,
     "metadata": {},
     "output_type": "execute_result"
    }
   ],
   "source": [
    "inpt_nb = 10\n",
    "trans_nb = f'{inpt_nb:06b}'\n",
    "trans_nb\n"
   ]
  },
  {
   "cell_type": "code",
   "execution_count": 56,
   "id": "bf3ffb92-f6dc-41ac-8c38-020bd56a558e",
   "metadata": {},
   "outputs": [
    {
     "name": "stdin",
     "output_type": "stream",
     "text": [
      " 10\n"
     ]
    },
    {
     "data": {
      "text/plain": [
       "'101'"
      ]
     },
     "execution_count": 56,
     "metadata": {},
     "output_type": "execute_result"
    }
   ],
   "source": [
    "n = int(input())\n",
    "result = \"\"\n",
    "while n:\n",
    "    result = str(n % 3) + result\n",
    "    n //= 3\n",
    "result"
   ]
  },
  {
   "cell_type": "code",
   "execution_count": 92,
   "id": "84906754-3bf1-4cfe-821a-5b5ee69f0141",
   "metadata": {},
   "outputs": [
    {
     "name": "stdin",
     "output_type": "stream",
     "text": [
      "Enter an integer: -10\n"
     ]
    },
    {
     "name": "stdout",
     "output_type": "stream",
     "text": [
      "Your input in base 3 reads: -101\n",
      "This is how we travelled:(reading digits from right to left):\n",
      "⬂⇩⬂\n",
      "['1', '0', '1']\n",
      " ⬂\n",
      " ⇩\n",
      "  ⬂\n"
     ]
    }
   ],
   "source": [
    "L = input('Enter an integer:')\n",
    "\n",
    "inpt_nb = int(L)\n",
    "sign = '-' if inpt_nb < 0 else '+'\n",
    "inpt_abs = abs(inpt_nb)\n",
    "trans_abs = \"\"\n",
    "while inpt_abs:\n",
    "    trans_abs = str(inpt_abs % 3) + trans_abs\n",
    "    inpt_abs //= 3\n",
    "print('Your input in base 3 reads:' , sign + trans_abs)\n",
    "map_p = {\n",
    "    \"0\" : \"⇧\",\n",
    "    \"1\" : \"⬁\",\n",
    "    \"2\" : \"⬀\"\n",
    "}\n",
    "map_n = {\n",
    "    \"0\" : \"⇩\",\n",
    "    \"1\" : \"⬂\",\n",
    "    \"2\" : \"⬃\"\n",
    "}\n",
    "if sign == '-':\n",
    "    map_o = map_n \n",
    "else:\n",
    "    map_o = map_p\n",
    "dic = [map_o[j] for j in trans_abs[::1]]\n",
    "print(\"This is how we travelled:(reading digits from right to left):\")\n",
    "print(\"\".join(dic))\n",
    "k = 1\n",
    "sum_1 = ''\n",
    "sum_0 = ''\n",
    "sum_2 = ''\n",
    "if sign == '-':\n",
    "    #trans_abs = f'{inpt_nb:03b}'\n",
    "    list_nb = list(str(trans_abs))[::-1]\n",
    "    #print(list_nb)\n",
    "    for i in list_nb:\n",
    "        if i == '1':\n",
    "            k += 1\n",
    "            sum_1 =' '*(k-1)+'⬂'\n",
    "            print(sum_1)\n",
    "        elif i== '2':\n",
    "            k -= 1\n",
    "            if k<0:\n",
    "               k=1\n",
    "            sum_2 =' '*(k-1)+'⬃'\n",
    "            print(sum_2)\n",
    "            \n",
    "        elif i == '0':\n",
    "            sum_0 =' '*(k-1)+'⇩'\n",
    "            print(sum_0)\n",
    "elif sign == '+':\n",
    "    list_nb = list(str(trans_abs))#[::-1]\n",
    "    #print(list_nb)\n",
    "    for i in list_nb:\n",
    "        if i == '1':\n",
    "            k += 1\n",
    "            sum_1 ='\\n' + ' '*(k-1)+'⬁'\n",
    "            print(sum_1)\n",
    "        elif i== '2':\n",
    "            k -= 1\n",
    "            if k<0:\n",
    "               k=1\n",
    "            sum_2 ='\\n' + ' '*(k-1)+'⬀'\n",
    "            print(sum_2)\n",
    "            \n",
    "        elif i == '0':\n",
    "            sum_0 ='\\n' + ' '*(k-1)+'⇧'\n",
    "            print(sum_0)\n"
   ]
  },
  {
   "cell_type": "code",
   "execution_count": 80,
   "id": "82a5cad6-0b97-49e0-b810-9629a106fbab",
   "metadata": {},
   "outputs": [
    {
     "data": {
      "text/plain": [
       "5336.0"
      ]
     },
     "execution_count": 80,
     "metadata": {},
     "output_type": "execute_result"
    }
   ],
   "source": [
    "580*4.6*2"
   ]
  },
  {
   "cell_type": "code",
   "execution_count": 81,
   "id": "c7e7818e-6fea-4398-88be-09a187c47a43",
   "metadata": {},
   "outputs": [
    {
     "data": {
      "text/plain": [
       "30359.999999999996"
      ]
     },
     "execution_count": 81,
     "metadata": {},
     "output_type": "execute_result"
    }
   ],
   "source": [
    "6600*4.6\n"
   ]
  },
  {
   "cell_type": "code",
   "execution_count": 82,
   "id": "057e0fe5-143a-46ef-b461-389c26661606",
   "metadata": {},
   "outputs": [
    {
     "data": {
      "text/plain": [
       "266800.0"
      ]
     },
     "execution_count": 82,
     "metadata": {},
     "output_type": "execute_result"
    }
   ],
   "source": [
    "4.6* 58000\n"
   ]
  },
  {
   "cell_type": "code",
   "execution_count": 204,
   "id": "a4ae2bfe-b117-47c9-9a79-156d0f6042db",
   "metadata": {},
   "outputs": [
    {
     "name": "stdin",
     "output_type": "stream",
     "text": [
      "Enter an integer:  -10\n"
     ]
    },
    {
     "name": "stdout",
     "output_type": "stream",
     "text": [
      "Your input in base 3 reads: -101\n",
      "\n",
      "This is how we will travel (reading digits from right to left):\n",
      "⬂ ⇩ ⬂\n",
      "\n",
      "This is how we travelled:\n",
      " ⬂\n",
      " ⇩\n",
      "  ⬂\n"
     ]
    }
   ],
   "source": [
    "L = input('Enter an integer: ')\n",
    "\n",
    "inpt_nb = int(L)\n",
    "sign = '-' if inpt_nb < 0 else '+'\n",
    "inpt_abs = abs(inpt_nb)\n",
    "trans_abs = \"\"\n",
    "while inpt_abs:\n",
    "    trans_abs = str(inpt_abs % 3) + trans_abs\n",
    "    inpt_abs //= 3\n",
    "print('Your input in base 3 reads:' , sign + trans_abs+\"\\n\")\n",
    "map_p = {\n",
    "    \"0\" : \"⇧\",\n",
    "    \"1\" : \"⬁\",\n",
    "    \"2\" : \"⬀\"\n",
    "}\n",
    "map_n = {\n",
    "    \"0\" : \"⇩\",\n",
    "    \"1\" : \"⬂\",\n",
    "    \"2\" : \"⬃\"\n",
    "}\n",
    "if sign == '-':\n",
    "    map_o = map_n \n",
    "elif sign == '+':\n",
    "    map_o = map_p\n",
    "dic = [map_o[j] for j in trans_abs[::-1]]\n",
    "print(\"This is how we will travel (reading digits from right to left):\")\n",
    "print(\" \".join(dic) + \"\\n\")\n",
    "print(\"This is how we travelled:\")\n",
    "k = 1\n",
    "sum_1 = ''\n",
    "sum_0 = ''\n",
    "sum_2 = ''\n",
    "z = 0\n",
    "out_put = []\n",
    "y = 1\n",
    "location = []\n",
    "output=[]\n",
    "if sign == '-':\n",
    "    #trans_abs = f'{inpt_nb:03b}'\n",
    "    list_nb = list(str(trans_abs))[::-1]\n",
    "    #print(list_nb)\n",
    "    for item in list_nb:\n",
    "        #sum_012 = map_o[item]\n",
    "        #output.append( \" \" *abs(k) + sum_012)\n",
    "        if item == '2' and y == k:\n",
    "            k -= 1\n",
    "            y -= 1\n",
    "            location.append(k)\n",
    "        elif item == '2' and k > y:\n",
    "            k -= 1\n",
    "            location.append(k)\n",
    "        elif item == '1':\n",
    "            k += 1\n",
    "            location.append(k)\n",
    "        elif item == '0':\n",
    "            k == k\n",
    "            location.append(k)\n",
    "    #print(location)\n",
    "    for d in location:\n",
    "        space = abs(int(d)-y)\n",
    "        first = dic.pop(0)\n",
    "        output.append( \" \" * abs(space)+ first)\n",
    "    for line in output:\n",
    "        print(line)\n",
    "\n",
    "            \n",
    "elif sign == '+':\n",
    "    list_nb = list(str(trans_abs))[::-1]\n",
    "    #print(list_nb)\n",
    "    for i in list_nb:\n",
    "        if i == '1' :\n",
    "            k -= 1\n",
    "            sum_1 =' '*(k-1)+'⬁'\n",
    "            out_put.append(sum_1)\n",
    "        elif i== '2':\n",
    "            k += 1\n",
    "            sum_2 =' '*(k-1)+'⬀'\n",
    "            out_put.append(sum_2)          \n",
    "        elif i == '0':\n",
    "            sum_0 = ' '*(k-1)+'⇧'\n",
    "            out_put.append(sum_0)\n",
    "    for line in out_put[::-1]:\n",
    "        print(line)\n"
   ]
  },
  {
   "cell_type": "code",
   "execution_count": 126,
   "id": "d2fda8e2-e128-47e9-b2f3-4060932e4124",
   "metadata": {},
   "outputs": [
    {
     "name": "stdin",
     "output_type": "stream",
     "text": [
      "Enter an integer:  193090137\n"
     ]
    },
    {
     "name": "stdout",
     "output_type": "stream",
     "text": [
      "Your input in base 3 reads: +111110022222212120\n",
      "\n",
      "This is how we will travel (reading digits from right to left):\n",
      "⇧ ⬀ ⬁ ⬀ ⬁ ⬀ ⬀ ⬀ ⬀ ⬀ ⬀ ⇧ ⇧ ⬁ ⬁ ⬁ ⬁ ⬁\n",
      "\n",
      "This is how we travelled:\n"
     ]
    }
   ],
   "source": [
    "L = input('Enter an integer: ')\n",
    "\n",
    "inpt_nb = int(L)\n",
    "sign = '-' if inpt_nb < 0 else '+'\n",
    "inpt_abs = abs(inpt_nb)\n",
    "trans_abs = \"\"\n",
    "while inpt_abs:\n",
    "    trans_abs = str(inpt_abs % 3) + trans_abs\n",
    "    inpt_abs //= 3\n",
    "print('Your input in base 3 reads:' , sign + trans_abs+\"\\n\")\n",
    "map_p = {\n",
    "    \"0\" : \"⇧\",\n",
    "    \"1\" : \"⬁\",\n",
    "    \"2\" : \"⬀\"\n",
    "}\n",
    "map_n = {\n",
    "    \"0\" : \"⇩\",\n",
    "    \"1\" : \"⬂\",\n",
    "    \"2\" : \"⬃\"\n",
    "}\n",
    "if sign == '-':\n",
    "    map_o = map_n \n",
    "elif sign == '+':\n",
    "    map_o = map_p\n",
    "dic = [map_o[j] for j in trans_abs[::-1]]\n",
    "print(\"This is how we will travel (reading digits from right to left):\")\n",
    "print(\" \".join(dic) + \"\\n\")\n",
    "print(\"This is how we travelled:\")\n",
    "k = 0\n",
    "if sign == '-':\n",
    "    #trans_abs = f'{inpt_nb:03b}'\n",
    "    list_nb = list(str(trans_abs))#[::-1]\n",
    "    print(list_nb)\n",
    "    for i in list_nb:\n",
    "        if i == '1':\n",
    "            k += 1\n",
    "            \n",
    "        \n",
    "    \n"
   ]
  },
  {
   "cell_type": "code",
   "execution_count": 122,
   "id": "b0c0e2ba-8fa4-4cc2-9f3b-96d024cb972e",
   "metadata": {},
   "outputs": [
    {
     "data": {
      "text/plain": [
       "-889136"
      ]
     },
     "execution_count": 122,
     "metadata": {},
     "output_type": "execute_result"
    }
   ],
   "source": [
    "-889136"
   ]
  },
  {
   "cell_type": "code",
   "execution_count": 142,
   "id": "445a2ea7-70b7-409e-b56a-cfb609f3b239",
   "metadata": {},
   "outputs": [
    {
     "name": "stdin",
     "output_type": "stream",
     "text": [
      "Enter an integer:  -889136\n"
     ]
    },
    {
     "name": "stdout",
     "output_type": "stream",
     "text": [
      "Your input in base 3 reads: -1200011122222\n",
      "\n",
      "This is how we will travel (reading digits from right to left):\n",
      "⬃ ⬃ ⬃ ⬃ ⬃ ⬂ ⬂ ⬂ ⇩ ⇩ ⇩ ⬃ ⬂\n",
      "\n",
      "This is how we travelled:\n",
      "['2', '2', '2', '2', '2', '1', '1', '1', '0', '0', '0', '2', '1']\n",
      "⬃\n",
      " ⬃\n",
      "  ⬃\n",
      "   ⬃\n",
      "    ⬃\n",
      "⬂\n",
      "⬂\n",
      "⬂\n",
      "⇩\n",
      "⇩\n",
      "⇩\n",
      "  ⬃\n",
      "⬂\n"
     ]
    }
   ],
   "source": [
    "L = input('Enter an integer: ')\n",
    "\n",
    "inpt_nb = int(L)\n",
    "sign = '-' if inpt_nb < 0 else '+'\n",
    "inpt_abs = abs(inpt_nb)\n",
    "trans_abs = \"\"\n",
    "while inpt_abs:\n",
    "    trans_abs = str(inpt_abs % 3) + trans_abs\n",
    "    inpt_abs //= 3\n",
    "print('Your input in base 3 reads:' , sign + trans_abs+\"\\n\")\n",
    "map_p = {\n",
    "    \"0\" : \"⇧\",\n",
    "    \"1\" : \"⬁\",\n",
    "    \"2\" : \"⬀\"\n",
    "}\n",
    "map_n = {\n",
    "    \"0\" : \"⇩\",\n",
    "    \"1\" : \"⬂\",\n",
    "    \"2\" : \"⬃\"\n",
    "}\n",
    "if sign == '-':\n",
    "    map_o = map_n \n",
    "elif sign == '+':\n",
    "    map_o = map_p\n",
    "dic = [map_o[j] for j in trans_abs[::-1]]\n",
    "print(\"This is how we will travel (reading digits from right to left):\")\n",
    "print(\" \".join(dic) + \"\\n\")\n",
    "print(\"This is how we travelled:\")\n",
    "k = 1\n",
    "sum_1 = ''\n",
    "sum_0 = ''\n",
    "sum_2 = ''\n",
    "z = 0\n",
    "out_put = []\n",
    "if sign == '-':\n",
    "    list_nb = list(str(trans_abs))[::-1]\n",
    "    print(list_nb)\n",
    "    for i in list_nb:\n",
    "        if i == '1':\n",
    "            k += 1\n",
    "            sum_1 =' '*(k-1)+'⬂'\n",
    "            out_put.append(sum_1)\n",
    "        elif i== '2':\n",
    "            k -= 1\n",
    "            if k<0:\n",
    "               z=abs(k)\n",
    "            sum_2 =' '*z+'⬃'\n",
    "            out_put.append(sum_2)\n",
    "            \n",
    "        elif i == '0':\n",
    "            sum_0 =' '*(k-1)+'⇩'\n",
    "            out_put.append(sum_0)\n",
    "    for line in out_put:#[::-1]:\n",
    "        print(line)\n",
    "            \n",
    "elif sign == '+':\n",
    "    list_nb = list(str(trans_abs))[::-1]\n",
    "    print(list_nb)\n",
    "    for i in list_nb:\n",
    "        if i == '1' :\n",
    "            k -= 1\n",
    "            sum_1 =' '*(k-1)+'⬁'\n",
    "            out_put.append(sum_1)\n",
    "        elif i== '2':\n",
    "            k += 1\n",
    "            sum_2 =' '*(k-1)+'⬀'\n",
    "            out_put.append(sum_2)          \n",
    "        elif i == '0':\n",
    "            sum_0 = ' '*(k-1)+'⇧'\n",
    "            out_put.append(sum_0)\n",
    "    for line in out_put[::-1]:\n",
    "        print(line)"
   ]
  },
  {
   "cell_type": "code",
   "execution_count": 152,
   "id": "b9d8e7cd-1999-4986-bcd7-f9ea402dc559",
   "metadata": {},
   "outputs": [
    {
     "name": "stdout",
     "output_type": "stream",
     "text": [
      "   c\n",
      "  c\n",
      " c\n",
      "c\n",
      "b\n",
      "b\n",
      " b\n",
      "  a\n",
      "  c\n",
      " b\n"
     ]
    }
   ],
   "source": [
    "mapping = {'0': 'a', '1': 'b', '2': 'c'}  # 映射字符\n",
    "L = ['2', '2', '2', '2', '1', '1', '1', '0', '2', '1']\n",
    "\n",
    "output = []  # 存储所有行\n",
    "spaces = 3   # **初始缩进**，可调整\n",
    "\n",
    "for item in L:  # 正向遍历\n",
    "    char = mapping[item]  # 获取映射字符\n",
    "    output.append(\" \" * spaces + char)  # **存储格式化字符串**\n",
    "\n",
    "    # **控制缩进**\n",
    "    if item == '2':  # `c` (向左移动)\n",
    "        spaces -= 1\n",
    "    elif item == '1':  # `b` (向右移动)\n",
    "        spaces += 1\n",
    "    # `a` (0) **不影响缩进**\n",
    "\n",
    "# **打印最终输出**\n",
    "for line in output:\n",
    "    print(line)\n"
   ]
  },
  {
   "cell_type": "code",
   "execution_count": 155,
   "id": "21b8fde3-4ba4-4238-9c0a-2664497a9d59",
   "metadata": {},
   "outputs": [
    {
     "name": "stdin",
     "output_type": "stream",
     "text": [
      "Enter an integer:  -889136\n"
     ]
    },
    {
     "name": "stdout",
     "output_type": "stream",
     "text": [
      "Your input in base 3 reads: -1200011122222\n",
      "\n",
      "This is how we will travel (reading digits from right to left):\n",
      "⬃ ⬃ ⬃ ⬃ ⬃ ⬂ ⬂ ⬂ ⇩ ⇩ ⇩ ⬃ ⬂\n",
      "\n",
      "This is how we travelled:\n",
      "['2', '2', '2', '2', '2', '1', '1', '1', '0', '0', '0', '2', '1']\n",
      " ⬃\n",
      " ⬃\n",
      "⬃\n",
      " ⬃\n",
      "⬃\n",
      "⬃\n",
      " ⬃\n",
      "⬃\n",
      "⬃\n",
      "⬃\n",
      " ⬃\n",
      "⬃\n",
      "⬃\n",
      "⬃\n",
      "⬃\n",
      " ⬃\n",
      "⬃\n",
      "⬃\n",
      "⬃\n",
      "⬃\n",
      "⬂\n",
      " ⬃\n",
      "⬃\n",
      "⬃\n",
      "⬃\n",
      "⬃\n",
      "⬂\n",
      "⬂\n",
      " ⬃\n",
      "⬃\n",
      "⬃\n",
      "⬃\n",
      "⬃\n",
      "⬂\n",
      "⬂\n",
      "⬂\n",
      " ⬃\n",
      "⬃\n",
      "⬃\n",
      "⬃\n",
      "⬃\n",
      "⬂\n",
      "⬂\n",
      "⬂\n",
      "⇩\n",
      " ⬃\n",
      "⬃\n",
      "⬃\n",
      "⬃\n",
      "⬃\n",
      "⬂\n",
      "⬂\n",
      "⬂\n",
      "⇩\n",
      "⇩\n",
      " ⬃\n",
      "⬃\n",
      "⬃\n",
      "⬃\n",
      "⬃\n",
      "⬂\n",
      "⬂\n",
      "⬂\n",
      "⇩\n",
      "⇩\n",
      "⇩\n",
      " ⬃\n",
      "⬃\n",
      "⬃\n",
      "⬃\n",
      "⬃\n",
      "⬂\n",
      "⬂\n",
      "⬂\n",
      "⇩\n",
      "⇩\n",
      "⇩\n",
      "⬃\n",
      " ⬃\n",
      "⬃\n",
      "⬃\n",
      "⬃\n",
      "⬃\n",
      "⬂\n",
      "⬂\n",
      "⬂\n",
      "⇩\n",
      "⇩\n",
      "⇩\n",
      "⬃\n",
      "⬂\n"
     ]
    }
   ],
   "source": [
    "\n",
    "    "
   ]
  },
  {
   "cell_type": "code",
   "execution_count": 196,
   "id": "880b76be-c7f7-44cc-834e-edf74df1165b",
   "metadata": {},
   "outputs": [
    {
     "name": "stdout",
     "output_type": "stream",
     "text": [
      "Your input in base 3 reads: -1200011122222\n",
      "\n",
      "This is how we will travel (reading digits from right to left):\n",
      "⬃ ⬃ ⬃ ⬃ ⬃ ⬂ ⬂ ⬂ ⇩ ⇩ ⇩ ⬃ ⬂\n",
      "\n",
      "This is how we travelled:\n",
      "['2', '2', '2', '2', '2', '1', '1', '1', '0', '0', '0', '2', '1']\n",
      "[0, -1, -2, -3, -4, -3, -2, -1, -1, -1, -1, -2, -1]\n",
      "    ⬃\n",
      "   ⬃\n",
      "  ⬃\n",
      " ⬃\n",
      "⬃\n",
      " ⬂\n",
      "  ⬂\n",
      "   ⬂\n",
      "   ⇩\n",
      "   ⇩\n",
      "   ⇩\n",
      "  ⬃\n",
      "   ⬂\n"
     ]
    }
   ],
   "source": [
    "L = ('-889136')\n",
    "\n",
    "inpt_nb = int(L)\n",
    "sign = '-' if inpt_nb < 0 else '+'\n",
    "inpt_abs = abs(inpt_nb)\n",
    "trans_abs = \"\"\n",
    "while inpt_abs:\n",
    "    trans_abs = str(inpt_abs % 3) + trans_abs\n",
    "    inpt_abs //= 3\n",
    "print('Your input in base 3 reads:' , sign + trans_abs+\"\\n\")\n",
    "map_p = {\n",
    "    \"0\" : \"⇧\",\n",
    "    \"1\" : \"⬁\",\n",
    "    \"2\" : \"⬀\"\n",
    "}\n",
    "map_n = {\n",
    "    \"0\" : \"⇩\",\n",
    "    \"1\" : \"⬂\",\n",
    "    \"2\" : \"⬃\"\n",
    "}\n",
    "if sign == '-':\n",
    "    map_o = map_n \n",
    "elif sign == '+':\n",
    "    map_o = map_p\n",
    "dic = [map_o[j] for j in trans_abs[::-1]]\n",
    "print(\"This is how we will travel (reading digits from right to left):\")\n",
    "print(\" \".join(dic) + \"\\n\")\n",
    "print(\"This is how we travelled:\")\n",
    "y = 1\n",
    "k = 1\n",
    "location = []\n",
    "output=[]\n",
    "if sign == '-':\n",
    "    #trans_abs = f'{inpt_nb:03b}'\n",
    "    list_nb = list(str(trans_abs))[::-1]\n",
    "    print(list_nb)\n",
    "    for item in list_nb:\n",
    "        #sum_012 = map_o[item]\n",
    "        #output.append( \" \" *abs(k) + sum_012)\n",
    "        if item == '2' and y == k:\n",
    "            k -= 1\n",
    "            y -= 1\n",
    "            location.append(k)\n",
    "        elif item == '2' and k > y:\n",
    "            k -= 1\n",
    "            location.append(k)\n",
    "        elif item == '1':\n",
    "            k += 1\n",
    "            location.append(k)\n",
    "        elif item == '0':\n",
    "            k == k\n",
    "            location.append(k)\n",
    "    print(location)\n",
    "    for d in location:\n",
    "        space = abs(int(d)-y)\n",
    "        first = dic.pop(0)\n",
    "        output.append( \" \" * abs(space)+ first)\n",
    "    for line in output:\n",
    "        print(line)\n",
    "        \n",
    "        \n",
    "        #for z in list_nb:\n",
    "            #sum_012 = map_o[z]\n",
    "            #output.append( \" \" * abs(space) + map_o[z])\n",
    "            #print(output)\n",
    "        \n",
    "        #print(y)\n",
    "        #print(space)\n",
    "        \n",
    "\n"
   ]
  },
  {
   "cell_type": "code",
   "execution_count": null,
   "id": "4b102ca9-50a5-4569-8ccf-45804a599662",
   "metadata": {},
   "outputs": [],
   "source": [
    "-889136"
   ]
  },
  {
   "cell_type": "code",
   "execution_count": 183,
   "id": "d58b7b20-9b27-4443-a08d-dda019d97448",
   "metadata": {},
   "outputs": [
    {
     "data": {
      "text/plain": [
       "13"
      ]
     },
     "execution_count": 183,
     "metadata": {},
     "output_type": "execute_result"
    }
   ],
   "source": [
    "len('1200011122222')"
   ]
  },
  {
   "cell_type": "code",
   "execution_count": 185,
   "id": "28e329f0-c37d-4940-a3ec-3d5c643b1eab",
   "metadata": {},
   "outputs": [
    {
     "ename": "TypeError",
     "evalue": "'builtin_function_or_method' object is not subscriptable",
     "output_type": "error",
     "traceback": [
      "\u001b[0;31m---------------------------------------------------------------------------\u001b[0m",
      "\u001b[0;31mTypeError\u001b[0m                                 Traceback (most recent call last)",
      "Cell \u001b[0;32mIn[185], line 1\u001b[0m\n\u001b[0;32m----> 1\u001b[0m \u001b[38;5;28;43mlen\u001b[39;49m\u001b[43m[\u001b[49m\u001b[38;5;124;43m'\u001b[39;49m\u001b[38;5;124;43m0, -1, -2, -3, -4, -3, -2, -1, -1, -1, -1, 0\u001b[39;49m\u001b[38;5;124;43m'\u001b[39;49m\u001b[43m]\u001b[49m\n",
      "\u001b[0;31mTypeError\u001b[0m: 'builtin_function_or_method' object is not subscriptable"
     ]
    }
   ],
   "source": [
    "len['0, -1, -2, -3, -4, -3, -2, -1, -1, -1, -1, 0']"
   ]
  },
  {
   "cell_type": "code",
   "execution_count": 212,
   "id": "edb72e8d-9781-42df-b667-33e0995a64f9",
   "metadata": {},
   "outputs": [
    {
     "name": "stdin",
     "output_type": "stream",
     "text": [
      "Enter an integer:  193090137\n"
     ]
    },
    {
     "name": "stdout",
     "output_type": "stream",
     "text": [
      "Your input in base 3 reads: +111110022222212120\n",
      "\n",
      "This is how we will travel (reading digits from right to left):\n",
      "⇧ ⬀ ⬁ ⬀ ⬁ ⬀ ⬀ ⬀ ⬀ ⬀ ⬀ ⇧ ⇧ ⬁ ⬁ ⬁ ⬁ ⬁\n",
      "\n",
      "This is how we travelled:\n",
      " ⬁\n",
      "  ⬁\n",
      "   ⬁\n",
      "    ⬁\n",
      "     ⬁\n",
      "      ⇧\n",
      "      ⇧\n",
      "      ⬀\n",
      "     ⬀\n",
      "    ⬀\n",
      "   ⬀\n",
      "  ⬀\n",
      " ⬀\n",
      "⬁\n",
      " ⬀\n",
      "⬁\n",
      " ⬀\n",
      "⇧\n"
     ]
    }
   ],
   "source": [
    "L = input('Enter an integer: ')\n",
    "\n",
    "inpt_nb = int(L)\n",
    "sign = '-' if inpt_nb < 0 else '+'\n",
    "inpt_abs = abs(inpt_nb)\n",
    "trans_abs = \"\"\n",
    "while inpt_abs:\n",
    "    trans_abs = str(inpt_abs % 3) + trans_abs\n",
    "    inpt_abs //= 3\n",
    "print('Your input in base 3 reads:' , sign + trans_abs+\"\\n\")\n",
    "map_p = {\n",
    "    \"0\" : \"⇧\",\n",
    "    \"1\" : \"⬁\",\n",
    "    \"2\" : \"⬀\"\n",
    "}\n",
    "map_n = {\n",
    "    \"0\" : \"⇩\",\n",
    "    \"1\" : \"⬂\",\n",
    "    \"2\" : \"⬃\"\n",
    "}\n",
    "if sign == '-':\n",
    "    map_o = map_n \n",
    "elif sign == '+':\n",
    "    map_o = map_p\n",
    "dic = [map_o[j] for j in trans_abs[::-1]]\n",
    "print(\"This is how we will travel (reading digits from right to left):\")\n",
    "print(\" \".join(dic) + \"\\n\")\n",
    "print(\"This is how we travelled:\")\n",
    "k = 1\n",
    "y = 1\n",
    "z = 0\n",
    "stat = 0\n",
    "sum_1 = ''\n",
    "sum_0 = ''\n",
    "sum_2 = ''\n",
    "\n",
    "out_put = []\n",
    "location = []\n",
    "output=[]\n",
    "if sign == '-':\n",
    "    #trans_abs = f'{inpt_nb:03b}'\n",
    "    list_nb = list(str(trans_abs))[::-1]\n",
    "    #print(list_nb)\n",
    "    if list_nb[0] == '2':\n",
    "    \n",
    "        for item in list_nb:\n",
    "            #sum_012 = map_o[item]\n",
    "            #output.append( \" \" *abs(k) + sum_012)\n",
    "            if item == '2' and y == k:\n",
    "                k -= 1\n",
    "                y -= 1\n",
    "                location.append(k)\n",
    "            elif item == '2' and k > y:\n",
    "                k -= 1\n",
    "                location.append(k)\n",
    "            elif item == '1':\n",
    "                k += 1\n",
    "                location.append(k)\n",
    "            elif item == '0':\n",
    "                k == k\n",
    "                location.append(k)\n",
    "    elif list_nb[0] == '1':\n",
    "        \n",
    "        \n",
    "        for item in list_nb:\n",
    "            #sum_012 = map_o[item]\n",
    "            #output.append( \" \" *abs(k) + sum_012)\n",
    "            if item == '2' and y == k:\n",
    "                k -= 1\n",
    "                y -= 1\n",
    "                location.append(k)\n",
    "            elif item == '2' and k > y:\n",
    "                k -= 1\n",
    "                location.append(k)\n",
    "            elif item == '1' and stat == 0:\n",
    "                k == k\n",
    "                stat += 1 \n",
    "                location.append(k)\n",
    "            elif item == '1' and stat == 1:\n",
    "                k += 1\n",
    "                location.append(k)\n",
    "            elif item == '0':\n",
    "                k == k\n",
    "                location.append(k)\n",
    "    elif list_nb[0] == '0':\n",
    "        for item in list_nb:\n",
    "            #sum_012 = map_o[item]\n",
    "            #output.append( \" \" *abs(k) + sum_012)\n",
    "            if item == '2' and y == k:\n",
    "                k -= 1\n",
    "                y -= 1\n",
    "                location.append(k)\n",
    "            elif item == '2' and k > y:\n",
    "                k -= 1\n",
    "                location.append(k)\n",
    "            elif item == '1':\n",
    "                k += 1\n",
    "                location.append(k)\n",
    "            elif item == '0':\n",
    "                k == k\n",
    "                location.append(k)        \n",
    "  \n",
    "\n",
    "    #print(location)\n",
    "    for d in location:\n",
    "        space = abs(int(d)-y)\n",
    "        first = dic.pop(0)\n",
    "        output.append( \" \" * abs(space)+ first)\n",
    "    for line in output:\n",
    "        print(line)\n",
    "\n",
    "            \n",
    "elif sign == '+':\n",
    "    list_nb = list(str(trans_abs))[::-1]\n",
    "    #print(list_nb)\n",
    "    for i in list_nb:\n",
    "        if i == '1' :\n",
    "            k -= 1\n",
    "            sum_1 =' '*(k-1)+'⬁'\n",
    "            out_put.append(sum_1)\n",
    "        elif i== '2':\n",
    "            k += 1\n",
    "            sum_2 =' '*(k-1)+'⬀'\n",
    "            out_put.append(sum_2)          \n",
    "        elif i == '0':\n",
    "            sum_0 = ' '*(k-1)+'⇧'\n",
    "            out_put.append(sum_0)\n",
    "    for line in out_put[::-1]:\n",
    "        print(line)\n"
   ]
  },
  {
   "cell_type": "code",
   "execution_count": null,
   "id": "38468780-8ebe-4201-bca0-e5a391c0d55b",
   "metadata": {},
   "outputs": [],
   "source": []
  }
 ],
 "metadata": {
  "kernelspec": {
   "display_name": "Python 3 (d2l-env)",
   "language": "python",
   "name": "d2l-env"
  },
  "language_info": {
   "codemirror_mode": {
    "name": "ipython",
    "version": 3
   },
   "file_extension": ".py",
   "mimetype": "text/x-python",
   "name": "python",
   "nbconvert_exporter": "python",
   "pygments_lexer": "ipython3",
   "version": "3.11.8"
  }
 },
 "nbformat": 4,
 "nbformat_minor": 5
}

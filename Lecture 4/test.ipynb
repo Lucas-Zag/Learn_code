{
 "cells": [
  {
   "cell_type": "code",
   "execution_count": 20,
   "metadata": {},
   "outputs": [
    {
     "ename": "TypeError",
     "evalue": "can only concatenate list (not \"list_reverseiterator\") to list",
     "output_type": "error",
     "traceback": [
      "\u001b[0;31m---------------------------------------------------------------------------\u001b[0m",
      "\u001b[0;31mTypeError\u001b[0m                                 Traceback (most recent call last)",
      "Cell \u001b[0;32mIn[20], line 14\u001b[0m\n\u001b[1;32m     11\u001b[0m     \u001b[38;5;66;03m#print(sum_1 , sum_2)\u001b[39;00m\n\u001b[1;32m     12\u001b[0m     \u001b[38;5;28;01mreturn\u001b[39;00m \u001b[38;5;28mlist\u001b[39m(\u001b[38;5;28mzip\u001b[39m(\u001b[38;5;241m*\u001b[39m\u001b[38;5;28mzip\u001b[39m(\u001b[38;5;241m*\u001b[39m((sum_1),(sum_2)))))\n\u001b[0;32m---> 14\u001b[0m f6(\u001b[38;5;241m0\u001b[39m, \u001b[38;5;241m1\u001b[39m, \u001b[38;5;241m2\u001b[39m)\n",
      "Cell \u001b[0;32mIn[20], line 9\u001b[0m, in \u001b[0;36mf6\u001b[0;34m(*L)\u001b[0m\n\u001b[1;32m      7\u001b[0m     result\u001b[38;5;241m.\u001b[39mappend(i)\n\u001b[1;32m      8\u001b[0m reversed_list \u001b[38;5;241m=\u001b[39m\u001b[38;5;28mreversed\u001b[39m(result)\n\u001b[0;32m----> 9\u001b[0m sum_1 \u001b[38;5;241m=\u001b[39m result\u001b[38;5;241m+\u001b[39mreversed_list\n\u001b[1;32m     10\u001b[0m sum_2 \u001b[38;5;241m=\u001b[39m reversed_list\u001b[38;5;241m+\u001b[39mresult\n\u001b[1;32m     11\u001b[0m \u001b[38;5;66;03m#print(sum_1 , sum_2)\u001b[39;00m\n",
      "\u001b[0;31mTypeError\u001b[0m: can only concatenate list (not \"list_reverseiterator\") to list"
     ]
    }
   ],
   "source": [
    "def f6(*L):\n",
    "    result=[]\n",
    "    sum_1 = []\n",
    "    sum_2 = []\n",
    "    out_put = []\n",
    "    for i in L:\n",
    "        result.append(i)\n",
    "    reversed_list =reversed(result)\n",
    "    sum_1 = result+reversed_list\n",
    "    sum_2 = reversed_list+result\n",
    "    #print(sum_1 , sum_2)\n",
    "    return list(zip(*zip(*((sum_1),(sum_2)))))\n",
    "\n",
    "f6(0, 1, 2)"
   ]
  },
  {
   "cell_type": "code",
   "execution_count": 21,
   "metadata": {},
   "outputs": [
    {
     "name": "stdout",
     "output_type": "stream",
     "text": [
      "([1, 2, 3],)\n",
      "([4, 5, 6],)\n",
      "([7, 8, 9],)\n",
      "(1, 4, 7)\n",
      "(2, 5, 8)\n",
      "(3, 6, 9)\n"
     ]
    }
   ],
   "source": [
    "L = [[1,2,3],[4,5,6],[7,8,9]]\n",
    "for i in zip(L):\n",
    "    print(i)\n",
    "for i in zip(*L):\n",
    "    print(i)\n"
   ]
  },
  {
   "cell_type": "code",
   "execution_count": 33,
   "metadata": {},
   "outputs": [
    {
     "data": {
      "text/plain": [
       "[(0, 1, 2, 2, 1, 0), (2, 1, 0, 0, 1, 2)]"
      ]
     },
     "execution_count": 33,
     "metadata": {},
     "output_type": "execute_result"
    }
   ],
   "source": [
    "def f6(*L):\n",
    "\n",
    "    k = list(zip(*zip(L,reversed(L)), *zip(reversed(L), L)))\n",
    "    return k\n",
    "f6(0,1,2)"
   ]
  },
  {
   "cell_type": "code",
   "execution_count": null,
   "metadata": {},
   "outputs": [
    {
     "name": "stdout",
     "output_type": "stream",
     "text": [
      " 26 13  6  3  1\n",
      " 25 12  6  3  1\n",
      " 24 12  6  3  1\n",
      " 23 11  5  2  1\n",
      " 22 11  5  2  1\n",
      " 21 10  5  2  1\n",
      " 20 10  5  2  1\n",
      " 19  9  4  2  1\n",
      " 18  9  4  2  1\n",
      " 17  8  4  2  1\n",
      " 16  8  4  2  1\n",
      " 15  7  3  1\n",
      " 14  7  3  1\n",
      " 13  6  3  1\n",
      " 12  6  3  1\n",
      " 11  5  2  1\n",
      " 10  5  2  1\n",
      "  9  4  2  1\n",
      "  8  4  2  1\n",
      "  7  3  1\n",
      "  6  3  1\n",
      "  5  2  1\n",
      "  4  2  1\n",
      "  3  1\n",
      "  2  1\n",
      "  1\n"
     ]
    }
   ],
   "source": [
    "def f(L):\n",
    "    w = len(str(L))+1\n",
    "    for i in range(L, 0, -1):\n",
    "        while i:\n",
    "            print(f'{i:{w}}', end='')\n",
    "            i = i // 2\n",
    "        print()\n",
    "    return \n",
    "f(26)        \n"
   ]
  },
  {
   "cell_type": "code",
   "execution_count": 37,
   "metadata": {},
   "outputs": [
    {
     "name": "stdout",
     "output_type": "stream",
     "text": [
      "1. Alice - 85\n",
      "2. Bob - 92\n",
      "3. Charlie - 78\n"
     ]
    }
   ],
   "source": [
    "names = ['Alice', 'Bob', 'Charlie']\n",
    "scores = [85, 92, 78]\n",
    "\n",
    "for index, (name, score) in enumerate(zip(names, scores), start=1):\n",
    "    print(f\"{index}. {name} - {score}\")\n"
   ]
  },
  {
   "cell_type": "code",
   "execution_count": null,
   "metadata": {},
   "outputs": [
    {
     "name": "stdout",
     "output_type": "stream",
     "text": [
      "1234567890 = "
     ]
    }
   ],
   "source": [
    "def f4(n):\n",
    "    if not n:\n",
    "        print('0 = 0')\n",
    "        return\n",
    "    \n",
    "    binary_n = f'{n:b}'  # 将 n 转换为二进制字符串\n",
    "    powers = (i for i in range(len(binary_n)) if binary_n[i] == '1')  \n",
    "    operator = ' + ' if n >= 0 else ' - '  \n",
    "    print(n, '= ', end='' if n > 0 else '-')\n",
    "    \n",
    "    print(operator.join(f'2^{len(binary_n) - i - 1}' for i in powers))\n",
    "f4(1234567890)"
   ]
  }
 ],
 "metadata": {
  "kernelspec": {
   "display_name": "base",
   "language": "python",
   "name": "python3"
  },
  "language_info": {
   "codemirror_mode": {
    "name": "ipython",
    "version": 3
   },
   "file_extension": ".py",
   "mimetype": "text/x-python",
   "name": "python",
   "nbconvert_exporter": "python",
   "pygments_lexer": "ipython3",
   "version": "3.12.2"
  }
 },
 "nbformat": 4,
 "nbformat_minor": 2
}

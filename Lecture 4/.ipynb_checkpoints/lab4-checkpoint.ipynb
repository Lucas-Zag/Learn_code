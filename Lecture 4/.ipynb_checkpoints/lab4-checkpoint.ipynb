{
 "cells": [
  {
   "cell_type": "code",
   "execution_count": 3,
   "id": "4e8431d3-bbf0-4569-b8b5-38e09f687638",
   "metadata": {},
   "outputs": [
    {
     "data": {
      "text/plain": [
       "4"
      ]
     },
     "execution_count": 3,
     "metadata": {},
     "output_type": "execute_result"
    }
   ],
   "source": [
    "c = 9//2\n",
    "c"
   ]
  },
  {
   "cell_type": "code",
   "execution_count": 13,
   "id": "c3ed5667-f1ce-47b4-9263-019a070f96e5",
   "metadata": {},
   "outputs": [],
   "source": [
    "def f1(n):\n",
    "    line =[' '+str(n)]\n",
    "    k = int(n)\n",
    "    for j in range(k, 0, -1):\n",
    "        while k > 1:\n",
    "            k = k // 2\n",
    "            line.append('  ' + str(k))\n",
    "        \n",
    "        z = ''.join(i for i in line)\n",
    "        print(z)\n"
   ]
  },
  {
   "cell_type": "code",
   "execution_count": 14,
   "id": "a15c45cf-408c-41e7-88d9-a21fabfcf348",
   "metadata": {},
   "outputs": [
    {
     "name": "stdout",
     "output_type": "stream",
     "text": [
      " 13  6  3  1\n",
      " 13  6  3  1\n",
      " 13  6  3  1\n",
      " 13  6  3  1\n",
      " 13  6  3  1\n",
      " 13  6  3  1\n",
      " 13  6  3  1\n",
      " 13  6  3  1\n",
      " 13  6  3  1\n",
      " 13  6  3  1\n",
      " 13  6  3  1\n",
      " 13  6  3  1\n",
      " 13  6  3  1\n"
     ]
    }
   ],
   "source": [
    "f1(13)"
   ]
  },
  {
   "cell_type": "code",
   "execution_count": 32,
   "id": "fee1d20c-b40d-49c5-a3cc-d7f62757d8c0",
   "metadata": {},
   "outputs": [
    {
     "ename": "TypeError",
     "evalue": "'int' object is not iterable",
     "output_type": "error",
     "traceback": [
      "\u001b[0;31m---------------------------------------------------------------------------\u001b[0m",
      "\u001b[0;31mTypeError\u001b[0m                                 Traceback (most recent call last)",
      "Cell \u001b[0;32mIn[32], line 3\u001b[0m\n\u001b[1;32m      1\u001b[0m n \u001b[38;5;241m=\u001b[39m \u001b[38;5;241m16\u001b[39m\n\u001b[1;32m      2\u001b[0m z \u001b[38;5;241m=\u001b[39m []\n\u001b[0;32m----> 3\u001b[0m \u001b[43m[\u001b[49m\u001b[43mz\u001b[49m\u001b[38;5;241;43m.\u001b[39;49m\u001b[43mappend\u001b[49m\u001b[43m(\u001b[49m\u001b[43mi\u001b[49m\u001b[43m)\u001b[49m\u001b[43m \u001b[49m\u001b[38;5;28;43;01mfor\u001b[39;49;00m\u001b[43m \u001b[49m\u001b[43mi\u001b[49m\u001b[43m \u001b[49m\u001b[38;5;129;43;01min\u001b[39;49;00m\u001b[43m \u001b[49m\u001b[43mn\u001b[49m\u001b[38;5;241;43m/\u001b[39;49m\u001b[38;5;241;43m/\u001b[39;49m\u001b[38;5;241;43m2\u001b[39;49m\u001b[43m \u001b[49m\u001b[38;5;28;43;01mif\u001b[39;49;00m\u001b[43m \u001b[49m\u001b[43mi\u001b[49m\u001b[43m \u001b[49m\u001b[38;5;241;43m>\u001b[39;49m\u001b[38;5;241;43m1\u001b[39;49m\u001b[43m]\u001b[49m\n\u001b[1;32m      4\u001b[0m \u001b[38;5;28mprint\u001b[39m(z)\n",
      "\u001b[0;31mTypeError\u001b[0m: 'int' object is not iterable"
     ]
    }
   ],
   "source": [
    "n = 16\n",
    "z = []\n",
    "[z.append(i) for i in n//2 if i >1]\n",
    "print(z)"
   ]
  },
  {
   "cell_type": "code",
   "execution_count": null,
   "id": "af81a4f1-cb0d-46cd-9eb3-2b8d4a9d0532",
   "metadata": {},
   "outputs": [],
   "source": [
    "def f1(n):\n",
    "    line = [' ' + str(n)]\n",
    "    k = n\n",
    "\n",
    "    while k > 1:  # ✅ 不断除 2，直到 `k <= 1`\n",
    "        k = k // 2\n",
    "        line.append('  ' + str(k))\n",
    "\n",
    "    print(line)  # ✅ 只打印最终结果\n",
    "\n",
    "f1(16)\n"
   ]
  },
  {
   "cell_type": "code",
   "execution_count": 17,
   "id": "7d40e98e-6e9a-4b9f-96d0-c39e0939f45c",
   "metadata": {},
   "outputs": [
    {
     "name": "stdout",
     "output_type": "stream",
     "text": [
      "16\n",
      "15\n",
      "14\n",
      "13\n",
      "12\n",
      "11\n",
      "10\n",
      "9\n",
      "8\n",
      "7\n",
      "6\n",
      "5\n",
      "4\n",
      "3\n",
      "2\n",
      "1\n"
     ]
    }
   ],
   "source": [
    "def f1(n):\n",
    "    line =[' '+str(n)]\n",
    "    k = int(n)\n",
    "    a = k\n",
    "    for j in range(n, 0, -1):\n",
    "        print(j)\n",
    "    \n",
    "f1(16)\n"
   ]
  },
  {
   "cell_type": "code",
   "execution_count": 18,
   "id": "c5b4c5d4-a92b-4810-bd1b-70e571008ff8",
   "metadata": {},
   "outputs": [
    {
     "data": {
      "text/plain": [
       "3"
      ]
     },
     "execution_count": 18,
     "metadata": {},
     "output_type": "execute_result"
    }
   ],
   "source": [
    "len(str(100))"
   ]
  },
  {
   "cell_type": "code",
   "execution_count": 30,
   "id": "2d669ddf-2430-4ca6-873d-734a935d46a3",
   "metadata": {},
   "outputs": [
    {
     "name": "stdout",
     "output_type": "stream",
     "text": [
      " 3 1\n",
      " 3 1\n",
      " 2 1\n",
      " 2 1\n",
      " 2 1\n",
      " 2 1\n",
      " 3 1\n",
      " 3 1\n",
      " 2 1\n",
      " 2 1\n",
      " 3 1\n",
      " 2 1\n",
      "\n"
     ]
    }
   ],
   "source": [
    "def f1(n):\n",
    "    k = int(n)\n",
    "    for j in range(n, 0 ,-1):\n",
    "        line = []\n",
    "        k = j\n",
    "        out_put = ''\n",
    "        while k >1:\n",
    "            width_o = len(str(k))\n",
    "            line = [' '+f\"{k:>{width_o}}\"]\n",
    "            k = k // 2\n",
    "            width_1 = len(str(k))\n",
    "            line.append(' '+f\"{k:>{width_1}}\")\n",
    "        out_put = ''.join(i for i in line)\n",
    "        print(out_put)\n",
    "f1(13)\n",
    "            "
   ]
  },
  {
   "cell_type": "code",
   "execution_count": 32,
   "id": "f6a5a4cd-eb86-456c-ba9b-c098bc99e697",
   "metadata": {},
   "outputs": [
    {
     "data": {
      "text/plain": [
       "12"
      ]
     },
     "execution_count": 32,
     "metadata": {},
     "output_type": "execute_result"
    }
   ],
   "source": [
    "c = [12,3,5]\n",
    "c[0]"
   ]
  },
  {
   "cell_type": "code",
   "execution_count": 34,
   "id": "437062ba-fc18-4387-bebb-684bf1f85d0b",
   "metadata": {},
   "outputs": [
    {
     "name": "stdout",
     "output_type": "stream",
     "text": [
      " 20 10 5 2 1\n",
      " 19 9 4 2 1\n",
      " 18 9 4 2 1\n",
      " 17 8 4 2 1\n",
      " 16 8 4 2 1\n",
      " 15 7 3 1\n",
      " 14 7 3 1\n",
      " 13 6 3 1\n",
      " 12 6 3 1\n",
      " 11 5 2 1\n",
      " 10 5 2 1\n",
      "  9 4 2 1\n",
      "  8 4 2 1\n",
      "  7 3 1\n",
      "  6 3 1\n",
      "  5 2 1\n",
      "  4 2 1\n",
      "  3 1\n",
      "  2 1\n",
      "  1\n"
     ]
    }
   ],
   "source": [
    "def f1(n):\n",
    "    k = int(n)\n",
    "    for j in range(n, 0 ,-1):\n",
    "        line = []\n",
    "        k = j\n",
    "        station = 0\n",
    "        out_put = ''\n",
    "        width_o = len(str(n))\n",
    "        width_n = []\n",
    "        line = [' '+f\"{k:>{width_o}}\"]\n",
    "        while k >1:\n",
    "           \n",
    "            if station == 0 :\n",
    "                k = k // 2\n",
    "                width_1 = len(str(k))\n",
    "                width_n.append(width_1)\n",
    "                line.append(' '+f\"{k:>{width_1}}\")\n",
    "                \n",
    "            else:\n",
    "                k = k // 2\n",
    "                v = station-1\n",
    "                line.append(' '+f\"{k:>{width_n[v]}}\")\n",
    "        station += 1\n",
    "        \n",
    "        out_put = ''.join(i for i in line)\n",
    "        print(out_put)\n",
    "f1(20)\n",
    "            "
   ]
  },
  {
   "cell_type": "code",
   "execution_count": 1,
   "id": "43256d49-393b-45fd-a0d7-c024a82b447b",
   "metadata": {},
   "outputs": [
    {
     "name": "stdout",
     "output_type": "stream",
     "text": [
      " 20 10 5 2 1\n",
      " 19  9 4 2 1\n",
      " 18  9 4 2 1\n",
      " 17  8 4 2 1\n",
      " 16  8 4 2 1\n",
      " 15  7 3 1\n",
      " 14  7 3 1\n",
      " 13  6 3 1\n",
      " 12  6 3 1\n",
      " 11  5 2 1\n",
      " 10  5 2 1\n",
      "  9  4 2 1\n",
      "  8  4 2 1\n",
      "  7  3 1\n",
      "  6  3 1\n",
      "  5  2 1\n",
      "  4  2 1\n",
      "  3  1\n",
      "  2  1\n",
      "  1\n"
     ]
    }
   ],
   "source": [
    "def f1(n):\n",
    "    k = int(n)\n",
    "    station = 0\n",
    "    width_n = []\n",
    "    for j in range(n, 0 ,-1):\n",
    "        line = []\n",
    "        k = j\n",
    "        out_put = ''\n",
    "        width_o = len(str(n))\n",
    "        \n",
    "        line = [' '+f\"{k:>{width_o}}\"]\n",
    "        v = 0\n",
    "        while k >1:\n",
    "           \n",
    "            if station == 0 :\n",
    "                k = k // 2\n",
    "                width_1 = len(str(k))\n",
    "                width_n.append(width_1)\n",
    "                line.append(' '+f\"{k:>{width_1}}\")\n",
    "                \n",
    "            else:\n",
    "                k = k // 2\n",
    "                line.append(' '+f\"{k:>{width_n[v]}}\")\n",
    "                v += 1\n",
    "        station += 1\n",
    "        \n",
    "        out_put = ''.join(i for i in line)\n",
    "        print(out_put)\n",
    "f1(20)\n",
    "            "
   ]
  },
  {
   "cell_type": "code",
   "execution_count": null,
   "id": "d08b1b10-8611-4d2d-b463-1c7aca8f1e89",
   "metadata": {},
   "outputs": [],
   "source": []
  },
  {
   "cell_type": "code",
   "execution_count": null,
   "id": "621d7ec7-941e-47e6-a86e-f556155f69d3",
   "metadata": {},
   "outputs": [],
   "source": []
  }
 ],
 "metadata": {
  "kernelspec": {
   "display_name": "Python 3 (ipykernel)",
   "language": "python",
   "name": "python3"
  },
  "language_info": {
   "codemirror_mode": {
    "name": "ipython",
    "version": 3
   },
   "file_extension": ".py",
   "mimetype": "text/x-python",
   "name": "python",
   "nbconvert_exporter": "python",
   "pygments_lexer": "ipython3",
   "version": "3.11.8"
  }
 },
 "nbformat": 4,
 "nbformat_minor": 5
}
